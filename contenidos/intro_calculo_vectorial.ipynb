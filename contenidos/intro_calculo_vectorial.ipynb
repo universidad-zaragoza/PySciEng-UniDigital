{
  "cells": [
    {
      "cell_type": "markdown",
      "metadata": {
        "id": "view-in-github",
        "colab_type": "text"
      },
      "source": [
        "<a href=\"https://colab.research.google.com/github/IrisFDTD/PySciEng-UniDigital/blob/main/contenidos/intro_calculo_vectorial.ipynb\" target=\"_parent\"><img src=\"https://colab.research.google.com/assets/colab-badge.svg\" alt=\"Open In Colab\"/></a>"
      ]
    },
    {
      "cell_type": "markdown",
      "source": [
        "<a rel=\"license\" href=\"http://creativecommons.org/licenses/by-nc-sa/4.0/\"><img alt=\"Licencia Creative Commons\" style=\"border-width:0\" src=\"https://i.creativecommons.org/l/by-nc-sa/4.0/88x31.png\" /></a><br /><span xmlns:dct=\"http://purl.org/dc/terms/\" property=\"dct:title\">Python en ciencias e ingeniería: tutoriales basados en ejemplos</span> por <span xmlns:cc=\"http://creativecommons.org/ns#\" property=\"cc:attributionName\">Sergio Gutiérrez Rodrigo y Adrián Navas Montilla</span> se distribuye bajo una <a rel=\"license\" href=\"http://creativecommons.org/licenses/by-nc-sa/4.0/\">Licencia Creative Commons Atribución-NoComercial-CompartirIgual 4.0 Internacional</a>."
      ],
      "metadata": {
        "id": "ZyYxarWXICGB"
      }
    },
    {
      "cell_type": "markdown",
      "source": [
        "![image.png](data:image/png;base64,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)"
      ],
      "metadata": {
        "id": "PeoQMxuT0vO1"
      }
    },
    {
      "cell_type": "markdown",
      "source": [
        "---\n",
        "Producción de contenidos educativos digitales UNIZAR 2022-2023\n",
        "\n",
        "**Objetos de aprendizaje abiertos del Vicerrectorado de Educación Digital y Formación Permanente de la Universidad de Zaragoza en el marco del Proyecto UniProducción incluido en el Plan UniDigital.**\n",
        "---\n",
        "\n"
      ],
      "metadata": {
        "id": "cU67irCkAoSz"
      }
    },
    {
      "cell_type": "markdown",
      "metadata": {
        "id": "N6JfZSJ8QwIZ"
      },
      "source": [
        "## <center> Introducción: cálculo vectorial utilizando Jupyter Notebook </center>\n",
        "\n",
        "\n",
        "-----------------------------------------\n"
      ]
    },
    {
      "cell_type": "markdown",
      "metadata": {
        "id": "aSiy-1OfbMrP"
      },
      "source": [
        "Esto es un cuaderno interactivo donde podemos añadir celdas de texto (como esta), o celdas de código (como la celda inferior). Las celdas de texto permiten escribir texto con *distintos* **formatos** y ecuaciones como esta:\n",
        "$$c=a·b$$\n",
        "Para editar una celda de texto basta con hacer doble click en ella. Las celdas de código permiten ejecutar código en lenguaje Python, por ejemplo, podemos asignar valores a las variables $a$ y $b$ de la fórmula anterior y calcular $c$, como si de una calculadora de tratara:"
      ]
    },
    {
      "cell_type": "code",
      "execution_count": null,
      "metadata": {
        "colab": {
          "base_uri": "https://localhost:8080/"
        },
        "id": "Pq0rCsdx87t1",
        "outputId": "dbafccee-4479-42ba-e807-bc5122baab1b"
      },
      "outputs": [
        {
          "output_type": "stream",
          "name": "stdout",
          "text": [
            "El resultado de a*b es: 6.0\n"
          ]
        }
      ],
      "source": [
        "a= 2.0\n",
        "b= 3.0\n",
        "c=a*b\n",
        "\n",
        "print(\"El resultado de a*b es:\",c) #la función print() permite mostrar\n",
        "                                   #por pantalla texto y variables numéricas o simbólicas"
      ]
    },
    {
      "cell_type": "markdown",
      "metadata": {
        "id": "NOWzXk4i9GSx"
      },
      "source": [
        "Lo primero que debemos hacer es cargar las librerías necesarias de Python. Como vamos a trabajar con cálculo simbólico y numérico cargaremos las librerías ```sympy``` y ```numpy```. Además, para hacer representaciones gráficas cargaremos la librería ```matplotlib```. En la siguiente celda de código se cargan estas librerías:"
      ]
    },
    {
      "cell_type": "code",
      "execution_count": null,
      "metadata": {
        "id": "GfNcnO-_8dyB"
      },
      "outputs": [],
      "source": [
        "from sympy import *             # Librería para trabajo simbólico\n",
        "import numpy as np              # Librería para cálculo numérico\n",
        "import math                     # Librería para utilizar símbolos matemáticos\n",
        "                                # como el número pi, que se escribe como math.pi\n",
        "import matplotlib.pyplot as plt # Librería para poder dibujar gráficas\n",
        "from IPython.display import display"
      ]
    },
    {
      "cell_type": "markdown",
      "metadata": {
        "id": "0mlYjcnOH9eD"
      },
      "source": [
        "### Aprendiendo a trabajar con vectores"
      ]
    },
    {
      "cell_type": "markdown",
      "metadata": {
        "id": "ZcT6ERtqAANY"
      },
      "source": [
        "Para definir un vector utilizaremos el comando ```Matrix()```. Vamos a definir dos vectores $\\vec{\\mathbf{u}}=(1,2,0)$ y $\\vec{\\mathbf{v}}=(3,3,1)$ de 3 componentes:"
      ]
    },
    {
      "cell_type": "code",
      "execution_count": null,
      "metadata": {
        "colab": {
          "base_uri": "https://localhost:8080/",
          "height": 147
        },
        "id": "7k113VZQ-4II",
        "outputId": "9273f17d-745b-484d-bd4d-521a2d13c428"
      },
      "outputs": [
        {
          "output_type": "stream",
          "name": "stdout",
          "text": [
            "El vector u es:\n"
          ]
        },
        {
          "output_type": "display_data",
          "data": {
            "text/plain": [
              "Matrix([[1, 2, 0]])"
            ],
            "text/latex": "$\\displaystyle \\left[\\begin{matrix}1 & 2 & 0\\end{matrix}\\right]$"
          },
          "metadata": {}
        },
        {
          "output_type": "stream",
          "name": "stdout",
          "text": [
            "Sus componentes son: 1 2 0\n",
            "\n",
            "El vector v es:\n"
          ]
        },
        {
          "output_type": "display_data",
          "data": {
            "text/plain": [
              "Matrix([[3, 3, 1]])"
            ],
            "text/latex": "$\\displaystyle \\left[\\begin{matrix}3 & 3 & 1\\end{matrix}\\right]$"
          },
          "metadata": {}
        },
        {
          "output_type": "stream",
          "name": "stdout",
          "text": [
            "Sus componentes son: 3 3 1\n"
          ]
        }
      ],
      "source": [
        "u=Matrix([[1,2,0]])\n",
        "v=Matrix([[3,3,1]])\n",
        "\n",
        "print(\"El vector u es:\")\n",
        "display(u)\n",
        "print(\"Sus componentes son:\",u[0],u[1],u[2])\n",
        "\n",
        "print(\"\\nEl vector v es:\")\n",
        "display(v)\n",
        "print(\"Sus componentes son:\",v[0],v[1],v[2])"
      ]
    },
    {
      "cell_type": "markdown",
      "metadata": {
        "id": "S11CikFTBJ9u"
      },
      "source": [
        "Podemos realizar facilmente el **producto escalar** entre ellos:\n",
        "\n",
        "$$w=\\vec{\\mathbf{u}}\\cdot\\vec{\\mathbf{v}}=(u_1,u_2,u_3)·\\left(\\begin{array}{c}\n",
        "v_1\\\\\n",
        "v_2\\\\\n",
        "v_3\n",
        "\\end{array}\n",
        "\\right)=u_1v_1+u_2v_2+u_3v_3=1·3+2·3+0·3=9$$\n",
        "\n",
        "de la siguiente manera:"
      ]
    },
    {
      "cell_type": "code",
      "execution_count": null,
      "metadata": {
        "colab": {
          "base_uri": "https://localhost:8080/"
        },
        "id": "GSvXze0lBOhr",
        "outputId": "afc77e36-41d1-4272-eccd-eb3582ebdc81"
      },
      "outputs": [
        {
          "output_type": "stream",
          "name": "stdout",
          "text": [
            "El producto escalar es:\n",
            "9\n"
          ]
        }
      ],
      "source": [
        "w=u.dot(v) #significa u multiplicado escalarmente por v\n",
        "print(\"El producto escalar es:\")\n",
        "print(w)"
      ]
    },
    {
      "cell_type": "code",
      "execution_count": null,
      "metadata": {
        "colab": {
          "base_uri": "https://localhost:8080/"
        },
        "id": "eb1MGWDQ8XMo",
        "outputId": "4355dc01-10a5-43c5-aec6-403f0c2998cd"
      },
      "outputs": [
        {
          "output_type": "stream",
          "name": "stdout",
          "text": [
            "(1, 3) (3, 1)\n",
            "El producto escalar es:\n",
            "[[9]]\n"
          ]
        }
      ],
      "source": [
        "import numpy as np\n",
        "u2=np.array(u)\n",
        "v2=np.array(v)\n",
        "v2=np.reshape(v2,(3,1))\n",
        "print(u2.shape,v2.shape)\n",
        "w2=u2@v2\n",
        "print(\"El producto escalar es:\")\n",
        "print(w2)"
      ]
    },
    {
      "cell_type": "markdown",
      "metadata": {
        "id": "DhHgH6DzK1sO"
      },
      "source": [
        "Observando que el producto vectorial da como resultado un **escalar**, ya que:\n",
        "\n",
        "$$w=\\vec{\\mathbf{u}}\\cdot\\vec{\\mathbf{v}}=\n",
        "|\\vec{\\mathbf{u}}| |\\vec{\\mathbf{v}}| \\cos \\theta$$\n",
        "\n",
        "donde $\\theta$ es el ángulo entre los vectores.\n"
      ]
    },
    {
      "cell_type": "markdown",
      "metadata": {
        "id": "kgFlQ8WoD41g"
      },
      "source": [
        "También podemos calcular el **producto vectorial**\n",
        "\n",
        "$$\\vec{\\mathbf{w}}=\\vec{\\mathbf{u}}\\times\\vec{\\mathbf{v}}=\\left(\n",
        "\\begin{array}{c}\n",
        "u_2v_3-v_2u_3\\\\\n",
        "v_1u_3-u_1v_3\\\\\n",
        "u_1v_2-v_1u_2\n",
        "\\end{array}\n",
        "\\right)=\\left(\n",
        "\\begin{array}{c}\n",
        "2·1-3·0\\\\\n",
        "3·0-1·1\\\\\n",
        "1·3-3·2\n",
        "\\end{array}\n",
        "\\right)\n",
        "$$\n",
        "\n",
        " de la siguiente manera:"
      ]
    },
    {
      "cell_type": "code",
      "execution_count": null,
      "metadata": {
        "colab": {
          "base_uri": "https://localhost:8080/",
          "height": 56
        },
        "id": "sNgCIWX4BK0M",
        "outputId": "03ac00ce-a6c5-4276-87d6-c51b7e3dcecd"
      },
      "outputs": [
        {
          "output_type": "stream",
          "name": "stdout",
          "text": [
            "El producto vectorial es:\n"
          ]
        },
        {
          "output_type": "display_data",
          "data": {
            "text/plain": [
              "Matrix([[2, -1, -3]])"
            ],
            "text/latex": "$\\displaystyle \\left[\\begin{matrix}2 & -1 & -3\\end{matrix}\\right]$"
          },
          "metadata": {}
        }
      ],
      "source": [
        "w=u.cross(v) #significa u multiplicado vectorialmente por v\n",
        "print(\"El producto vectorial es:\")\n",
        "display(w)"
      ]
    },
    {
      "cell_type": "markdown",
      "metadata": {
        "id": "fLBPfIzYHkDv"
      },
      "source": [
        "Observando que el producto vectorial da como resultado un **vector**. Recordad que la dirección de $\\vec{\\mathbf{w}}$ será la del vector ortogonal a los vectores $\\vec{\\mathbf{u}}$ y $\\vec{\\mathbf{v}}$ según la regla de la mano derecha:\n",
        "\n",
        " <img src=\"https://upload.wikimedia.org/wikipedia/commons/7/71/Producto_vectorial_2.png\"  width=\"200\">\n"
      ]
    },
    {
      "cell_type": "markdown",
      "metadata": {
        "id": "JCBnz5YbHtT5"
      },
      "source": [
        "### Introducción al cálculo diferencial con funciones de varias variables: gradiente"
      ]
    },
    {
      "cell_type": "markdown",
      "metadata": {
        "id": "VEl6BE5sVV-W"
      },
      "source": [
        "En este apartado vamos a aprender a definir funciones, calcular sus derivadas, etc. Consideremos la siguiente función correspondiente a un campo escalar de potencial electrostático en 2 dimensiones:\n",
        "\n",
        "$$ ϕ(x,y) = x^2 + y^2 + 10 $$\n"
      ]
    },
    {
      "cell_type": "markdown",
      "metadata": {
        "id": "Qzy_kkCCQwIa"
      },
      "source": [
        "Las variables $x$ e $y$ de las que depende la función debemos declararlas como variables simbólicas, ya que todavía no les hemos asignado un valor numérico\n"
      ]
    },
    {
      "cell_type": "code",
      "execution_count": null,
      "metadata": {
        "id": "RD95nI8bOUBN"
      },
      "outputs": [],
      "source": [
        "x,y=symbols('x y') #Declaramos x e y como variable simbólica:\n",
        "                   #nos permite \"arrastrarla\" como un símbolo hasta que decidamos darle valor."
      ]
    },
    {
      "cell_type": "markdown",
      "metadata": {
        "id": "8AvbXS2GOUXV"
      },
      "source": [
        "Para definir la función $\\phi(x,y)$ haremos lo siguiente:"
      ]
    },
    {
      "cell_type": "code",
      "execution_count": null,
      "metadata": {
        "id": "pMFLnRC7QwIb"
      },
      "outputs": [],
      "source": [
        "def phi(x,y):\n",
        "    return  x**2+y**2+10"
      ]
    },
    {
      "cell_type": "markdown",
      "metadata": {
        "id": "jyk2UBpkamnI"
      },
      "source": [
        "Y para evaluarla en un punto (p. ej en $x=1.7$ y $y=1.5$), podemos hacerlo de dos maneras distintas:"
      ]
    },
    {
      "cell_type": "code",
      "execution_count": null,
      "metadata": {
        "colab": {
          "base_uri": "https://localhost:8080/"
        },
        "id": "m5wwc2ycapRH",
        "outputId": "14632466-bc7d-4a23-afb5-ba5e221114b5"
      },
      "outputs": [
        {
          "output_type": "stream",
          "name": "stdout",
          "text": [
            "15.14\n",
            "15.1400000000000\n"
          ]
        }
      ],
      "source": [
        "#Opcion 1\n",
        "print(phi(1.7,1.5))\n",
        "#Opcion 2\n",
        "print(phi(x,y).subs([(x,1.7),(y,1.5)]))"
      ]
    },
    {
      "cell_type": "markdown",
      "metadata": {
        "id": "J92b_iVqWR6p"
      },
      "source": [
        "Antes de continuar, vamos a hacer una representación gráfica de esta función en el dominio espacial $[0,2]\\times[0,2]$"
      ]
    },
    {
      "cell_type": "code",
      "execution_count": null,
      "metadata": {
        "colab": {
          "base_uri": "https://localhost:8080/",
          "height": 314
        },
        "id": "tQXWxcZxWSyS",
        "outputId": "91c44d30-4860-4917-9008-82d36b6f3a62"
      },
      "outputs": [
        {
          "output_type": "execute_result",
          "data": {
            "text/plain": [
              "<matplotlib.colorbar.Colorbar at 0x7fad7befefd0>"
            ]
          },
          "metadata": {},
          "execution_count": 10
        },
        {
          "output_type": "display_data",
          "data": {
            "text/plain": [
              "<Figure size 432x288 with 2 Axes>"
            ],
            "image/png": "[encoded data removed]"
          },
          "metadata": {
            "needs_background": "light"
          }
        }
      ],
      "source": [
        "L=2                           #longitud del dominio\n",
        "N = 100                       #espaciado entre puntos\n",
        "xp = np.linspace(0, L, N)     #puntos en x\n",
        "yp = np.linspace(0, L, N)     #puntos en y\n",
        "X, Y = np.meshgrid(xp, yp)    #matriz de puntos\n",
        "Z = phi(X,Y)                    #valores de phi(x,y) en los puntos\n",
        "\n",
        "fig, ax = plt.subplots()      #genera el objeto \"figura\"\n",
        "CS = ax.contourf(X, Y, Z)     #hace la representación gráfica\n",
        "\n",
        "#Esto es para configurar ejes, barra de color, etiquetas, etc...\n",
        "ax.clabel(CS, inline=True, fontsize=10, colors='black')\n",
        "ax.set_title('Potencial $\\phi(x,y)$')\n",
        "ax.set_xlabel(\"x\")\n",
        "ax.set_ylabel(\"y\")\n",
        "fig.colorbar(CS)"
      ]
    },
    {
      "cell_type": "markdown",
      "metadata": {
        "id": "OKM8PFIkhWFO"
      },
      "source": [
        "También podemos hacer gráficas en una dimensión (más sencillas). Por ejemplo, podemos representar $\\phi(x,y)$ a lo largo del eje $x$ (es decir, haciendo $y=0$):"
      ]
    },
    {
      "cell_type": "code",
      "execution_count": null,
      "metadata": {
        "colab": {
          "base_uri": "https://localhost:8080/",
          "height": 296
        },
        "id": "v23I34l2hkG2",
        "outputId": "b1363667-2a87-43b3-f7b3-a2843371c861"
      },
      "outputs": [
        {
          "output_type": "execute_result",
          "data": {
            "text/plain": [
              "Text(0, 0.5, '$\\\\phi(x,0)$')"
            ]
          },
          "metadata": {},
          "execution_count": 11
        },
        {
          "output_type": "display_data",
          "data": {
            "text/plain": [
              "<Figure size 432x288 with 1 Axes>"
            ],
            "image/png": "[encoded data removed]"
          },
          "metadata": {
            "needs_background": "light"
          }
        }
      ],
      "source": [
        "L=2                           #longitud del dominio\n",
        "N = 100                       #espaciado entre puntos\n",
        "xp = np.linspace(0, L, N)     #puntos en x\n",
        "pot = phi(xp,0.0)\n",
        "\n",
        "fig, ax  = plt.subplots() #genera el objeto \"figura\"\n",
        "ax.plot(xp,pot)          #pinta la gráfica\n",
        "ax.set_xlabel(\"x\")\n",
        "ax.set_ylabel(\"$\\phi(x,0)$\")\n",
        "\n"
      ]
    },
    {
      "cell_type": "markdown",
      "metadata": {
        "id": "19Nm3O4TQk1d"
      },
      "source": [
        "### Gradiente"
      ]
    },
    {
      "cell_type": "markdown",
      "metadata": {
        "id": "p4Y8KgY-OeGF"
      },
      "source": [
        "Ahora vamos a aprender a calcular una derivada parcial de una función. En este caso calcularemos las derivadas parciales de $\\phi(x,y)$ respecto de $x$ e $y$:\n",
        "\n",
        "$$\\frac{\\partial \\phi(x,y)}{\\partial x} \\hbox{     y     } \\frac{\\partial \\phi(x,y)}{\\partial y}$$\n",
        "\n",
        "para ello, utilizamos el método ```diff()``` :"
      ]
    },
    {
      "cell_type": "code",
      "execution_count": null,
      "metadata": {
        "colab": {
          "base_uri": "https://localhost:8080/"
        },
        "id": "eHSHHUCLOefF",
        "outputId": "51f9a18c-7d06-4cc3-90c5-a919d7adac43"
      },
      "outputs": [
        {
          "output_type": "stream",
          "name": "stdout",
          "text": [
            "La derivada de $\\phi$ respecto de x es= 2*x\n",
            "La derivada de $\\phi$ respecto de y es = 2*y\n"
          ]
        }
      ],
      "source": [
        "dphidx = phi(x,y).diff(x) #calcula la derivada parcial respecto a x\n",
        "dphidy = phi(x,y).diff(y) #calcula la derivada parcial respecto a y\n",
        "\n",
        "print('La derivada de $\\phi$ respecto de x es=',dphidx)\n",
        "print(\"La derivada de $\\phi$ respecto de y es =\",dphidy)"
      ]
    },
    {
      "cell_type": "markdown",
      "metadata": {
        "id": "_SgQId7QQwIc"
      },
      "source": [
        "Dado que $\\phi(x,y)$ es un campo escalar en dos dimensiones, es muy útil el uso del **gradiente** para calcular variaciones en el plano $x,y$ y direcciones de máxima variación. El gradiente de $\\phi(x,y)$ es un vector en cuyas componentes tenemos las derivadas de $\\phi$ respecto de las distintas coordenadas espaciales:\n",
        "\n",
        "$$\\nabla \\phi(x,y)=\\left(\\begin{array}{c}\n",
        "\\frac{\\partial \\phi(x,y)}{\\partial x}\\\\\n",
        "\\frac{\\partial \\phi(x,y)}{\\partial y}\n",
        "\\end{array}\n",
        "\\right)$$\n",
        "\n",
        "donde $\\nabla$ es el operador nabla. Vamos a construir el gradiente de $\\phi$:"
      ]
    },
    {
      "cell_type": "code",
      "execution_count": null,
      "metadata": {
        "colab": {
          "base_uri": "https://localhost:8080/",
          "height": 56
        },
        "id": "S4iTl56uOVAQ",
        "outputId": "dbe40ab4-9b7f-4b6c-ca28-1c4d2543f0d7"
      },
      "outputs": [
        {
          "output_type": "stream",
          "name": "stdout",
          "text": [
            "El vector gradiente de $\\phi(x,y)$ es:\n"
          ]
        },
        {
          "output_type": "display_data",
          "data": {
            "text/plain": [
              "Matrix([[2*x, 2*y]])"
            ],
            "text/latex": "$\\displaystyle \\left[\\begin{matrix}2 x & 2 y\\end{matrix}\\right]$"
          },
          "metadata": {}
        }
      ],
      "source": [
        "gradphi=Matrix([[dphidx,dphidy]]) #dphidx y dphidy las hemos calculado en la\n",
        "                                  #celda de código anterior\n",
        "\n",
        "print(\"El vector gradiente de $\\phi(x,y)$ es:\")\n",
        "display(gradphi)"
      ]
    },
    {
      "cell_type": "markdown",
      "metadata": {
        "id": "b9n9-vLLVrq9"
      },
      "source": [
        "Ahora vamos a representar el gradiente (que es un campo vectorial) sobre la representación gráfica del potencial:"
      ]
    },
    {
      "cell_type": "code",
      "execution_count": null,
      "metadata": {
        "colab": {
          "base_uri": "https://localhost:8080/",
          "height": 314
        },
        "id": "FA3gJpSrVr_2",
        "outputId": "5dc1965e-f0a4-4aed-dc76-d9db1b882887"
      },
      "outputs": [
        {
          "output_type": "execute_result",
          "data": {
            "text/plain": [
              "<matplotlib.colorbar.Colorbar at 0x7fad7b58d650>"
            ]
          },
          "metadata": {},
          "execution_count": 14
        },
        {
          "output_type": "display_data",
          "data": {
            "text/plain": [
              "<Figure size 432x288 with 2 Axes>"
            ],
            "image/png": "[encoded data removed]"
          },
          "metadata": {
            "needs_background": "light"
          }
        }
      ],
      "source": [
        "L=2                           #longitud del dominio\n",
        "N = 100                       #espaciado entre puntos\n",
        "nq=10\n",
        "\n",
        "xp = np.linspace(0, L, N)     #puntos en x\n",
        "yp = np.linspace(0, L, N)     #puntos en y\n",
        "X, Y = np.meshgrid(xp, yp)    #matriz de puntos\n",
        "Z = phi(X,Y)                    #valores de T(x,y) en los puntos\n",
        "\n",
        "Gx=np.zeros((len(yp),len(xp)))\n",
        "Gy=np.zeros((len(yp),len(xp)))\n",
        "for i in range(0,len(xp)):\n",
        "    for j in range(0,len(yp)):\n",
        "        Gx[j][i] = dphidx.subs([(x,xp[i]),(y,yp[j])])\n",
        "        Gy[j][i] = dphidy.subs([(x,xp[i]),(y,yp[j])])\n",
        "\n",
        "fig, ax = plt.subplots()      #genera el objeto \"figura\"\n",
        "CS = ax.contourf(X, Y, Z)     #hace la representación gráfica\n",
        "QV = ax.quiver(X[::nq,::nq], Y[::nq,::nq], Gx[::nq,::nq], Gy[::nq,::nq])\n",
        "\n",
        "#Esto es para configurar ejes, barra de color, etiquetas, etc...\n",
        "ax.clabel(CS, inline=True, fontsize=10, colors='black')\n",
        "ax.set_title('Potencial $\\phi(x,y)$')\n",
        "ax.set_xlabel(\"x\")\n",
        "ax.set_ylabel(\"y\")\n",
        "fig.colorbar(CS)"
      ]
    },
    {
      "cell_type": "markdown",
      "metadata": {
        "id": "RCXSygHutKDj"
      },
      "source": [
        "Como vemos en la figura anterior, el gradiente muestra la dirección de máxima variación de $\\phi(x,y)$.\n",
        "\n",
        "**Derivada direccional**. Si queremos calcular la variación de  $\\phi(x,y)$ en una dirección $\\hat{\\mathbf{n}}$ cualquiera, lo haremos mediante la derivada direccional, que es el producto escalar:\n",
        "\n",
        "$$D_{\\hat{\\mathbf{n}}}\\phi(x,y)=\\hat{\\mathbf{n}}\\cdot\\nabla \\phi(x,y)$$\n",
        "\n",
        "Vamos a calcular la derivada direccional de $\\phi(x,y)$ en el punto $(1,0)$ en las direcciones $\\hat{\\mathbf{n}}_1=(1,0)$, $\\hat{\\mathbf{n}}_2=(0,1)$ y $\\hat{\\mathbf{n}}_3=(1/\\sqrt{2},1/\\sqrt{2})$"
      ]
    },
    {
      "cell_type": "code",
      "execution_count": null,
      "metadata": {
        "colab": {
          "base_uri": "https://localhost:8080/",
          "height": 212
        },
        "id": "tc6tA-x-tJPD",
        "outputId": "4674d045-cf01-4a83-c8bb-0252103a51b7"
      },
      "outputs": [
        {
          "name": "stdout",
          "output_type": "stream",
          "text": [
            "El gradiente en (1,0) es\n"
          ]
        },
        {
          "data": {
            "text/latex": [
              "$\\displaystyle \\left[\\begin{matrix}2.0 & 0\\end{matrix}\\right]$"
            ],
            "text/plain": [
              "Matrix([[2.0, 0]])"
            ]
          },
          "metadata": {},
          "output_type": "display_data"
        },
        {
          "name": "stdout",
          "output_type": "stream",
          "text": [
            "\n",
            "La derivada direccional en direccion n1 es:\n",
            "2.00000000000000\n",
            "\n",
            "La derivada direccional en direccion n2 es:\n",
            "0\n",
            "\n",
            "La derivada direccional en direccion n3 es:\n",
            "1.41421356237309\n"
          ]
        }
      ],
      "source": [
        "#definimos coordenadas del punto\n",
        "xp=1.0\n",
        "yp=0.0\n",
        "\n",
        "#evaluamos el gradiente en el punto (xp,yp) dado\n",
        "gradphipunto=gradphi.subs([(x,xp),(y,yp)])\n",
        "print(\"El gradiente en (1,0) es\")\n",
        "display(gradphipunto)\n",
        "\n",
        "#definimos el vector n=(1,0)\n",
        "n1=Matrix([[1,0]])\n",
        "n2=Matrix([[0,1]])\n",
        "n3=Matrix([[1/np.sqrt(2),1/np.sqrt(2)]])\n",
        "\n",
        "#calculamos la derivada direccional\n",
        "dTn1=n1.dot(gradphipunto)\n",
        "dTn2=n2.dot(gradphipunto)\n",
        "dTn3=n3.dot(gradphipunto)\n",
        "print(\"\\nLa derivada direccional en direccion n1 es:\")\n",
        "print(dTn1)\n",
        "print(\"\\nLa derivada direccional en direccion n2 es:\")\n",
        "print(dTn2)\n",
        "print(\"\\nLa derivada direccional en direccion n3 es:\")\n",
        "print(dTn3)\n"
      ]
    },
    {
      "cell_type": "markdown",
      "metadata": {
        "id": "pu0oxbEfkFvn"
      },
      "source": [
        "### Divergencia y rotacional de un campo vectorial"
      ]
    },
    {
      "cell_type": "markdown",
      "metadata": {
        "id": "bWQh_mhPBQtf"
      },
      "source": [
        "La divergencia de un campo $\\vec F$ se calcula como el producto escalar del operador Nabla por el campo, que da lugar a un valor escalar:\n",
        " $$ \\nabla \\cdot \\vec{\\mathbf{v}}= \\frac{\\partial F_x}{\\partial x}+\\frac{\\partial F_y}{\\partial y}+\\frac{\\partial F_z}{\\partial z}$$\n",
        "\n",
        "y el rotacional como el producto vectorial del operador Nabla por el campo:\n",
        " $$\n",
        "\\nabla \\times \\vec{\\mathbf{\\vec F}}=\\begin{bmatrix}{\\frac {\\partial F_z}{\\partial y}}-{\\frac {\\partial F_y}{\\partial z}}\\\\{\\frac {\\partial F_x}{\\partial z}}-{\\frac {\\partial F_z}{\\partial x}}\\\\{\\frac {\\partial F_y}{\\partial x}}-{\\frac {\\partial F_x}{\\partial y}}\\end{bmatrix}\n",
        " $$\n",
        "\n",
        " Vamos a trabajar con el siguiente campo vectorial:\n",
        "\n",
        "  $$ \\vec{\\mathbf{F}}= (2y^2,0,0)$$\n",
        "\n",
        "y calcular la divergencia y el rotacional:"
      ]
    },
    {
      "cell_type": "code",
      "execution_count": null,
      "metadata": {
        "colab": {
          "base_uri": "https://localhost:8080/",
          "height": 82
        },
        "id": "D4_uc_iZBQG_",
        "outputId": "2d8d91a4-753d-4c43-8a59-222c34277efe"
      },
      "outputs": [
        {
          "name": "stdout",
          "output_type": "stream",
          "text": [
            "La divergencia del flujo es 0\n",
            "El rotacional del flujo es:\n"
          ]
        },
        {
          "data": {
            "text/latex": [
              "$\\displaystyle \\left[\\begin{matrix}0 & 0 & - \\frac{1}{\\sqrt{y}}\\end{matrix}\\right]$"
            ],
            "text/plain": [
              "Matrix([[0, 0, -1/sqrt(y)]])"
            ]
          },
          "metadata": {},
          "output_type": "display_data"
        }
      ],
      "source": [
        "x,y,z,t=symbols('x y z t')\n",
        "F=Matrix([[2*sqrt(y),0,0]])\n",
        "\n",
        "Fx=F[0]\n",
        "Fy=F[1]\n",
        "Fz=F[2]\n",
        "\n",
        "dFxdx = Fx.diff(x)\n",
        "dFydy = Fy.diff(y)\n",
        "dFzdz = Fz.diff(z)\n",
        "\n",
        "divF = dFxdx + dFydy+ dFzdz\n",
        "\n",
        "print(\"La divergencia del flujo es\",divF)\n",
        "\n",
        "dFxdy = Fx.diff(y)\n",
        "dFxdz = Fx.diff(z)\n",
        "\n",
        "dFydx = Fy.diff(x)\n",
        "dFydz = Fy.diff(z)\n",
        "\n",
        "dFzdx = Fz.diff(x)\n",
        "dFzdy = Fz.diff(y)\n",
        "\n",
        "rot_x = dFzdy - dFydz\n",
        "rot_y = dFxdz - dFzdx\n",
        "rot_z = dFydx - dFxdy\n",
        "\n",
        "rotF=Matrix([[rot_x,rot_y,rot_z]])\n",
        "\n",
        "print(\"El rotacional del flujo es:\")\n",
        "display(simplify(rotF))"
      ]
    },
    {
      "cell_type": "markdown",
      "metadata": {
        "id": "ws69PgRAEu5G"
      },
      "source": [
        "Podemos ver que la divergencia cero, pero el campo tiene rotacional distinto de cero."
      ]
    },
    {
      "cell_type": "markdown",
      "metadata": {
        "id": "86IItH6ILP1D"
      },
      "source": [
        "La representación vectorial del $\\nabla \\times \\vec{\\mathbf{\\vec F}}$ se puede hacer de la siguiente forma:"
      ]
    },
    {
      "cell_type": "code",
      "execution_count": null,
      "metadata": {
        "colab": {
          "base_uri": "https://localhost:8080/",
          "height": 316
        },
        "id": "Z9mGtCWaE96N",
        "outputId": "0e81b1d2-12eb-475f-b124-5fe2bcccd3a3"
      },
      "outputs": [
        {
          "data": {
            "text/plain": [
              "Text(0, 0.5, 'y')"
            ]
          },
          "execution_count": 22,
          "metadata": {},
          "output_type": "execute_result"
        },
        {
          "data": {
            "image/png": "[encoded data removed]",
            "text/plain": [
              "<Figure size 432x288 with 1 Axes>"
            ]
          },
          "metadata": {
            "needs_background": "light"
          },
          "output_type": "display_data"
        }
      ],
      "source": [
        "L=2                           #longitud del dominio\n",
        "N = 50                       #espaciado entre puntos\n",
        "nq=5\n",
        "\n",
        "xp = np.linspace(0, L, N)     #puntos en x\n",
        "yp = np.linspace(0, L, N)     #puntos en y\n",
        "X, Y = np.meshgrid(xp, yp)    #matriz de puntos\n",
        "\n",
        "vx=np.zeros((len(yp),len(xp)))\n",
        "vy=np.zeros((len(yp),len(xp)))\n",
        "for i in range(0,len(xp)):\n",
        "    for j in range(0,len(yp)):\n",
        "        vx[j][i] = F[0].subs([(x,xp[i]),(y,yp[j])])\n",
        "        vy[j][i] = F[1].subs([(x,xp[i]),(y,yp[j])])\n",
        "\n",
        "fig, ax = plt.subplots()      #genera el objeto \"figura\"\n",
        "QV2= ax.quiver(X[::nq,::nq], Y[::nq,::nq], vx[::nq,::nq], vy[::nq,::nq],color=\"r\")\n",
        "\n",
        "#Esto es para configurar ejes, barra de color, etiquetas, etc...\n",
        "ax.set_title(r'$\\nabla\\times\\vec{\\mathbf{\\vec F}}$')\n",
        "ax.set_xlabel(\"x\")\n",
        "ax.set_ylabel(\"y\")"
      ]
    }
  ],
  "metadata": {
    "colab": {
      "provenance": [],
      "toc_visible": true,
      "include_colab_link": true
    },
    "kernelspec": {
      "display_name": "Python 3",
      "language": "python",
      "name": "python3"
    },
    "language_info": {
      "codemirror_mode": {
        "name": "ipython",
        "version": 3
      },
      "file_extension": ".py",
      "mimetype": "text/x-python",
      "name": "python",
      "nbconvert_exporter": "python",
      "pygments_lexer": "ipython3",
      "version": "3.7.6"
    }
  },
  "nbformat": 4,
  "nbformat_minor": 0
}