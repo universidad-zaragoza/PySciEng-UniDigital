{
  "cells": [
    {
      "cell_type": "markdown",
      "metadata": {
        "id": "view-in-github",
        "colab_type": "text"
      },
      "source": [
        "<a href=\"https://colab.research.google.com/github/IrisFDTD/PySciEng-UniDigital/blob/main/contenidos/TTyFTC_1.ipynb\" target=\"_parent\"><img src=\"https://colab.research.google.com/assets/colab-badge.svg\" alt=\"Open In Colab\"/></a>"
      ]
    },
    {
      "cell_type": "markdown",
      "metadata": {
        "id": "ZyYxarWXICGB"
      },
      "source": [
        "<a rel=\"license\" href=\"http://creativecommons.org/licenses/by-nc-sa/4.0/\"><img alt=\"Licencia Creative Commons\" style=\"border-width:0\" src=\"https://i.creativecommons.org/l/by-nc-sa/4.0/88x31.png\" /></a><br /><span xmlns:dct=\"http://purl.org/dc/terms/\" property=\"dct:title\">Python en ciencias e ingeniería: tutoriales basados en ejemplos</span> por <span xmlns:cc=\"http://creativecommons.org/ns#\" property=\"cc:attributionName\">Sergio Gutiérrez Rodrigo y Adrián Navas Montilla</span> se distribuye bajo una <a rel=\"license\" href=\"http://creativecommons.org/licenses/by-nc-sa/4.0/\">Licencia Creative Commons Atribución-NoComercial-CompartirIgual 4.0 Internacional</a>."
      ]
    },
    {
      "cell_type": "markdown",
      "source": [
        "![image.png](data:image/png;base64,iVBORw0KGgoAAAANSUhEUgAAAW4AAACKCAIAAAAFYjf4AAAgAElEQVR4nO2deVwUR/r/H84BHAFBuRQURRCPlSMrJEbjhYi6AZIAG+OFZD3QjSZsJC8luvpD1zvgepBdkQXU7IBZMAeofEENKqAyaBSQw+A1E0FnwjHC9ADTvz8eLJsexGsCY1LvF39091RXVzVTn6l6qup59FiWBQqFQnk59Hu7ABQK5bcAlRIKhaIFqJRQKBQtQKWEQqFoASolFApFC1ApoVAoWoBKCYVC0QJUSigUihagUkKhULQAlRIKhaIFqJRQKBQtQKWEQqFoASolFApFC1ApoVAoWoBKCYVC0QJUSigUihagUkKhULQAlRIKhaIFqJRQKBQtQKWEQqFoASolFApFC1ApoVAoWoBKCYVC0QJUSigUihagUkKhULQAlRIKhaIFqJRQKBQtQKWEQqFoASolFApFC1ApoVAoWsCwdx/f0NLqFpFUW1wHgp4VNUY9b8HY2L+85TTAvEefS6H8RtFjWbbnn9rQ0so9/b/imh4uwGDrPq+5D+QVw8LUqIeLQaH8ZugdKfFecUh8txH0WADQNzQYYNQL46xaro40qdbN8dqw6K2eLwYXhUIhFAp7twy9S0pKCgD4+vq6urr2biaU56V3pKTstmxUSCLYmPb8o7tA0bpunvevqiPx8fHnz59XqVSpqalELORyeUREhLGx8axZs+bPnz99+vScnJyMjIygoKBfryQ6jp6eHgCIRKLQ0NCXzOTAgQMRERFaKxnlafSOrWSkk/W2lW8ePF3VK0/nsWjS8E/nvPGrPmLMmDGrVq0CgPz8/ICAALz4ww8/ZGZmAkB0dDTDMDk5OQBQWlqqa1KSlpZ25syZ2bNnk5L/2hgbG798JkZGdLjao/Sa2fXTOW/82g1Ydxg/fjwepKenkwb51Vdf4YGXlxcAVFVVXbt2Tdd0BADCwsIAYPbs2b1dEIpO08szOL8TBAJBeHh4UlLS999/zzCMQCBgGCYtLQ0A1q1bh2nEYrFSqSwsLPT19SU3FhYWVlZWAsCAAQOIBonF4mvXrgHA6NGjUYYYhjl06BAAzJ0799atW/n5+REREYWFhaWlpaNGjfL19U1LS3NxccHECoUiPz9fKpX27dt32rRpVlZW3KJi5q2trdbW1hMnTszIyMDrubm5Uqk0ODgY08vl8h9++EEmk2EykkleXl5NTY2np+eoUaNEIhEaLORyeVFR0f379wHA1dWVW0F8YklJSd++fWfOnKn56rgPmjZt2pNsSZWVlfn5+UZGRih8PKRS6dmzZ5uampydncePHy8QCLr7b1FeDJbSI5A2WVFRwbJscXExnhYXF2MCZ2dnAIiOjsbTiooKvML9TymVSl63haTH0+TkZJIYj6Ojo/38/AAgLi6O+1xCQUEB5iCTyTAlQSKR8BJXVVVx60LIyMjATOLi4gAgNjbWw8MDrzc1NfES+/j4KJVKTE+UFABIfUlupDqErKwszXeLD0VsbGzIq9D8FAA8PDyampq0+r+lsCzL6paUzNv0DUzdte3wOTxd/kU2TN21LvE0nm47fA6m7pq36Rs8Tci8BFN3Ba49iqcXy+5C0B7b97+slvzCsmzprQe2739p+/6XpbcesCyrVCoD1x6FqbsSMi/1dK1YlmVZmUyGX+UDBw6wLBsbG4vfe5IA2966detYluU2v7i4uOTkZGwYkZGRABAUFFRVVUVEITc3l9WwnbMsKxKJuFeSk5OVSiUpg0QiIW0MGzYWAMsgEoni4uKUSiVRjdjY2KysrKampqqqDgtXeHh4RUUFsY+iyvBaNYpCXFxcRUWFTCYrKCgglWJZlpyGhoaKRCIfHx+ulJAKRkVFVVRUEA2VSCTcF1tRUYHXg4KCRCIRUUN8Y7m5uViSgoICiUSCmURGRvbMP/13hQ5JySlxDby5HYL2wLit9c2qi2V34Y1teHqrroFlWRi3FYL2wJvbT4lrOk4D98Kb24/mV7As67U8FWbGE+kJXHsUZsTBjDiUnu9/KIM3t0PgXhi3tbcqiN9yHx8flmXxxxOFA+FKCfk1Jn0WlqMvWVlZVVVVVVVVUVFRpGGQn1ySnkgJ+SXHbH18fKqqqioqKogoFBcXk3YrEol4xeZlQvoRKEBEIlEdiJSQzg7LskqlMjk5OTIykogFljk8PBw4ekoqiFKCukk+JV0k1GJCdHQ0XucVGKUEtWPdunX4xogykm4RRVvomK1EYAAAYGbYoGgBADA1xNPWVjUAgLH+4zR4qsc+PgUAfT0w0heaGAFAs6odDPVBzTY2qx5nrseCoV6P1KQL5s6dm5OTU1RUVF1dXVdXBwCBgYFdpiwrK8MDtG4gaDQBAJ5NgSgCAKxYsUIzN2Jk+fHHHwGgqKho+PDh3AT19fUPHjzoMnNNMBM/Pz+0OFhZWTk7O9fU1Fy5coWbjBhEpFLpwIED8TgoKMjGxqaurq6lpQU/AoB58+bhpzw7CNZr0qRJeOrg4IAH5eXl3GQ1NTUAgKqkCc6Rbdy4cePGjdzrDx8+pBYT7aJjUgIArB60qTuO21lgOS1f3d1ps6qdn5VaY8kM22s6AgDTpk3DA+wvODs7c5WCi729PR5IpVLShMzNO9b4x8XFubq6MgyDp3Z2ds9YgH79+gGAu7v7zp07ye0qlcrDw+Py5ct4euHChSlTpnSTCZanuroaTxmGwcY8bNiwLtPHxMQAgI+Pz5kzZwQCQVhYGNqbAcDU1BQAzp49i6cKhYJ746BBg4AjoORTR0dHbrI+ffoAQElJSZdPR+UKDw8PCQkhVQYAnrGZ8vLo2Ha+ljZQMKBSWwhNAQCa20DBQHObES6HbWNBwUBLW0fizqdmxgbQ0gbKdoXy0TLW5jZobjM3M36cOdMKbb2wJA9xcHDAHj62LvJrrMmECRPw4J133sFJnMLCQhcXF7x4+vTpYcOGTZs2bdy4cU5OTrwJkW7A7kl5eXllZeW4ceOmTZs2evRoDw8PKyurcePGYZr3338/Ozu7uro6Ly+Pe298fHxhYSHDMO+++y4A1NTUJCYmAsCOHTu4mWty9+5dADA3NxcIBJWVlURH4NEEc1FR0aZNm8Ri8UcffcS98e233waAy5cv4y3bt2/v8kEzZszAZJ999plYLF6+fDn3U8zz+++/FwgEEydOnDhxopOT08SJE5/xjVGeg94eYXWivllV36wi41g8rW9W4alSqezmlKTv/rR3B8lcqyTXDsKyrLu7O3CsJ2iX5f2niImRC5oh8ZhrR+DO5hC4MyYI2m7YruZl8F1xxw5oW9UcTaChhFtB8sQDBw5oljk8PJxlWaVSibXmFgY4Mziaa155hhKEmGAQtEmRGRxiTiaQjyhaRLcGOLwNdbxTQefRrUBjsNv97bqwWy8kJOT06dP9+vV7+PAhb3QzefLkMWPGODk54enatWsDAgLS0tLQqjJ27FgAcHV1lclkGRkZ586dAwBTU1NXV1cTExMACAoKMjY2tra2JhkOGjQoNDRUpVJxn7Jhw4bAwECSrZWV1dSpU/GjoKAgiUSSlJR048YN4Iwj9u/fP3bsWDSF4Ljg4MGDixcvPnr06J07d5ydnRctWkR2u9jb24eGhuKgA4mIiLC2tv7mm28AYO7cuY2NjV999RVmLhAISkpKEhISzp8/7+zsvHr16tTUVHt7e/KPFYlES5YsycrKksvljo6O8+bNI10zLmfOnMFMHB0d16xZk5GR0adPHzIeLCkpyczMzMnJQQONo6Pjs/fjKM9O7+zBoVAovzF0zFZCoVBeTV5tKeHa5CkUSi+ii1Ky/uAZvcm79MZvd1+cXHZb1mWaS+USuzn/MpmyW2/aF9uPnO8yze37jdNXp+mN3643fnvklm9eId2Ry+WVlZVkHpTyktD32QPonK1kRdzxvcfKwMIE9FhoU4OitT7rrzyL6Q1pvcsHB0FoBIb6AAD1jKbDEYZhBocn1zYowdgAAKBJ5ec18OS2F/eC8fLEx8dr7kabO3eu5lqp+Ph4dErQk/+d4ODgK1eunDx5kmfaTElJWbBgQXh4+MGDB58rQ4VCgWvtyRVnZ2eceyZXsKbP4qVFKpV6enpOmjSJtyHgWUhMTPzwww+hZ9/n7w3dkpKGllbL6fHQn+MSSdm2bd4fee4IVsQd33uiAkweTT+xenD/IXvuU26ar89Wvvf5d2DJaaX1TGnygpFO1tBLoEseHkqlUlNKev6rT9ak8jwGKRSKvn372tjY3L59+3mXh1ZWVrq5uWlej46O3rJlCx7b2trW1dUFBQVpTkXzIO9EIpHgMjmxWJyfnx8SEkJW8T0JVEOgUvJroluTwQ2Klo6OBkFf71ZdIy/Z3QcPQZ/TLPVY0NdraGnldl4eyJrAxKDTbQZ6dbKmXpQSJDQ0dPr06fDI/aKOLN92cHA4cODA7du3eZv0r127FhsbGx4e/jLljIuLGzx4sEwm27lzZ3l5+datW2tqarBzcezYsdTU1I8//vipmYSFhZWXl48bNw6Fo7Ky0tvbGwBCQkJeuGAULaJbUvJ7YPr06U9yFFhdXd3Y2Ojq6srzACYWiwHA3Nwchx6VlZUKhYKcInK5/ObNmwBgZ2eHjY1hmFu3bqFgdenlFPMRCoUODg5CodDT03PChAmNjY3cUZiTk1NISEhzc7PmjfggLPOQIUO6WYpOOg4RERGLFi1KSkpKS0tbsmTJlClT+vfvv3Llyi4L5uXlJZVK7927R2q0ePFihULBMExraytZ6X/lypV79+4Rvy3dV1nzbQPAqFGjUCjxudB56xPlGdFFs+vvEIVCMWPGjOHDh3t7e/ft25fX23/vvfe8vb3JstH58+d7e3t/8cUXeMowzKJFi6ytrb29vb29vXGcEh8fb2Ji4ubm5u3t7ebmpqenh3qEFBYW2trakk9xCTweZ2dnY5rKysqhQ4cOHDjQzc1t+PDhQ4cOJWbL9PR0b2/vL7/8MiwsDMtsbW3NXRHPg6tEu3fvxoOvv/4aANauXevm5kZ2Icrlck9PTyzY0KFDY2JivL29sUjXrl3D6w8fPrxw4QLpPc2cORO7J4mJibwqFxYWdvPOq6qq8I2RKuO9W7du7eYuypN4xaWkTd27O/RegE2bNnl6enp6eo4cOfJvf/sbXvzoo49OnDgBAOHh4UFBQbiflWBhYQEAZIhhaWkJj/bCAcCf/vSnpKQkAAgKCoqMjMS9+a6urpGRkVlZWbm5uf7+/gDg7e2Nc1hisfj111/H1a6RkZFBQUHchefYIZLL5W5ubjU1NT4+PiKRyMPDo6amxs3NTS6Xw6MtvBs3bkxLSyPm0rCwMN5+vC4RCoXo4gjX1OK6WKwgAMyZMwe7G+vWrbOwsMB6YZG4Dl+dnJywmgAQFRWFuwFGjRoVHh6OVcYV96+//no303Y8z5hEKJ9ltEXR5JUd4KhZnJTJKb3X20V5PnAfLTJmzBgAkMvl2Gbi4uKwt4+jgGfJLS8vD/1LJycnz58/n1wPCAiYMmXKuXPnrl69SqySd+7ccXFx+eyzz/BUJpM9aVSSmpqKB1lZWVZWVl5eXuiXICMjgzs6q6qqcnFxyczMDA4OBoDKysqXGRpUVlainuKEzsqVK7n7AAhKpdLFxeXjjz/et28fAHzyySdYQV9fX19f38LCwqKiov79+2Pi0tLSbooUFxe3atWqtLQ0kUhEujCenp4vXIXfM6+klDSr2gO9B8V84PttQfXm8PHfFlRv3Jrf24V6VtCKiX1+MzMzAEAbB3AsiOPHj39GKbl69SoecHUEALKzszU9j6jVagBA6YmNje3GunH+/HkA8PPzwzQuLi64W18sFhMpsbGxQWPNc2207cYpAfZT4JE3hu79AGBdgDN6ysvLI/uJnpGQkBCcdBeLxadPnwaA6OhoHTGEv3Lo3gBHpoQHLZw/pWaSA5/OWPWud+zhwo2JF2IPFw61tyzNWcZbe2JibAiSh52yqmvpqTp0BxoRXVxcXFxceLOY9+519LC6HCk8fPiwm2y5t8jlctSR2NhYpVKp6aIVHrkdehI47kDHzggOiMivPRfi5/FZSEhIwAN0VtAlvC2I3YNyrFAoUEeio6Obmpo0Hcp2iYODAw6F8vPzUbtfJv7O751e3JXcJUoNeAn+k3V5+RfZR/Mr6ptV/8m6fKuu4WLZ3XmbviEeYZ89qx4GX3hcXFxTU5PsESzHEaG/v79MJpNIJMTXMd5I/JVKJBLiDzUqKort7B5VJpNhzjwf1GRNF3qoJtYN9OGMd7Gd/RgSBwXoOJbrd5595ElA01Uiz20CcYlQXFyMikZcHPj5+WEa9FcQGhrKzSc2NpZl2aysLG6RSKXQqQLJ/MCBA1yPs7wCY5G69LeAoPNXxN3dXbv/8d8VOicl3ZOQeen7H8rqm1VH8yts3/8SZsRB4N6EzEtKpfKbU9c01USn6FLK0QMIzzsJ8b2ON/Icr+OnKCVsV95DuN0ErkkVpYTrwJHbVrnH7CP/KfDI/Qc8avDs80sJDz8/P9RQtrOUcOtCxBSeICW8fge3yly/+U+VEvaRr3/geF2hvAC6N8DpliWB3gDgu/LIe9HHomaPZrNXHv3btKXb8kz+fEBlaPTqxuhau3YtcRoUHR199OhR7qfz588nWpOcnLxr1y4AuHPnDl45ePCgSCQiLd/Hx0cgEBQUFJAr5IcX519cXFwkEgmZAQEA9HiCtLZ2+KArKSmJi4uzsbHJyclxd3dPTk4mvRscTOGQhwtvYKKv3+nb5e7uHh0dnZube/LkSWIHwVFbQ0MDqQu6fa6rqyPFxuLxMhcKhdw6CgSC4uJi9HJ0//793NxcFKP6+npupbqEuLPrxq8d5ano1sL57jldcnPZ/jPXq2QgNII2dcLSN5cEep8uuTn50wwQCkDB2Nr0+e+n0yd5DuntklJeEIw3hsdisRgXjBQUFPx6zopwa09dXV1UVBRxLkl5AV4NKekQkUIJWJuAgR4AQDsLQqP/RE7cknH5epXs8cXmthFjbfcve4sKyqsIbpbx9/dXq9U40+Tj49P9SrOXgWybBICmpqYnhf6jPAuvwGRwQ0srAOxf9hYsAwAQmhg9dgSN1wEwYAX3+u37jU4DzHu4qJSX5JdffgEAXF0CAOHh4WR17K8BjvgAoLi4mOrIS/Jq9EoIt+83bjt8ftOSqbyp30vlkm8Lqnl+BiivIgqFArfGmJiY/NohJjBccVhYGNWRl0fnpIS3wZd3mpx9ZWHo0aPZ8959s9Nmrfmbv02Nv1R/M6abe3mnFApFi+jWDE5DS6ulx9a1e07i6e37jZZDYtcfPEMSLAgYW10R9e6brgzDXCqXfH228lK5BABS1vzp1rUorlLs/e95yyGxxAnb+oNnLD223r7P91dA0UQqlXa5gE2hUFBfZJQnoVu2EhN99bwFY/3Gd/Q4bM0FgX/5w2TPwdw0wxwss/LLZ+3Kg3oGDPSgndXvb5a7ZgbPzuozdvC8la8Ns+3ouE72HFyzoNHWvDfXRNva2nKjOgCAjY3Nr2dTfDGID6Ti4mLe7pX33nvvxIkTGRkZT92/z0MsFkdGRjY2NuLqDxsbG39//yVLljzVZdErCnce6veDzg1wEIZhlGr9Lscjp0tuTv7oKFibgd6jkrN6cP/hxQNzXnMfyEt8Q1pfVikBgIk+rr0+utH0omZjY1NbW9srhXkS1dXVuHOPJyW4qSc2Nnbt2rXPm+eTdsfgbsCXKa2uER8fn52dHRAQoOmE5TePLkrJ/M3fpuZUgarddrDFd5/P4gmEQUiCulX9WEeQNvUIe/Pyfy3gXvvyWPHSbXkdMcwBTm0P7t0ZYpQS3M4HAM3NzWZmZjr4y4zxgHmNHIc8L1ZaIiUSicTa2rq0tBQXjLyAv1gdB//FZIf37wrdGuAA6kheNfpkrW1i/rjw8K3vlpJp3bLbMvWD5k4eWxFD/evl929I64c5WJKUS3ecggF9OkSH1Zsc8039Uf6uv56H+ATjgU6VS0tLjY2Nvby8iDeN6urqhISEfv36rV27NjExUaFQLF26FLsGO3bsyMzMLCwstLe3X7p0qUAgSEtLE4vF9vb2EREROCvBMExJSUlRURFOfPr6+vJi7orF4uzsbJVKZWxsHBISMnjwYPSxxI25h15U5XK5lZUV15dqYmJieXn54sWLhUJheno6Oi7qxuEzRg728vKKjY2NiYnBzbhYyOzsbAwhzi1hSkrKjz/+OGfOHDs7u927dy9atKh///6bN2/GupPKYrtNSUkpKysjrwIApFLp2bNnq6qqVCqVlZXVrFmziD7Gx8ffuXNn6dKlACASiVQqFa/kUqk0PT39559/7tu3b0hICL4KhmHIm8/Lyztz5oyxsXFAQAB234j3huzs7J9//pm8wMrKSrxib2//LJ5oX1V6c9W+BvXNKnhjGwTtefw3I25d4mmS4JS4Bqbu6pSA/E3aebHsLkmZkHmJn7Jzgp4HX3hsbCzu2ZNIJGQriuZ2FR8fH9x/iDtcbGxscEU5boTDNNxtrH5+ftzNOB4eHpgzd7saEhQURIrEa/a5ublkMwvui2NZNioqipeDSCTCj3D1PW83LW7G40LKQHZU4nMxXLFMJuPuuAHOlhzc/kc2Aebm5pKtN9yHhoaG8l4F3o4+n7hkZWXhR5ieV3KyB0fTZzUJY4ynvH1PuNOny2dxo0RzE//20C0puVXXAJN2dmr/M+OXf5FNEjyflMyI65Rg6q5T4preqFYHoAHZkodtycfHRyKRkIaHoci5LgL8/f3xIrkiEom4X2vuaUFBAcuyTU1NWVlZuDGatBD8iOzriY6OLigoyMjIkMlkPCkhtyQnJ8tkMpI57qnjujLLysoiO2JwqzGB1CgrK6ugoIDchbHEcfdddHS0UqmUyWTcdsgNlh4aGlpcXEwS2NjYZGRkEC3gnWJzLSgowB2MTU1N+JGzszMWiVQkOjo6IyOD7Ojj+mTgvQHUQVKeAwcOEBeZqM5kn2R0dHRFRUVTUxPZgojFQFkhZfiNQaWk5wANoqOjWc6eV9IRIF90VmPrPcuypLVj74D8UGPL5H2K+UdFRfn4+JAff+5W4MjISG4hSW5YGGyBpI9DCoOZoyhg54LlSAYKDUGzZwSPuh5EGkQiUW5ubkFBAdYdRZZICcmQpzW88vA+ZVk2OTk5NDTU3d2d1B0VAZ9C+i/EoUFTUxMKhI+PT+4j8CNu14P0X/ANEHXgfYoduqCgoIKCgtzcXKJKpDf6W0LnbCW/eXiBZuCRmRMAcGMrAEyaNAk98XAdGmlGaUBHRGSlJrovJNOQqClpaWnoUdnDw2Pp0qUbN24EABMTE7JmfPbs2d2UFr20kfkXMs4vLS0laezt7fEAnc52A/oos7KymjBhAtoXyCoVzaAZ5NjHx0fTvtCvXz8AMDfvMKLhq+CtjvX09ERPseHh4Q8fPtR0ZD1o0CBubkh5eTkAFBUV8WaduHNtpMrdz4ufPXsWADIzM3nOeh88ePBrL+TteaiU9D7EFnj58uUpU6YAALFHCoVCXEXeJd2HLsW9+dhEyZwCSolSqSRf5fT0dJ4hloubm1t5eXlWVhbumiVL117MAeqGDRt4Cy6IWzaRSMSdMyIaAS8aGTovLw91BF3Y5uXlaUpJl47pHB0dAcDd3f3QoUPc612qRpf+7sjFkSNHFhUV+fn57dmzh1xUqVSDBw/WvOtVR7dWu/4+Ics3oqKiqqurMzMziddobT3iypUrcrk8Pj6eexE7+UlJScuXL8eWJpVKeSF4MKhdeXl5YmKiVCol3tify58rQdNviIuLC9opdu3aVVtbiz2s27dvv+R6E4FAQCT48uXL1dXVJB5g96hUqlmzZgFAeXn5kSNHVCqVUCisr6/Hg6fejnWJiYlJSUmRSqVz584FgJycnPT0dAAQCoW1tbXGxsa/yQVsVEp6mi5/x9Bccvny5eHDh6P39tDQUOxHEDfIzxIaggsOcHDeJykpydraetWqVdy5kt27d+OQat++fVOnTg0LC7ty5Qovk6CgIBzwf/jhhwMHDsQf9oKCAm7/vHuns08FRwFFRUUzZ87ESDTBwcHY/cH+yLP3SkhKhmHQ1zQATJ06dfjw4byqdVNmFxcXNJfs3Lnz9ddfd3Nzmzp1KvFFgPDc2ZLcyPq9BQsWXL9+fcqUKWjuwYA+bm5uM2fOPHLkyDNW59WCDnB6DvxWYcAKHl5eXkql8tixY1VVVUKhkJgSAMDKygpvtLOzI+nR6ECctuOpk5MT9xQ75Fu2bPH19S0tLRUKhfPmzfvuu+9u3LgxYMAAABAKhSUlJXl5eVevXsWIdmPHjiXlJHaEHTt2zJkzJz8/X6FQODo6vvPOO+T3+a233urfvz95rp2dHd7LdcuGWeF1XpcHcXBwUCqVeXl5GPQLA+uh3cfX13fdunVc2TI2NsascGRkZGTELa1AIMC629raCoVCmUyWmpqKgf58fHywU9ba2ioQCGbNmjVixAjyAvv374/5YLSdiIiIgICA7OxsdNxtZ2dHBnTcd4v/OG4JIyIinJ2d0eHuiBEjAGDDhg0ffPBBdnY2/hLY2dm99dZvc/+6bq12vX2/cXDogU4r0FTty/1c96yagWcdPtP6Gndxcz1zcV8YWRr75bHipQlnH4coB4AmVa8veKVQfqvQAQ6FQtECOi8l6k6dpmaFTsSyoVAoPHTPVtLcBiYGj09b1dwPbfqbA9MORm1d3KhqN+vTaYgOynbQ52zGZdrRbyOFQtE6OmEruX2/UdHSMU1Y/shZEaJoahlsZ2Fj3Zdc4SUgyYR9Td2dOoWY1UzJTTDSqYt4tBQK5cXQiV7JtsPn9x4Ud3gDMNYYc6lZaOPonaFep77Gk5JhSh6PEug7mbenL32ZMlMoFC460Sspuy278dM9A4OeM9yYCU3pVA6FokV6U0qID1dDs15Y/NfWzABAQ5ta0389hUJ5XnpTSvRm7eZN0PQCcqY6YzFxmC5oMlYAABI6SURBVEShUF6MXrWVGBsA25XVo0fL0GpkpPMz4hSKztMLvZKGlu5iQfciJvrq3+Q+KwqlB+jpXknZbdmoRSn6/Ux7+LlPRa1sXRf8h187vh/uN9N0po8e9uE55awXg4Q99dFkZ90Lq/PL50DpSXpaSpofKqGdVbe19/Bzn06b+ulpXhqTPx+AumZoaj2VPIc7hfSXnSdTj5UDwLolPs8oZ/M3f5t6rNx2mGVFYngPC8qKuON7v/pR38lcnhLR5aMvlUv+uPgrMDfWNzN+UpruuSGtdwn5N1gKgGmv/3YF5iAWi/fs2WNq+sTfoZaWltjY2N+sH2bdpjdsJTLl09P0PM1tssZffVX+iAHC66wemPJ3zQv1WehvAmr2GdfjMgyT+t+rMNSy9lZDyXVJD09s702/Cg591PcU5y5Vz5zgrpnArI8JGOqD0Yt/u4yM9MHYAIwMuYb52tpa9OTSDcTtO6WH6WkpGT7EpvS7JT380GdE+OpMCQsEgmVzRu//tsLL0/71kfY9/PQ174/dLPpxhPuA8a/9+gGxOMsRAwICnmTa27RpU0xMTGxs7PNGDqRoi56WEgtTIwu6Yl0b7Pvs7S8+7p2AkptWTF/3l7d0x4SRmZkZExMTFBT0ApEDKdpCJxbOU3jg8l8AmOjj2qBoEeVcu3pTNmaIdZjfaBJd7NvTpQYG+u3t6ok+rj8UVeLxsKF2ZG/R6ZKbTQ0PAcDe1hLduJTdln1/tuLqTZmznflkz8FkWHSpXPJzbT0A/GnSqLLbsi2Hzk/1dFoQMBYzyTlXeaeRMTcz8vdwxHip3EcTO0hWfnlW8a3G5tapnk6jhvQHg07T/A0trecuVRdV1dXcawSA8aMcAt4YTupCCnz0zHXM4Y+jBj3ju6qurg4ODraxsUlNTeVeF4vFR44cQXfTDg4Oixcv9vX15X6amJj48ccfq9Xqzz//3NnZGT02VlZWHj58uKioCAAsLCwWLlyo6fi2srIyPj7+xo0bpqamCxYsCAgI+OSTT/z8/HhBhVJSUjIyMlpaWkxNTd9//30SWEMqlW7atKlv377cxG1tbe7u7sR/eF5e3qFDh9CV3LBhwz7++GPdj4hKpUQXOXW+YsU/z4G+3rZlDasPFgEACAwg/6fV/y6sPrwIF9S9/dExsDGFupZbuSvSz/+Uml0Bhvp+fxx0clsoADS0tE6O+QaYdmhqPZUQCmgrTb8KpobQzoKB3sbUYpL4Pyeu7v36GqjZo1uN3vv8OzDQczQXAFp2v78O5sa4P3vvVz9e/I/la+4D3/48GwQG0NSKpwAwfXVazsW7uKU7Na9av58p9DUGzljEclocGBsAABjogZF+al41/POHi/8MJa6qusjBUgBPW6jAMMz48eMB4Ny5c1zfq3K5HGOJRkdHt7W17dy5MykpKTc3F71wA0B9ff2+fftcXV3R0yLG4mEYxs3NDQCioqIMDQ23bt2alpbGixCQkpKC/m79/f1bWlqCg4PDw8OTkpIcHByIlMjlcnd397q6Og8Pj7fffjshISEzM/Mf//hHfn6+UCi8d+/evn37NOsSGRmJDxKLxVOnTnV3d//ggw9u3Lixb9++ffv26X58Zbo6S1cxN4b+pqtTLwIACAWgZsHEEMwMl8V17DaAvkbQ1xisTQDgo2AvMNQHS0FO6T1ctlN1sw6a20AoAHvhJM8h24+c33usDCwFfl4DE1a95ec1EMwMc8SS7UfOA8BgG3MQGoGN2Xv/OA5mhsC0A0BWfnlqThUM6GPbz3TbIp9l04aBQ58xQ/sDAAiNQCgAM0P06rAi7niOWAKWAmhVj3C0HDHUSq3g25UDJw+1tReueXf0tkU+fmPswdQQTA191n2Ln3Jz8Bpm3WUOXfLnP/+5rq4uIyOD18ysrKyqqqpYlt2yZcuOHTswXI5mCPRVq1ZFRkY2NTWdPHkSAAQCAd61Y8eOLVu2YEigDz/8kKSvrq5GHZFIJMePHz9+/HhFRQVagrlCNnPmzLq6uuTk5JKSkg0bNtTW1kZHR1++fBmVwsvLixdBBu/aunUrHnh5eUkkkrKysrVr1x48eBDdO2J4U12GSokOw+oBwMV/hrKZkQlL3wRlGxgbELHg8pr7QBAaAQAw7SXXJQBwquQWmBgA07ot1INhmNWHL4HQyNbC5OS20CWB3ie3hdpamICp4WcZPwKAGfkWqNl5451P7X7vg7e9S+/8gjlEzR796Zw39n32tvK/H2raRxpaWvd+Vw5CASjbEv46sfxfC8r/tWC5vxuoOs33717pd+/I4k0rpn865430DcGgZsHAQP2g+Ya0npdD8Z65HTkou/JKw2HTpk2ZmZnr1q3rMkoxV1xIl4FE/0GcnZ337t3LVQHuXUKhEJ3yk2A9X3zxBQBkZWWR+WZXV1deYACxWFxUVOTv7z9//nxyEUdP6NOfV86UlBTMk1sM7nw2upV96tRVr6OjA5wb0vqySsnYUY7c4TQO6VWGRqZsO28OEj/ipr8hrT975ZZS1Tbtj8Ne1S02rW2B3oNwCPDn6X9YuuMUmBhCc1t7SxOY8gMyrQv+w8b0y2Ckn3OucpLnkIOnq8BQH1ra3pk0sqDsZ2huA6HRHwZZ7v3v+WY1mOlDP6GgtrlNfU/R0NJqaCoAAGhTew2zTlnzJ8wwv48AWtXQ13h16sVzZT+vetdbc8pZYGiAyoUsCfTGg8h3/rj3WBlYPP52OQ0wT86+cvhURW6NXN2sAmMDABYM9H5pePhLw0NoZwEA9PX4OQieOKeWl5cXExPj7++/YcOGJ6UpLCxMTU0tLi6uqampq6sDAIygDgBmZmYA8M4772jeJRaL09LSTp8+XVdXV1NTAxwBOnXqFACQURLCmzPCIOqa8c+ioqJ27tx54cIFrvBhNyc8PFzTIpOZmfnNN9+UlJRoqo9uootSkpx9ZeGeM2BkePEfgVwp2Z0hLpU2OFqampsZc6WkoaUVu8q5a2aQ9KGbvxvlYFEqbViaVFT/1V90aO9vexfL8xRqPdDXAzVr3qfTz/4ouw7jnIWpUfdbH8Omjd54RAxCwebcqtURk6//JAdTwxFDrYY5WJ69cgsM9MBQP6f0Xs7Fux03mBjgExuIj0s1+7pLf5Lhwhmj/5VTLi6tA6HRsRLJsXO3vEbZnN8ZwuuY3LrXgJXyGtb1xJyJvhoA3BcnX/9JDkb6oGwHAz0wMgQ9FgAUylYAQBvtiIEW5K7uJ+blcjmOVo4ePdplAoZhAgMDT5w44ezsHBER4ejoeOjQoZycHF6yPn368K4sWrQIf/9jY2MdHR0zMjIyMzPRDT3DMBi4r/upK3RSr7lMDgMqq1QqbiHR0LN7925uSqlU6unpWVdX5+fnt3DhQqFQuGbNGpRCXUYXpeTNsYNL938w5bOveddLpQ0fzRoz+TVnnuX/r18cjwlw//L/KrgX8Ut/Q1rvEnmk5xdxPQk3G+H1nxvBSP9iuZRbpMMlEjAwgJY2RyuzF8t5pJP1iKFW139uhDb1f0/+CEb60NL2WbAHAAj7mgIAsHpezlYzRthw7/pFobQQmra1dBgmrM0fLyQVCATFe+Z+fbZy838viK/fB0uB+Pr9jf8+s2nFdG4OA4TGAACG+uK7XUcRFAgE6w+eQWnzGtwvbc3sYQ6W01en5ZTXdkqnx16//zjQT2vrExcfMwyDzbKiouJJYa42b9584sQJEpMQOAEPuyElJSUpKSk6OprE37px4waJ0SkQCJydnWtqahim0xw8L0wPFun+/fu8zDE4OXfiZtmyZXV1dbyhDQAsXLgQr5Ouypo1a55a+F5HF20lwxwsBw4wv6/xZXK0NN39/dXBfzm0Iu44uXi65ObFm/JP3n+jtrmNu1QU/9n/O10GAJ4jBvZIwZ9O8HgXaGkDE8PVaZdv3+9oe1+frVT/0tE1eJlFX6tmjcbM14uKQWAERvpBk0YCuqFsZwGgWdW+acV07t++z97uvr/27puuxXvm/idqCijbwNTw+PVOv41MW/voEQM7hicKJiu/HK9/f7aC66C34HotmBpCS9v/C/PGweaPd+vBoCPB0EFWHTk0qb4+22GV+N/psk4ufjlgCxSJRN2sRktISACAefPmkSvPEvcLg1199NFH5MqDBw+4CbBtHzt2jHuxsLCQe4pxjkikcQJaVTHSEADEx8cnJSVpDm3kcnlOTo6NjQ33uu53SUA3eyVPIjP2XQD48lhx5KGLqz9oxL5JVOJZAPjrF8dH2PRZk3QufUMwaRvJ2Vc+y/jx1PqZujO6CZo0EvacAVYP2tudI4984DmwsVl1rPguCAWgYJbPdn+Zoga8MRz++QOwerUtrdCunjdhKOY20snaa5SNuEZ+/edGuzn/WjLNbai9paLh4THx3TXvj3tSfw1NGx9MdhtsZ3Gx4mfQ14M29SgHC14ypwHmI4ZbX5c0gFAwa/PJeROqO2rEMXPYWZqCmgVTw89FxWZC06Nnrtf+0kJCFDkNMMfigVDw3qbseRMqNHMgYAuMjIwMDQ3tMmof/oRYW1vX1dWRKN9o/njqC7SwsACA69ev4/CkurqaN2u7cuXKffv2hYWFOTk54SqVzMxMMvOCTJkyxdnZOTMzMyUlhVhecTl/eHg45iwWi1etWuXh4bF//35eGXAwVVdXh0HO4JFdVvfRxV5JlzS0tGbll9+Q1p8rlbr2M7U17+hh7ox4c/+ytwInulX+0uLnMYg0xe1Hzi86WLBs/BAAuCGt77Vyd8bC1OhU7NvQoIQ2tVrZmpr/07ESCejrQYPSz2vgzmWTHydVtgPT/ouCs1+pjQVVO6jaFe2G3FMyFnAaYB7o6wRMK6jaoZ5ZFPA4DGDG+rf1zYyhpa22Qbkx/fLCnXkrDhTlnLt1sVwKAM3qjsehZ7mOW85V51y8u3Bn3uRP/rf3RAWoWWhVfzb3DQCAVjW0tpE5mq9jZgPTDq1tIDBKPVdzrPD2CEdLWzNDYFrVylaGYRYFjIF6BgDENfLJn/xv77EyMDEEVTvOOgNA2hpODvk/YQ4jbPoA00rSwKMWCABHjx7V09Mz6Yq8vDwA+Pvf/w4AEyZMWL9+/aJFi7y9vX18fABAre5u0+aSJUsAYOrUqevXr1++fPnw4cNxvQkxcLi6uiYnJwPA66+/PnToUD09veDgYAylygWnlhcsWBAcHLx+/XpfX9+tW7f6+PgQ4cA1L1Kp1NfXd+QjbG1txWKxUCjEyKrjxo3btGlTcHDwggULMB6rjqO7vZIBnT0SSe43LtqfX/tLi98Y+69jZpPBKvlRVe/4v8meHQHiGYbZ+d01136muWW1+8/dTFs5RXcmcSZ5DrmV9uGXosLE8zdrm9sAIHC0bcS0EX+aNIqkcbKzCBw/GABGDXlsB/V7a4iZsUGzqt1CaMo95bpuWvVuxwyIuZkxt7vhNMC8+VD4f45f+/rcjZzKByCAETZ93vmDPb6xoU798XFOjo9Np/NmjDE3Mz5cIlG3qm3NDCPeGLIkzBd7goG+TgDQrGoXGBoAwEgn61tfRcT8+0zqhTtgZLgmYMTqiMm7vjp/5acHAKBU60/yHHJqT8iy/WeuSxpGDLfeNuc1laFR6vGrACB7qAKAYQ6Wj3MwMVwza3hHDjadxhdCoRDjbD7p3TIMY2lpCQC4tPTvf//7xo0bQ0NDKyoqFArFkSNH9PU73pWVlVVUVBQJ34lMmTIlKytrw4YNGzdu9Pf3Lygo6N+/f0JCAjfS6Pz586dNm5aeni6Xy52cnMLCwi5cuMDrmLi4uDQ1NcXHxycmJmZmZvr5+YlEIrLalWGYLmvx8OFDc3NzANixY4ejo+PmzZtjYmIiIyMlEsnZs2cvXLjAs9HoGjrhJppCeXWJj49ftWoVdynt7xMqJRTKcyCVSrkTvVKpdODAgQDQ1NT0pOmk3wm6O8ChUHSQgQMH+vn5zZo1a/DgwYWFhTi0EYlEv3MdAdoroVCeCxzOkNOgoKDPP//cy8urF4ukI1ApoVBeBDJZS0GolFAoFC3wyqwroVAougyVEgqFogWolFAoFC1ApYRCoWgBKiUUCkULUCmhUChagEoJhULRAlRKKBSKFqBSQqFQtACVEgqFogWolFAoFC1ApYRCoWgBKiUUCkULUCmhUChagEoJhULRAlRKKBSKFqBSQqFQtACVEgqFogWolFAoFC1ApYRCoWgBKiUUCkULUCmhUChagEoJhULRAlRKKBSKFqBSQqFQtMD/B52FnpDg4ibYAAAAAElFTkSuQmCC)"
      ],
      "metadata": {
        "id": "PeoQMxuT0vO1"
      }
    },
    {
      "cell_type": "markdown",
      "source": [
        "---\n",
        "Producción de contenidos educativos digitales UNIZAR 2022-2023\n",
        "\n",
        "**Objetos de aprendizaje abiertos del Vicerrectorado de Educación Digital y Formación Permanente de la Universidad de Zaragoza en el marco del Proyecto UniProducción incluido en el Plan UniDigital.**\n",
        "---\n",
        "\n"
      ],
      "metadata": {
        "id": "ISA6UqKY1sIa"
      }
    },
    {
      "cell_type": "markdown",
      "metadata": {
        "id": "aZ4I0EbyAqVW"
      },
      "source": [
        "## <center> Introducción a la termodinámica técnica con PyroMat </center>\n",
        "\n",
        "\n",
        "-----------------------------------------"
      ]
    },
    {
      "cell_type": "markdown",
      "metadata": {
        "id": "LITVC6KmPNzZ"
      },
      "source": [
        "### Primer paso: cargar librerías de Python\n",
        "\n",
        "Para comenzar, debemos cargar todos los paquetes de Python necesarios. Estos paquetes nos permiten hacer cosas como representaciones gráficas, operaciones matemáticas, trabajar con vectores... y hasta obtener las propiedades termodinámicas de distintas sustancias. Para esto último utilizaremos el paquete **PYroMat**. Dado que no es un paquete habitual, debemos instalarlo. Para instalar Pyromat y cargar el resto de paquetes, hacemos lo siguiente:"
      ]
    },
    {
      "cell_type": "code",
      "execution_count": null,
      "metadata": {
        "colab": {
          "base_uri": "https://localhost:8080/"
        },
        "id": "FNuY3zZTdbtN",
        "outputId": "aaaeae98-a46b-4f66-f411-567793ebba5c"
      },
      "outputs": [
        {
          "name": "stdout",
          "output_type": "stream",
          "text": [
            "Requirement already satisfied: pyromat in c:\\users\\sie2016\\anaconda3\\lib\\site-packages (2.2.4)\n",
            "Requirement already satisfied: numpy>=1.7 in c:\\users\\sie2016\\anaconda3\\lib\\site-packages (from pyromat) (1.21.5)\n"
          ]
        }
      ],
      "source": [
        "import sys\n",
        "!pip install pyromat\n",
        "import pyromat as pm            # Importamos Pyromat\n",
        "from sympy import *             # Librería para trabajo simbólico\n",
        "import numpy as np              # Librería para cálculo numérico\n",
        "import math                     # Librería para utilizar símbolos matemáticos como el número pi, que se escribe como math.pi\n",
        "import matplotlib.pyplot as plt # Librería para poder dibujar gráficas"
      ]
    },
    {
      "cell_type": "markdown",
      "metadata": {
        "id": "4wY4VP3nP6Op"
      },
      "source": [
        "Si todo ha ido bien, se habrá instalado y habrá aparecido lo siguiente en la pantalla.\n",
        "\n",
        "```Successfully installed pyromat-2.1.10```"
      ]
    },
    {
      "cell_type": "markdown",
      "metadata": {
        "id": "xzTBZ3ZZQGR3"
      },
      "source": [
        "### Breve introducción a Python\n",
        "\n",
        "Antes de comenzar a resolver problemas de Termodinámica, vamos a aprender algunas operaciones básicas en Python:"
      ]
    },
    {
      "cell_type": "code",
      "execution_count": null,
      "metadata": {
        "colab": {
          "base_uri": "https://localhost:8080/"
        },
        "id": "ELiDEYIiQQ6y",
        "outputId": "c9e79a10-bde0-48e4-bc7d-41eda347a112"
      },
      "outputs": [
        {
          "name": "stdout",
          "output_type": "stream",
          "text": [
            "El resultado es 13.076792452830187\n"
          ]
        }
      ],
      "source": [
        "## Operaciones matemáticas\n",
        "\n",
        "a = 2.0                         #para definir una variable hacemos simplemente esto\n",
        "b = 3.3\n",
        "c = a + b - 5.0*b/(a+b) + b**2   #almacenamos el resultado de esa operación en c\n",
        "\n",
        "print(\"El resultado es\", c)      #imprimimos por pantalla"
      ]
    },
    {
      "cell_type": "code",
      "execution_count": null,
      "metadata": {
        "colab": {
          "base_uri": "https://localhost:8080/"
        },
        "id": "jBHwdaSxQm6_",
        "outputId": "e7f7a9f9-5b5d-4cf5-bff0-6d2f490b54f5"
      },
      "outputs": [
        {
          "name": "stdout",
          "output_type": "stream",
          "text": [
            "El vector v es [ 0.          1.11111111  2.22222222  3.33333333  4.44444444  5.55555556\n",
            "  6.66666667  7.77777778  8.88888889 10.        ]\n",
            "El vector w es [ 0.          2.22222222  4.44444444  6.66666667  8.88888889 11.11111111\n",
            " 13.33333333 15.55555556 17.77777778 20.        ]\n"
          ]
        }
      ],
      "source": [
        "## Vectores y arrays\n",
        "\n",
        "#  Voy a hacer un vector de 10 componentes que tomen valores entre 0 y 10\n",
        "\n",
        "npt=10                       #numero de componentes del vector\n",
        "x1=0.0                        #valor inicial\n",
        "x2=10.0                       #valor final\n",
        "v = np.linspace(x1, x2, npt)  #se construye un vector v con npt=10 valores entre 0 y 10, equiespaciados\n",
        "\n",
        "print(\"El vector v es\", v)      #imprimimos por pantalla\n",
        "\n",
        "w=2*v                         #podemos hacer operaciones directamente con vectores! esto es muy útil\n",
        "\n",
        "print(\"El vector w es\", w)"
      ]
    },
    {
      "cell_type": "code",
      "execution_count": null,
      "metadata": {
        "colab": {
          "base_uri": "https://localhost:8080/"
        },
        "id": "jXsikUibQmtp",
        "outputId": "99eb0beb-0503-4bb9-f452-75509261ece6"
      },
      "outputs": [
        {
          "name": "stdout",
          "output_type": "stream",
          "text": [
            "La función evaluada en x=3 es 10.0\n",
            "La función evaluada en el vector x=v es [  1.           2.2345679    5.9382716   12.11111111  20.75308642\n",
            "  31.86419753  45.44444444  61.49382716  80.01234568 101.        ]\n"
          ]
        }
      ],
      "source": [
        "## Definición de funciones\n",
        "\n",
        "#  Voy a definir la función polinómica f(x)=x**2+1\n",
        "\n",
        "def mifuncion(x):       #defino la función con el nombre que yo quiera. Entre paréntesis van los argumentos de la función (de qué depende ésta)\n",
        "    return x**2 + 1.0   #es la expresión de la función\n",
        "\n",
        "print(\"La función evaluada en x=3 es\", mifuncion(3.0))  #evaluo la función en x=3\n",
        "\n",
        "print(\"La función evaluada en el vector x=v es\", mifuncion(v)) #evaluo la función en todas las componentes de un vector"
      ]
    },
    {
      "cell_type": "code",
      "execution_count": null,
      "metadata": {
        "colab": {
          "base_uri": "https://localhost:8080/",
          "height": 406
        },
        "id": "0fBILn7PQmeo",
        "outputId": "d8dea0fd-6a95-4d7f-e9bf-03a3de583d1b"
      },
      "outputs": [
        {
          "data": {
            "text/plain": [
              "Text(0, 0.5, 'y')"
            ]
          },
          "execution_count": 8,
          "metadata": {},
          "output_type": "execute_result"
        },
        {
          "data": {
            "image/png": "[encoded data removed]",
            "text/plain": [
              "<Figure size 432x288 with 1 Axes>"
            ]
          },
          "metadata": {
            "needs_background": "light"
          },
          "output_type": "display_data"
        }
      ],
      "source": [
        "## Representaciones gráficas\n",
        "\n",
        "#  Vamos a representar gráficamente la función f(x)=x**2+1 del apartado anterior, definida en mifuncion(x)\n",
        "#  Vamos a representar también la función f(x)=-x**1.6+80, que definiré sin usar una función (para que veais otra manera rápida de hacerlo)\n",
        "\n",
        "npt=40                       #numero de puntos que voy a pintar\n",
        "x1=0.0\n",
        "x2=10.0\n",
        "xx = np.linspace(x1, x2, npt) #defino los valores de x en un vector xx con 40 puntos entre x1 y x2\n",
        "yy = mifuncion(xx)            #defino los valores de y en un vector yy evaluando las x anteriores con la función mifuncion(x)\n",
        "yy2 = -xx**1.6 + 80            #defino los valores de y en un vector yy2 evaluando las x anteriores con la expresion -xx**1.6 + 80\n",
        "\n",
        "fig, ax1 = plt.subplots(figsize=(6, 4)) #con esta intrucción creamos una figura \"fig\", con ejes llamados \"ax1\", de tamaño 6x4\n",
        "ax1.plot(xx,yy)     #pinto yy frente a xx\n",
        "ax1.plot(xx,yy2,'-^',color='darkorange')     #pinto yy2 frente a xx, añado triangulos en cada punto, además cambio el color a naranja\n",
        "ax1.set_xlabel(\"x\") #etiqueta del eje x\n",
        "ax1.set_ylabel(\"y\")  #etiqueta del eje y"
      ]
    },
    {
      "cell_type": "markdown",
      "metadata": {
        "id": "UZbiWmk-XIVE"
      },
      "source": [
        "### Introducción a PYroMat\n",
        "\n",
        "PYroMat es un paquete de Python para obtener de manera sencilla las propiedades termodinámicas de las sustancias. PYroMat es gratuito y abierto.  Hay algunas alternativas excelentes que hacen cosas similares, pero todas ellas son con ánimo de lucro, tienen capacidades limitadas, se dedican a conjuntos de datos mucho más estrechos, o están construidas para realizar un trabajo específico. PYroMat está escrito completamente en Python y está diseñado con la intención de minimizar los clics y las pulsaciones de teclas necesarias para obtener datos que deberían estar disponibles para todos nosotros.\n",
        "\n",
        "El texto anterior está extraido de la web del autor: http://pyromat.org/index.html\n",
        "\n",
        "\n"
      ]
    },
    {
      "cell_type": "markdown",
      "metadata": {
        "id": "-85RxDbigcMC"
      },
      "source": [
        "Para acceder a la configuración de PYroMat simplemente hacemos:"
      ]
    },
    {
      "cell_type": "code",
      "execution_count": null,
      "metadata": {
        "colab": {
          "base_uri": "https://localhost:8080/"
        },
        "id": "hFHhYxL-gbK5",
        "outputId": "add3c88c-e763-4408-f9d9-ab82a17c8703"
      },
      "outputs": [
        {
          "data": {
            "text/plain": [
              "     config_file : ['C:\\\\Users\\\\sie2016\\\\anaconda3\\\\lib\\\\site-package...\n",
              "  config_verbose : False\n",
              "         dat_dir : ['C:\\\\Users\\\\sie2016\\\\anaconda3\\\\lib\\\\site-package...\n",
              " dat_exist_fatal : False\n",
              "   dat_overwrite : True\n",
              "   dat_recursive : True\n",
              "     dat_verbose : False\n",
              "           def_T : 298.15\n",
              "         def_oob : nan\n",
              "           def_p : 1.01325\n",
              "   error_verbose : True\n",
              "     install_dir : 'C:\\\\Users\\\\sie2016\\\\anaconda3\\\\lib\\\\site-packages...\n",
              "         reg_dir : ['C:\\\\Users\\\\sie2016\\\\anaconda3\\\\lib\\\\site-package...\n",
              " reg_exist_fatal : False\n",
              "   reg_overwrite : True\n",
              "     reg_verbose : False\n",
              "     unit_energy : 'kJ'\n",
              "      unit_force : 'N'\n",
              "     unit_length : 'm'\n",
              "       unit_mass : 'kg'\n",
              "     unit_matter : 'kg'\n",
              "      unit_molar : 'kmol'\n",
              "   unit_pressure : 'bar'\n",
              "unit_temperature : 'K'\n",
              "       unit_time : 's'\n",
              "     unit_volume : 'm3'\n",
              "         version : '2.2.4'\n",
              " warning_verbose : True"
            ]
          },
          "execution_count": 9,
          "metadata": {},
          "output_type": "execute_result"
        }
      ],
      "source": [
        "pm.config"
      ]
    },
    {
      "cell_type": "markdown",
      "metadata": {
        "id": "WbZ_oqI2YzrJ"
      },
      "source": [
        "Aquí, entre otras cosas, podemos ver las unidades para las distintas propiedades. Esto es **muy importante**, ya que debemos saber en qué unidades estamos trabajando.\n",
        "\n",
        "Entre ellas, debemos prestar atención a ```unit_matter```, que es la unidad de masa con la que se definirán las *propiedades específicas*. Es decir, si ```unit_matter: 'kg'```, obtendremos la energía específica en J/kg, mientras que si  ```unit_matter: 'g'```, la obtendremos en J/g.\n",
        "\n",
        "Podemos modificar las unidades de alguna de estas propiedades. Por ejemplo, si queremos obtener la presión en kPa en vez de en bares, haremos:"
      ]
    },
    {
      "cell_type": "code",
      "execution_count": null,
      "metadata": {
        "id": "jAc7eYIQZO_5"
      },
      "outputs": [],
      "source": [
        "pm.config['unit_pressure'] = 'kPa'"
      ]
    },
    {
      "cell_type": "markdown",
      "metadata": {
        "id": "kajNWoUtaQKC"
      },
      "source": [
        "Antes de empezar a obtener propiedades, debemos escoger la sustancia de la que queremos conocer sus propiedades y \"cargar\" sus datos. Para ello se utilizará el método ```pm.get('sustancia_de_la_lista')```.\n",
        "\n",
        "\n",
        "La lista de sustancias está en: http://pyromat.org/features.html y se puede acceder a ella ejecutando ```pm.info()```.\n",
        "\n",
        "Aquellas que comienzan por *ig* son gases ideales, mientras que aquellas que comienzan por *mp*, son sustancias multifásicas.\n",
        "\n",
        "Vamos a cargar los datos del agua en un objeto al que llamamos ```water```:"
      ]
    },
    {
      "cell_type": "code",
      "execution_count": null,
      "metadata": {
        "id": "fBQHPQXteOgy"
      },
      "outputs": [],
      "source": [
        "water = pm.get('mp.H2O')"
      ]
    },
    {
      "cell_type": "markdown",
      "metadata": {
        "id": "Iih13vtqbEep"
      },
      "source": [
        "De cada sustancia, podremos acceder a las siguientes propiedades:\n",
        "\n",
        "- ```cp```: Calor específico a presión constante\n",
        "\n",
        "- ```cv```: Calor específico a volumen constante\n",
        "\n",
        "- ```d```: Densidad\n",
        "\n",
        "- ```e```: Energía interna específica\n",
        "\n",
        "- ```gam```: $\\gamma$\n",
        "\n",
        "- ```h```: Entalpía específica\n",
        "\n",
        "- ```mw```: Masa molecular\n",
        "\n",
        "- ```R```: Constante gas ideal\n",
        "\n",
        "- ```s```: Entropía específica\n",
        "\n",
        "\n",
        "Ahora, para acceder a las propiedades del agua simplemente utilizamos un \"método\" asociado al objeto ```water```. Por ejemplo, si queremos obtener la densidad del agua líquida a 15 ºC haremos:"
      ]
    },
    {
      "cell_type": "code",
      "execution_count": null,
      "metadata": {
        "colab": {
          "base_uri": "https://localhost:8080/"
        },
        "id": "87pIV0_IblLT",
        "outputId": "ecb69302-ebc4-4d5c-c9e3-b847c8dace9c"
      },
      "outputs": [
        {
          "name": "stdout",
          "output_type": "stream",
          "text": [
            "La densidad del agua es: [999.05268095] kg/m^3\n"
          ]
        }
      ],
      "source": [
        "den=water.d(T=15+273.15, x=0.0) #pasamos como argumentos la temperatura y el título de la mezcla, en este caso x=0 agua liquida\n",
        "print(\"La densidad del agua es:\", den, \"kg/m^3\") # las unidades serán según estén definidas en unit_length y unit_mass.\n",
        "                                                 # Si no me acuerdo, ejecuto pm.config"
      ]
    },
    {
      "cell_type": "markdown",
      "metadata": {
        "id": "hrEQAFAlgS8L"
      },
      "source": [
        "Si queremos obtener la densidad del agua líquida a 120 kPa haremos:\n",
        "\n"
      ]
    },
    {
      "cell_type": "code",
      "execution_count": null,
      "metadata": {
        "colab": {
          "base_uri": "https://localhost:8080/"
        },
        "id": "RTZTtUI8gbg4",
        "outputId": "5ee66c21-63c3-4a7d-8f75-cfb97a27e427"
      },
      "outputs": [
        {
          "name": "stdout",
          "output_type": "stream",
          "text": [
            "La densidad del agua es: [954.8629517] kg/m^3\n"
          ]
        }
      ],
      "source": [
        "den=water.d(p=120, x=0.0) #pasamos como argumentos la presión y el título de la mezcla, en este caso x=0 agua liquida\n",
        "print(\"La densidad del agua es:\", den, \"kg/m^3\") # las unidades serán según estén definidas en unit_length y unit_mass.\n",
        "                                                 # Si no me acuerdo, ejecuto pm.config"
      ]
    },
    {
      "cell_type": "markdown",
      "metadata": {
        "id": "K5YqYoUjgjSK"
      },
      "source": [
        "Y si queremos obtener la energía interna específica, $u$, del vapor agua saturado a 120 kPa haremos:"
      ]
    },
    {
      "cell_type": "code",
      "execution_count": null,
      "metadata": {
        "colab": {
          "base_uri": "https://localhost:8080/"
        },
        "id": "JhPkOtfVgBGK",
        "outputId": "289239ef-3d95-419d-e411-266e6d1e0b09"
      },
      "outputs": [
        {
          "name": "stdout",
          "output_type": "stream",
          "text": [
            "La energía interna específica: [2511.67872698] kJ/kg\n"
          ]
        }
      ],
      "source": [
        "uw=water.e(p=120, x=1.0) #pasamos como argumentos la presión y el título de la mezcla, en este caso x=1 vapor\n",
        "print(\"La energía interna específica:\", uw, \"kJ/kg\")"
      ]
    },
    {
      "cell_type": "markdown",
      "metadata": {
        "id": "spnZkA_3zQMx"
      },
      "source": [
        "### Ejemplo sencillo\n",
        "\n",
        "Un recipiente rígido contiene 20 kg de agua líquida saturada a 80 °C. Determine la presión en el recipiente y el volumen del mismo."
      ]
    },
    {
      "cell_type": "code",
      "execution_count": null,
      "metadata": {
        "colab": {
          "base_uri": "https://localhost:8080/"
        },
        "id": "vlwnpUfhev50",
        "outputId": "9963d437-6153-4f68-ef7e-21578ba779ef"
      },
      "outputs": [
        {
          "name": "stdout",
          "output_type": "stream",
          "text": [
            "El volumen total es: [0.0205812] m^3\n",
            "La presión es: [47.41240781] kPa\n"
          ]
        }
      ],
      "source": [
        "#Primero configuramos unidades. Ponemos presion en kPa (por gusto) y el resto las dejamos como están\n",
        "pm.config['unit_pressure'] = 'kPa'\n",
        "\n",
        "#Ahora ponemos los datos del problema. Las unidades tienen que ser acordes a lo que aparece en pm.config\n",
        "masa=20         #uds en kg (unit_mass)\n",
        "temp=273.15+80  #uds en K (unit_temperature)\n",
        "\n",
        "#Resolución\n",
        "v=1/water.d(T=temp, x=0.0)  #volumen específico para x=0 (liquido saturado)\n",
        "P=water.p(T=temp, x=0.0)    #presión para x=0 (liquido saturado)\n",
        "\n",
        "V=v*masa #volumen total\n",
        "print(\"El volumen total es:\", V, \"m^3\")\n",
        "print(\"La presión es:\", P,\"kPa\")"
      ]
    },
    {
      "cell_type": "markdown",
      "metadata": {
        "id": "UlPmazRoeg1L"
      },
      "source": [
        "## Resolución de ejercicios"
      ]
    },
    {
      "cell_type": "markdown",
      "metadata": {
        "id": "SIIYl8VI5nGX"
      },
      "source": [
        "### Ejercicio 1\n",
        "\n",
        "Considere el proceso de evaporación de 800 gramos de agua líquida saturada, que se evapora por completo a una presión constante de 105 kPa. Determine:\n",
        "\n",
        "a) el cambio de volumen en el proceso\n",
        "\n",
        "b) la cantidad de energía transferida al agua\n",
        "\n",
        "c) comprobar que $h_{fg}=u_{fg} + Pv_{fg}$."
      ]
    },
    {
      "cell_type": "code",
      "execution_count": null,
      "metadata": {
        "colab": {
          "base_uri": "https://localhost:8080/"
        },
        "id": "tJaNpduU5zVy",
        "outputId": "000c4cd5-7fe7-49aa-b1a1-cb8028fe1cf5"
      },
      "outputs": [
        {
          "name": "stdout",
          "output_type": "stream",
          "text": [
            "vf= [0.00104423] m^3/kg , vg= [1.61855827] m^3/kg\n",
            "Cambio de volumen total: [1.29401123] m^3\n",
            "hfg= [2253.85351315] kJ/kg\n",
            "Energía total transferida al agua= [1803.08281052] kJ\n",
            "hfg= [2253.86693465] kJ/kg (Otra forma) \n",
            "Energía total transferida al agua= [1803.09354772] kJ (Otra forma) \n"
          ]
        }
      ],
      "source": [
        "#Primero configuramos unidades\n",
        "pm.config['unit_pressure'] = 'kPa'\n",
        "\n",
        "#Ahora ponemos los datos del problema\n",
        "masa=0.8         #uds en kg\n",
        "Pres=105     #uds en kPa\n",
        "\n",
        "#Resolución\n",
        "\n",
        "#Apartado (a)\n",
        "vf=1/water.d(p=Pres, x=0.0)  #volumen específico para x=0 (liquido saturado)\n",
        "vg=1/water.d(p=Pres, x=1.0)  #volumen específico para x=0 (liquido saturado)\n",
        "\n",
        "vfg = vg - vf # cambio de volumen durante el proceso evaporación\n",
        "\n",
        "V=vfg*masa\n",
        "\n",
        "print(\"vf=\", vf, \"m^3/kg , vg=\", vg, \"m^3/kg\")\n",
        "print(\"Cambio de volumen total:\", V, \"m^3\")\n",
        "\n",
        "#Apartado (b)\n",
        "hf=water.h(p=Pres, x=0.0)\n",
        "hg=water.h(p=Pres, x=1.0)\n",
        "\n",
        "hfg = hg - hf #diferencia de entalpia entre ambos estados->entalpia de evaporacion\n",
        "\n",
        "Hfg=hfg*masa\n",
        "\n",
        "print(\"hfg=\", hfg, \"kJ/kg\")\n",
        "print(\"Energía total transferida al agua=\", Hfg, \"kJ\")\n",
        "\n",
        "#Apartado (c)\n",
        "uf=water.e(p=Pres, x=0.0)\n",
        "ug=water.e(p=Pres, x=1.0)\n",
        "\n",
        "ufg = ug - uf #diferencia de energía interna entre ambos estados\n",
        "\n",
        "hfg2 = ufg + Pres*vfg\n",
        "\n",
        "Hfg2=hfg2*masa\n",
        "\n",
        "print(\"hfg=\", hfg2, \"kJ/kg (Otra forma) \")\n",
        "print(\"Energía total transferida al agua=\", Hfg2, \"kJ (Otra forma) \")"
      ]
    },
    {
      "cell_type": "markdown",
      "metadata": {
        "id": "2PXYQF0lPYDj"
      },
      "source": [
        "### Ejercicio 2\n",
        "\n",
        "Un recipiente rígido contiene 12 kg de agua a 90 °C. Si 8 kg del agua están\n",
        "en forma líquida y el resto como vapor, determine:\n",
        "\n",
        " a) el título de la mezcla\n",
        "\n",
        " a) la presión en el recipiente\n",
        "\n",
        " b) el volumen del recipiente."
      ]
    },
    {
      "cell_type": "code",
      "execution_count": null,
      "metadata": {
        "colab": {
          "base_uri": "https://localhost:8080/"
        },
        "id": "3oeAA7idPZOy",
        "outputId": "3dfbf91d-c30f-49a1-f00c-01ab88c6f06b"
      },
      "outputs": [
        {
          "name": "stdout",
          "output_type": "stream",
          "text": [
            "El título de la mezcla es: 0.3333333333333333\n",
            "La presión es: [70.17611904] kPa\n",
            "El volumen es: [9.445392] m^3\n",
            "El volumen es: [9.445392] m^3 (Otra forma) \n"
          ]
        }
      ],
      "source": [
        "#Primero configuramos unidades\n",
        "pm.config['unit_matter'] = 'kg'\n",
        "pm.config['unit_pressure'] = 'kPa'\n",
        "\n",
        "#Ahora ponemos los datos del problema\n",
        "m=12        #uds en kg\n",
        "mf=8\n",
        "temp=273.15+90 # en K\n",
        "\n",
        "\n",
        "#Resolución\n",
        "\n",
        "#Apartado (a)\n",
        "\n",
        "mg = m - mf\n",
        "xt  = mg/m   #titulo mezcla\n",
        "\n",
        "print(\"El título de la mezcla es:\", xt)\n",
        "\n",
        "P=water.p(T=temp, x=xt)\n",
        "\n",
        "print(\"La presión es:\", P,\"kPa\")\n",
        "\n",
        "\n",
        "#Apartado (b)\n",
        "\n",
        "vf=1/water.d(T=temp, x=0.0)  #volumen específico para x=0 (liquido saturado)\n",
        "vg=1/water.d(T=temp, x=1.0)  #volumen específico para x=0 (liquido saturado)\n",
        "\n",
        "vprom=(1-xt)*vf+xt*vg\n",
        "\n",
        "vtot=vprom*m\n",
        "\n",
        "print(\"El volumen es:\", vtot,\"m^3\")\n",
        "\n",
        "#Se puede calcular directamente el volumen específico dado el título de la mezcla!!!\n",
        "\n",
        "vprom=1/water.d(T=temp, x=xt)\n",
        "\n",
        "vtot=vprom*m\n",
        "\n",
        "print(\"El volumen es:\", vtot,\"m^3 (Otra forma) \")\n"
      ]
    },
    {
      "cell_type": "markdown",
      "metadata": {
        "id": "He1qzcycezt2"
      },
      "source": [
        "### Ejercicio 3\n",
        "\n",
        "El agua contenida en un dispositivo cilindro-pistón sufre dos procesos en serie desde un estado donde la presión inicial es 12 bar y la temperatura es 350°C:\n",
        "\n",
        "- *Proceso 1-2*: El agua se enfría mientras es comprimida a presión constante hasta el estado de vapor saturado a 12 bar.\n",
        "\n",
        "- *Proceso 2-3*: El agua se enfría a volumen constante hasta 150 °C.\n",
        "\n",
        "a) Represente los estados 1, 2 y 3 sobre los diagramas T-v y P-v.\n",
        "\n",
        "b) Determine el trabajo en kJ/kg, para el proceso completo.\n",
        "\n",
        "c) Determine la transferencia de calor, en kJ/kg, para el proceso completo.\n"
      ]
    },
    {
      "cell_type": "code",
      "execution_count": null,
      "metadata": {
        "colab": {
          "base_uri": "https://localhost:8080/",
          "height": 523
        },
        "id": "pS071Bri8oIt",
        "outputId": "b2c6f3b7-971f-44fb-928f-e9245f7cb04f"
      },
      "outputs": [
        {
          "name": "stdout",
          "output_type": "stream",
          "text": [
            "x es: [0.41435093]\n",
            "w es: [-85.5480078]  kJ/kg\n",
            "q es: [-1527.98446815]  kJ/kg\n"
          ]
        },
        {
          "data": {
            "image/png": "[encoded data removed]",
            "text/plain": [
              "<Figure size 864x360 with 2 Axes>"
            ]
          },
          "metadata": {
            "needs_background": "light"
          },
          "output_type": "display_data"
        }
      ],
      "source": [
        "#Primero configuramos unidades\n",
        "pm.config['unit_matter'] = 'kg'\n",
        "pm.config['unit_pressure'] = 'kPa'\n",
        "\n",
        "Pres = np.linspace(100.0, 22063.0, num=100) #Pcrit=22063 kPa\n",
        "vline_f=1/water.d(p=Pres, x=0.0)\n",
        "vline_g=1/water.d(p=Pres, x=1.0)\n",
        "fig, (ax1,ax2) = plt.subplots(1,2,figsize=(12, 5))\n",
        "ax1.plot(vline_f,Pres,'-')\n",
        "ax1.plot(vline_g,Pres,'-')\n",
        "ax1.set_xlabel(\"v (m^3/kg)\")\n",
        "ax1.set_ylabel(\"P (kPa)\")\n",
        "ax1.set_xscale('log')\n",
        "ax1.set_yscale('log')\n",
        "\n",
        "Temp = np.linspace(350.0, 273.15+373, num=100) #Tcrit=373 K\n",
        "vline_f=1/water.d(T=Temp, x=0.0)\n",
        "vline_g=1/water.d(T=Temp, x=1.0)\n",
        "ax2.plot(vline_f,Temp,'-')\n",
        "ax2.plot(vline_g,Temp,'-')\n",
        "ax2.set_xlabel(\"v (m^3/kg)\")\n",
        "ax2.set_ylabel(\"T (K)\")\n",
        "ax2.set_xscale('log')\n",
        "\n",
        "P1=12*100 #kPa\n",
        "T1=350+273.15 #K\n",
        "v1=1/water.d(p=P1, T=T1)\n",
        "ax1.plot(v1,P1,'or')\n",
        "ax2.plot(v1,T1,'or')\n",
        "\n",
        "P2=P1\n",
        "v2=1/water.d(p=P2, x=1.0)\n",
        "T2=water.T(p=P2, x=1)\n",
        "\n",
        "P12 = np.linspace(P1, P2, num=20)\n",
        "T12 = np.linspace(T1, T2, num=20)\n",
        "v12 = 1/water.d(p=P1, T=T12)\n",
        "\n",
        "ax1.plot(v2,P2,'or')\n",
        "ax2.plot(v2,T2,'or')\n",
        "ax2.plot(v12,T12,'--r')\n",
        "ax1.plot(v12,P12,'--r')\n",
        "\n",
        "T3=150+273.15\n",
        "v3=v2\n",
        "P3=water.p(T=T3, x=1)\n",
        "ax1.plot(v3,P3,'or')\n",
        "ax2.plot(v3,T3,'or')\n",
        "\n",
        "P23 = np.linspace(P2, P3, num=20)\n",
        "T23 = np.linspace(T2, T3, num=20)\n",
        "v23 = np.linspace(v2, v3, num=20)\n",
        "ax2.plot(v23,T23,'--r')\n",
        "ax1.plot(v23,P23,'--r')\n",
        "\n",
        "vf3= 1/water.d(T=T3,x=0.0)\n",
        "vg3= 1/water.d(T=T3,x=1.0)\n",
        "\n",
        "x3= (v3-vf3)/(vg3-vf3)\n",
        "\n",
        "print(\"x es:\", x3)\n",
        "\n",
        "# Apartado b)\n",
        "\n",
        "w = P1*(v2-v1)\n",
        "\n",
        "print(\"w es:\", w, \" kJ/kg\")\n",
        "\n",
        "# Apartado c)\n",
        "\n",
        "#q=u3-u1+w\n",
        "\n",
        "u1  = water.e(T=T1,p=P1)\n",
        "\n",
        "uf3 = water.e(T=T3,x=0.0)\n",
        "ug3 = water.e(T=T3,x=1.0)\n",
        "u3  = (1-x3)*uf3+x3*ug3\n",
        "\n",
        "q  = u3-u1 + w\n",
        "\n",
        "print(\"q es:\", q, \" kJ/kg\")\n",
        "\n",
        "\n"
      ]
    }
  ],
  "metadata": {
    "colab": {
      "provenance": [],
      "toc_visible": true,
      "include_colab_link": true
    },
    "kernelspec": {
      "display_name": "Python 3",
      "language": "python",
      "name": "python3"
    },
    "language_info": {
      "codemirror_mode": {
        "name": "ipython",
        "version": 3
      },
      "file_extension": ".py",
      "mimetype": "text/x-python",
      "name": "python",
      "nbconvert_exporter": "python",
      "pygments_lexer": "ipython3",
      "version": "3.7.6"
    }
  },
  "nbformat": 4,
  "nbformat_minor": 0
}