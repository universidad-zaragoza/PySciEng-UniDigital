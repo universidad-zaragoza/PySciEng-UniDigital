{
  "cells": [
    {
      "cell_type": "markdown",
      "metadata": {
        "id": "view-in-github",
        "colab_type": "text"
      },
      "source": [
        "<a href=\"https://colab.research.google.com/github/IrisFDTD/PySciEng-UniDigital/blob/main/contenidos/TTyFTC_2.ipynb\" target=\"_parent\"><img src=\"https://colab.research.google.com/assets/colab-badge.svg\" alt=\"Open In Colab\"/></a>"
      ]
    },
    {
      "cell_type": "markdown",
      "metadata": {
        "id": "ZyYxarWXICGB"
      },
      "source": [
        "<a rel=\"license\" href=\"http://creativecommons.org/licenses/by-nc-sa/4.0/\"><img alt=\"Licencia Creative Commons\" style=\"border-width:0\" src=\"https://i.creativecommons.org/l/by-nc-sa/4.0/88x31.png\" /></a><br /><span xmlns:dct=\"http://purl.org/dc/terms/\" property=\"dct:title\">Python en ciencias e ingeniería: tutoriales basados en ejemplos</span> por <span xmlns:cc=\"http://creativecommons.org/ns#\" property=\"cc:attributionName\">Sergio Gutiérrez Rodrigo y Adrián Navas Montilla</span> se distribuye bajo una <a rel=\"license\" href=\"http://creativecommons.org/licenses/by-nc-sa/4.0/\">Licencia Creative Commons Atribución-NoComercial-CompartirIgual 4.0 Internacional</a>."
      ]
    },
    {
      "cell_type": "markdown",
      "source": [
        "![image.png](data:image/png;base64,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)"
      ],
      "metadata": {
        "id": "PeoQMxuT0vO1"
      }
    },
    {
      "cell_type": "markdown",
      "source": [
        "---\n",
        "Producción de contenidos educativos digitales UNIZAR 2022-2023\n",
        "\n",
        "**Objetos de aprendizaje abiertos del Vicerrectorado de Educación Digital y Formación Permanente de la Universidad de Zaragoza en el marco del Proyecto UniProducción incluido en el Plan UniDigital.**\n",
        "---\n",
        "\n"
      ],
      "metadata": {
        "id": "uzON2FNW1uod"
      }
    },
    {
      "cell_type": "markdown",
      "metadata": {
        "id": "aZ4I0EbyAqVW"
      },
      "source": [
        "## <center> Resolución numérica de la ecuación del calor  </center>\n",
        "\n",
        "\n",
        "-----------------------------------------"
      ]
    },
    {
      "cell_type": "markdown",
      "metadata": {
        "id": "ctgg3tv4d4a9"
      },
      "source": [
        "## Introducción al método de las diferencias finitas\n",
        "\n",
        "\n",
        "### Derivadas discretas (aproximadas)\n",
        "\n",
        "La aproximación por diferencias finitas es el más antiguo de los métodos aplicados para obtener soluciones numéricas de ecuaciones diferenciales. La primera utilización de este método se atribuye a Leonhard Euler en 1768. La idea de los métodos de diferencias finitas es en realidad bastante simple, ya que corresponde a una estimación de una derivada mediante la diferencia discreta del valor de la función en dos puntos cercanos.\n",
        "\n",
        "La derivada de una función $u(x)$ en $x$ se define como:\n",
        "\n",
        "$$\n",
        "\t\\frac{\\partial u }{\\partial x} = \\lim_{\\Delta x \\rightarrow 0} \\frac{u(x+\\Delta x) - u(x)}{\\Delta x} \\,.\n",
        "$$\n",
        "\n",
        "\n",
        "Si quitamos el límite de $\\Delta x \\rightarrow 0$ en la expresión anterior, considerando un $\\Delta x$ finito, entonces obtendremos el concepto de derivada discreta como una diferencia finita. Ésta se calculará como el ratio de la diferencia de la función evaluada en $x+\\Delta x$ y $x$ respecto de $\\Delta x$.\n",
        "\n",
        "En el caso de utilizar una diferencia finita, se cometerá cierto error y éste se puede derivar utilizando una expansión en serie de Taylor:\n",
        "\n",
        "$$\n",
        "u(x+\\Delta x )=u(x)+\\left(\\frac{\\partial u}{\\partial x}\\right)\\Delta x+\\left(\\frac{\\partial^2 u}{\\partial x^2}\\right)\\frac{\\Delta x^2}{2} +\\left(\\frac{\\partial^3 u}{\\partial x^3}\\right)\\frac{\\Delta x^3}{6} + ...\\,\\,,\n",
        "$$\n",
        "\n",
        "Despejando la primera derivada de la expresión anterior obtenemos:\n",
        "\n",
        "\n",
        "$$\n",
        "\\left(\\frac{\\partial u}{\\partial x}\\right)= \\frac{u(x+\\Delta x) - u(x)}{\\Delta x} -\\underbrace{\\left(\\frac{\\partial^2 u}{\\partial x^2}\\right)\\frac{\\Delta x}{2} -\\left(\\frac{\\partial^3 u}{\\partial x^3}\\right)\\frac{\\Delta x^2}{6} - ...}_{\\mbox{error de truncamiento}}\\,\\,,\n",
        "$$\n",
        "\n",
        "lo que permite expresar la aproximación de la primera derivada como:\n",
        "\n",
        "$$\n",
        "\t\\frac{\\partial u }{\\partial x} \\approx  \\frac{u(x+\\Delta x) - u(x)}{\\Delta x}  \\, .\n",
        "$$\n",
        "\n",
        "En 1D, vamos a considerar un dominio espacial $[0,L]$ que se discretizará en $N=L/\\Delta x+1$ nodos localizados en las coordenadas $x_i=i\\Delta x$, con $\\Delta x$ el paso de discretización espacial. En los puntos de la malla, se aproximarán las variables como $u_i \\approx u(x_i)$\n",
        "\n",
        "\n",
        "Generalmente, se usan dos tipos de aproximación de las derivadas espaciales en función de qué información cojamos:\n",
        "\n",
        "- Diferencias regresivas (hacia atrás):\n",
        "\n",
        "$$\n",
        "\t\\frac{\\partial u }{\\partial x} \\approx  \\frac{u_{i} - u_{i-1}}{\\Delta x}  \\, .\n",
        "$$\n",
        "\n",
        "- Diferencias progresivas (hacia adelante):\n",
        "\n",
        "\n",
        "$$\n",
        "\t\\frac{\\partial u }{\\partial x} \\approx  \\frac{u_{i+1} - u_{i}}{\\Delta x}  \\, .\n",
        "$$\n",
        "\n",
        "En el caso de tener que aproximar una derivada segunda, podemos combinar ambas para obtener:\n",
        "\n",
        "$$\n",
        "\t\\frac{\\partial ^2 u }{\\partial x^2} \\approx  \\frac{\\frac{u_{i+1} - u_{i}}{\\Delta x} - \\frac{u_{i} - u_{i-1}}{\\Delta x}}{\\Delta x} = \\frac{u_{i+1} -2u_{i} +u_{i-1}}{\\Delta x^2} \\, .\n",
        "$$\n",
        "\n",
        "\n",
        "### Resolución numérica de la ecuación del calor\n",
        "\n",
        "Ahora vamos a utilizar las expresiones anteriores de derivadas discretas para resolver la ecuación del calor en 1D sin generación:\n",
        "\n",
        "$$\n",
        "\\rho c\t\\frac{\\partial T }{\\partial t} =  \\frac{\\partial  }{\\partial x}\t\\left( k\\frac{\\partial T }{\\partial x} \\right) \\, .\n",
        "$$\n",
        "\n",
        "Asumiendo que $\\rho$, $c$ y $k$ son constantes,  podemos reescribir la ecuación de forma compacta como\n",
        "\n",
        "$$\n",
        "\t\\frac{\\partial T }{\\partial t} =  b\t\\frac{\\partial ^2 T }{\\partial x^2}\\, .\n",
        "$$\n",
        "\n",
        "con $b=k/(\\rho c)$ la difusividad térmica. El problema se define en un dominio $[0,L]$ hasta un tiempo $t$, considerando también una condición inicial $T(x,0)=T_0(x)$ y unas condiciones de contorno $T(0,t)=T_L$ y $T(L,t)=T_R$.\n",
        "\n",
        "Para resolver el problema, el primer paso es expresar la ecuación diferencial de manera discreta, utilizando una la aproximación progresiva para el tiempo y la derivada central para el espacio:\n",
        "\n",
        "$$\n",
        "\\frac{T_{i}^{n+1}-T_{i}^{n}}{\\Delta t}=b\\frac{T_{i+1}^{n}-2T_{i}^{n}+T_{i-1}^{n}}{\\Delta x^2}\n",
        "$$\n",
        "\n",
        "donde $n$ y $n+1$ son dos instantes consecutivos de tiempo tal que $t^n=n\\Delta t $, mientras que, $i-1$ y $i$ son dos puntos vecinos de la coordenada $x$ discretizada. Si se dan las condiciones iniciales, entonces la única incógnita en esta discretización es $u_i^{n+1}$. Por lo tanto, podemos actualizar el valor de la temperatura en cada punto utilizando la siguiente expresión:\n",
        "\n",
        "$$\n",
        "T_{i}^{n+1}=T_{i}^{n}+ b\\frac{\\Delta t}{\\Delta x^2} \\left(T_{i+1}^{n}-2T_{i}^{n}+T_{i-1}^{n}\\right)\n",
        "$$\n",
        "\n",
        "Pero...\n",
        "\n",
        "- ¿Con qué valores de $T_{i}$ empezamos en el tiempo $t=0$, es decir, en $n=0$? Impondremos la condición inicial:\n",
        "$$T_{i}^{0}=T(x_i)$$\n",
        "\n",
        "- ¿Qué ocurre cuando queremos caluclar la temperatura en el primer nodo ($i=0$) o en el último? Entonces no podemos utilizar la expresión general anterior ya que nos falta información de lo que hay al otro lado del contorno. En este caso, impondremos las condiciones de contorno.  En el caso más sencillo, cuando nos dan la temperatura en los extremos, tendremos condiciones de contorno de tipo Dirichlet y bastará con hacer:\n",
        "$$T_{0}^{n+1}=T_L$$\n",
        "$$T_{N-1}^{n+1}=T_R$$\n",
        "donde $T_L$ y $T_R$ son los valores de temperatura en los extremos izquierdo (L, left)y derecho (R, right), que son dato del problema.\n",
        "\n",
        "Y una última cuestión... debemos elegir el valor de $\\Delta t$. Para que el método numérico funcione adecuadamente y no se vuelva inestable, este valor no se puede escoger de forma arbitraria. Lo calcularemos de la siguiente manera:\n",
        "\n",
        "$$ \\Delta t=\\sigma \\frac{\\Delta x^2}{b}$$\n",
        "\n",
        "donde $\\sigma$ es una constante que debe estar dentro de unos límites. A esto lo denominamos *condición de Courant–Friedrichs–Lewy (CFL)*."
      ]
    },
    {
      "cell_type": "markdown",
      "metadata": {
        "id": "LITVC6KmPNzZ"
      },
      "source": [
        "## Trabajo práctico\n",
        "### Primer paso: cargar librerías de Python\n",
        "\n",
        "Para comenzar, debemos cargar todos los paquetes de Python necesarios:"
      ]
    },
    {
      "cell_type": "code",
      "execution_count": null,
      "metadata": {
        "id": "FNuY3zZTdbtN"
      },
      "outputs": [],
      "source": [
        "import numpy as np              # Librería para cálculo numérico\n",
        "import math                     # Librería para utilizar símbolos matemáticos como el número pi, que se escribe como math.pi\n",
        "from scipy import special\n",
        "import matplotlib.pyplot as plt # Librería para poder dibujar gráficas\n",
        "import matplotlib.animation as animation\n",
        "from matplotlib.animation import FuncAnimation\n",
        "from IPython.display import HTML"
      ]
    },
    {
      "cell_type": "markdown",
      "metadata": {
        "id": "xzTBZ3ZZQGR3"
      },
      "source": [
        "### Apartado 1: Primeros pasos para la resolución de la ecuación del calor\n",
        "\n",
        "Para comenzar, se pide resolver el siguiente problema\n",
        "\n",
        "$$\n",
        "\t\\frac{\\partial T }{\\partial t} =  b\t\\frac{\\partial ^2 T }{\\partial x^2}\\, .\n",
        "$$\n",
        "\n",
        "con $b=0.3$ m$^2$/s en un dominio $[0,2]$ m hasta un tiempo $t=0.2$ s, dada una condición inicial\n",
        "\n",
        "$$ T(x,0)=\\left\\{ \\begin{array}{l}\n",
        "2 \\hbox{ ºC si } x<1 \\\\\n",
        "1 \\hbox{ ºC si } x\\geq 1\n",
        "\\end{array}\\right.$$\n",
        "\n",
        "y unas condiciones de contorno $T(0,t)=2$ ºC y $T(L,t)=1$ ºC. Para ello, se utilizará el esquema en diferencias finitas expuesto arriba, que nos permite calcular la evolución de la temperatura a o largo del tiempo.\n",
        "\n",
        "Se pide lo siguiente:\n",
        "\n",
        "1.a) Completa el código inferior para resolver el problema propuesto, utilizando las expresiones anteriores.\n",
        "\n",
        "1.b) Completa la gráfica y observa el resultado.\n",
        "\n",
        "1.c) Prueba distintos valores de $N$ y de $b$ y observa la solución.\n",
        "\n",
        "1.d) Prueba $\\sigma=0.05$ y $\\sigma=0.9$ y explica qué ocurre. Encuentra (probando) el valor aproximado de $\\sigma$ para el cual la solución deja de ser estable y se vuelve oscilatoria.\n",
        "\n",
        "\n"
      ]
    },
    {
      "cell_type": "code",
      "execution_count": null,
      "metadata": {
        "id": "lV7vNgQN_hII",
        "outputId": "3ef2385f-6de2-452c-da30-1a3dedcb85ed"
      },
      "outputs": [
        {
          "name": "stdout",
          "output_type": "stream",
          "text": [
            "La longitud del dominio es: 2.0\n",
            "El numero de nodos espaciales es: 20\n",
            "El numero de pasos temporales es: 18\n",
            "El paso de tiempo es es: 0.011080332409972297\n",
            "El tiempo final es: 0.18836565096952906\n",
            "\n"
          ]
        },
        {
          "data": {
            "text/plain": [
              "<matplotlib.legend.Legend at 0xec10a3ac08>"
            ]
          },
          "execution_count": 4,
          "metadata": {},
          "output_type": "execute_result"
        },
        {
          "data": {
            "image/png": "[encoded data removed]",
            "text/plain": [
              "<Figure size 432x360 with 1 Axes>"
            ]
          },
          "metadata": {
            "needs_background": "light"
          },
          "output_type": "display_data"
        }
      ],
      "source": [
        "#Primero definimos los parámetros del problema\n",
        "\n",
        "L = 2.0  #longitud del dominio en x\n",
        "N = 20   #numero de nodos espaciales en x\n",
        "dx = L/(N-1)\n",
        "tf = 0.2  #tiempo final que queremos simular\n",
        "b  = 0.3   # valor de la conductividad térmica\n",
        "sigma = 0.3 #sigma es un parametro que controla la estabilidad del metodo numérico\n",
        "\n",
        "#después calculamos el paso de tiempo y el numero de pasos necesario\n",
        "dt = sigma*dx**2/b #se calcula el paso de tiempo para la integración temporal\n",
        "\n",
        "nt=int(tf/dt) # número de pasos de tiempo necesarios\n",
        "\n",
        "\n",
        "print(\"La longitud del dominio es:\",L)\n",
        "print(\"El numero de nodos espaciales es:\",N)\n",
        "print(\"El numero de pasos temporales es:\",nt)\n",
        "print(\"El paso de tiempo es es:\",dt)\n",
        "print(\"El tiempo final es:\",(nt-1)*dt)\n",
        "print()\n",
        "\n",
        "#inicializamos los arrays\n",
        "x = np.zeros(N)\n",
        "t = np.zeros(nt)\n",
        "T = np.zeros((nt, N))\n",
        "\n",
        "#damos valores a las posiciones espaciales\n",
        "for i in range(N):\n",
        "    x[i]=dx*i\n",
        "\n",
        "#damos valores a los tiempos\n",
        "for i in range(nt):\n",
        "    t[i]=dt*i\n",
        "\n",
        "#definimos la condición inicial\n",
        "def initial_condition1(x):\n",
        "    return np.piecewise(x, [x < 1, x >= 1], [2, 1])\n",
        "\n",
        "#imponemos la condición inicial en el tiempo \"cero\"\n",
        "T[0,:] = initial_condition1(x)\n",
        "\n",
        "#calculo de evolución de la temperatura en el tiempo\n",
        "for n in range(0,nt-1): #bucle temporal\n",
        "    for i in range(1, N-1): #bucle espacial entre 1 y N-2 (sin incluir primer y ultimo nodo)\n",
        "        T[n + 1, i] = T[n,i] + b*dt/dx**2 * (T[n,i+1] + T[n,i-1] - 2*T[n,i])\n",
        "    #condiciones de contorno en primer y ultimo nodo\n",
        "    T[n + 1, 0]=2\n",
        "    T[n + 1, N-1]=1\n",
        "\n",
        "n=nt-1 #instante de tiempo en el que pinto la solución\n",
        "\n",
        "fig, ax1 = plt.subplots(figsize=(6, 5))\n",
        "ax1.plot(x,T[0, :],'--',label='Condicion inicial')\n",
        "ax1.plot(x,T[n,:],'-o',label=f'Solución en t= {(n)*dt:.3f} s')\n",
        "ax1.set_xlabel(\"x\")\n",
        "ax1.set_ylabel(\"T\")\n",
        "ax1.legend()"
      ]
    },
    {
      "cell_type": "markdown",
      "metadata": {
        "id": "W5lkkhCqVTOu"
      },
      "source": [
        "Ahora vamos a hacer una representación de la temperatura en función del espacio y del tiempo."
      ]
    },
    {
      "cell_type": "code",
      "execution_count": null,
      "metadata": {
        "id": "e51Qwe_dVTDN",
        "outputId": "beb4f3c2-0d6e-4822-eeee-31bd9776e7fb"
      },
      "outputs": [
        {
          "data": {
            "text/plain": [
              "<matplotlib.colorbar.Colorbar at 0xec1095f948>"
            ]
          },
          "execution_count": 5,
          "metadata": {},
          "output_type": "execute_result"
        },
        {
          "data": {
            "image/png": "[encoded data removed]",
            "text/plain": [
              "<Figure size 432x288 with 2 Axes>"
            ]
          },
          "metadata": {
            "needs_background": "light"
          },
          "output_type": "display_data"
        }
      ],
      "source": [
        "XX, TT = np.meshgrid(x, t)\n",
        "\n",
        "fig, ax = plt.subplots()\n",
        "CS = ax.contourf(XX, TT, T)\n",
        "ax.set_title('T(x,t)')\n",
        "ax.set_xlabel(\"x\")\n",
        "ax.set_ylabel(\"tiempo\")\n",
        "plt.colorbar(CS)"
      ]
    },
    {
      "cell_type": "markdown",
      "metadata": {
        "id": "_0qpOOkTHUzk"
      },
      "source": [
        "Con esto hacemos una animación de la solución:\n",
        "\n"
      ]
    },
    {
      "cell_type": "code",
      "execution_count": null,
      "metadata": {
        "id": "65gUIxPAK0sv",
        "outputId": "9cbd4a89-d8c1-4b11-b437-0fd1868ad36b"
      },
      "outputs": [
        {
          "data": {
            "text/html": [
              "<video width=\"432\" height=\"288\" controls autoplay>\n",
              "  <source type=\"video/mp4\" src=\"data:video/mp4;base64,AAAAHGZ0eXBNNFYgAAACAGlzb21pc28yYXZjMQAAAAhmcmVlAABAd21kYXQAAAKuBgX//6rcRem9\n",
              "5tlIt5Ys2CDZI+7veDI2NCAtIGNvcmUgMTU3IHIyOTM1IDU0NWRlMmYgLSBILjI2NC9NUEVHLTQg\n",
              "QVZDIGNvZGVjIC0gQ29weWxlZnQgMjAwMy0yMDE4IC0gaHR0cDovL3d3dy52aWRlb2xhbi5vcmcv\n",
              "eDI2NC5odG1sIC0gb3B0aW9uczogY2FiYWM9MSByZWY9MyBkZWJsb2NrPTE6MDowIGFuYWx5c2U9\n",
              "MHgzOjB4MTEzIG1lPWhleCBzdWJtZT03IHBzeT0xIHBzeV9yZD0xLjAwOjAuMDAgbWl4ZWRfcmVm\n",
              "PTEgbWVfcmFuZ2U9MTYgY2hyb21hX21lPTEgdHJlbGxpcz0xIDh4OGRjdD0xIGNxbT0wIGRlYWR6\n",
              "b25lPTIxLDExIGZhc3RfcHNraXA9MSBjaHJvbWFfcXBfb2Zmc2V0PS0yIHRocmVhZHM9OSBsb29r\n",
              "YWhlYWRfdGhyZWFkcz0xIHNsaWNlZF90aHJlYWRzPTAgbnI9MCBkZWNpbWF0ZT0xIGludGVybGFj\n",
              "ZWQ9MCBibHVyYXlfY29tcGF0PTAgY29uc3RyYWluZWRfaW50cmE9MCBiZnJhbWVzPTMgYl9weXJh\n",
              "bWlkPTIgYl9hZGFwdD0xIGJfYmlhcz0wIGRpcmVjdD0xIHdlaWdodGI9MSBvcGVuX2dvcD0wIHdl\n",
              "aWdodHA9MiBrZXlpbnQ9MjUwIGtleWludF9taW49MTAgc2NlbmVjdXQ9NDAgaW50cmFfcmVmcmVz\n",
              "aD0wIHJjX2xvb2thaGVhZD00MCByYz1jcmYgbWJ0cmVlPTEgY3JmPTIzLjAgcWNvbXA9MC42MCBx\n",
              "cG1pbj0wIHFwbWF4PTY5IHFwc3RlcD00IGlwX3JhdGlvPTEuNDAgYXE9MToxLjAwAIAAABe1ZYiE\n",
              "ABH//veIHzLLafk613IR560urR9Q7kZxXqS9/iAAAAMAFpyZQ/tier8JHyv5gBxAgGshsyGRNmi1\n",
              "3m9zw7InhO+MZt1LNs97f8uaRJ2A3Asf0fIVqs80NaHkw8VzHCCCTEvUORS2mOEqM7dCUNb6Ybuf\n",
              "X5CtBqkeru12NThtbV8y5AjtWUBCTai8LXp+Zej8xTvSKczTBfPLhI1N9/E7eCz5YGSeCjqdmRKv\n",
              "B//nkuVOR1ZGAkiAxfqm/NcM4mCC/EbqGCjHmaJSL0Q0ieVgNyAufE5ZL2f2qqwzZqDrWtbJ+j+y\n",
              "gkOqH1EOvMbEP3lx2qy2TxpAl0BT/KTZQTx5rr99XjkcyX/tGu4uorZ3cnszaMibJ3QJWzqTF90X\n",
              "WojsRLBMwoD+k5oH58YHb0D4KBxCRI3zgVsNPanGpznzbDLmkVm61xqgzhvD0xe8/8lraVGKi46h\n",
              "hYI+Ujayo02h1bwZr6XUMW1ujB7ZL6SPGHza60bC1w7z8C7mDZS0718tQHt8EhPTJDPBx41wVApw\n",
              "e429P1RW/p4W0cq+qbYzz4sWI3S88CI1cP5+6XQo4XBHtHEzV5RhOgaxs4AsCV8PfCaIj1mGbymj\n",
              "6H7uBdPBgRndagVOErxiTazwt66Mpu2si8FTRsHp0s/4rwGEx0Acz3ZL8fP5cMBrf+WRT3rFsY5/\n",
              "8aUr0XyBxvOObHNCF/bNX6lCOTAvRnQ2D1Ymx1xHq2STtJMd59AB68Hi2MV/1e9plTwfxUzSZKqA\n",
              "4bOA2HpgtS3FMCY6jy0n/lvH3e3DVcZd/2roFGZdNtzeo+2J+yDTFaVgVqICgMsROsrYmI6ZlzcT\n",
              "9b8o0869NZwHYoG3rdsc/U//MblR5y0Y1iP3JTsDe3/2uF8SshPbGVbs7MslJmnwuPtjavZ3edWM\n",
              "sCtxJ0ws4mcu6RJ0buNKA9uYsYMGhvOhWwvETc9LVwU9ZJ/O0mw+TP12cDlm3904hj9Wh2SRWfwF\n",
              "gnxsCC8sXSBYMVYhKcSer8/8ahjPArhvGZhQ5z9XYPMevqwSD8vSZr3T8rftM9BH51KCkw1nwqmY\n",
              "WN8o9fJvJkcrLFBo6mSMkJjiP/SIucBHJ+TL/I/ANacWe/hql6Son3WnoYXDtrHz1vf4PO34PuS6\n",
              "GmH2Sg5VYQ0kv2R8jVTay1k+VENMiOMy+42Uhv1Dhs1tBV9i4gUE94UjBr7irwwLB0+TNoRk4xbA\n",
              "prqnfrswX4U6U5iAFzOG9e1aeVQccmozMFSQaQGAubxugkE8hkNwQ2MtvKPTzv+gVXuQeMNW2uma\n",
              "PAMPTXcdrfxcPQ9uFLfUDKAVAyx2/pdJvkQ5zO6ZYtFLHnTX1rDlNu2+dkKRQzbOsDx98C+h0ZTP\n",
              "8aIH+rU2glI4/pIuQWx0CXYbhecqwh6r0nmCHY8in01TppbYoq8s1ieb+FhM2dG3qV44uIwjefJE\n",
              "GohhVQ6Q9855l59NBDbEk3vm2kY2qWAcfaEeSBeKlbz7VrC2A2i7qWvdPTrhpZY6gmSDlT0G+UEf\n",
              "spVxr9hs4D7imuiXPMLtB6t4/VBhsjbDNNuQEzLAxs/3T7oqvQaw+pSgCzmow8IovkYEeZVFafcQ\n",
              "OWAl5Cp4K3hD/hctmwYbOgKhvwI3F0XJXP8ApNI3/Wq53FPwg2NP7p4CCh/aCgpv0e3uP9Ag1jhX\n",
              "tVAzwiG0piv8jUSKbp/gxCum22/Duveyba+r6NPY3QMEKDSMQP6n/2HY8h2siRV76LtTyfd1N7Km\n",
              "wCB/IYf8nvnK+aoj2SSCyLnkjSQ/23skezoFeMEROyiRiih0U7uy/P2bBmb3Ob5AnNs8RwVZOKLl\n",
              "LBIIL77twKMjzYlQI5VUpWFvJf/BJVXANpNA8TDxIPu+Ds6maa9gy4+3imBWLoT7PrW5ujSbDc+t\n",
              "wPIbzuXJqR+Ga8OHlyA/+p1gIDyIZv0LCoiXjSDGXElNVV6Opq4PcPljfH00gpQDzvMTMGF/V7xp\n",
              "yIW4BCO+03OCNNjiROceg2a51jptEk97knB71jiotNcnmFVcKBr63H4w9uJ2995Aa3JUz6dxZ4dm\n",
              "72hboG6gVcnpeIZQyY8t2mya8rEYabiX4G6f37E/wqelUo++d4ufGrQmybfeYDW0yIs50pYO2+NM\n",
              "5x/zNj5ohO/2AjxueoFJI9TX4H1AC4L86rFwiwkae8yXpvdYw0g6VPeDNAKDxKAvH0clygvsuQgi\n",
              "n+mbIyZluvdSMlJ15AcnQy+WrZUF0rEuIqlX+fbEK8e7gMneTc5sH4BvcdxpTRHPo2bE9DUsC5QD\n",
              "zAzGza18JNLRNjVU0r2USW6CB4CRyr0jxcBBENINwsGwThXaMs/cmOo2mGi8FAmrANCl53+Ry3KW\n",
              "yIzF+GMHjY27fSDMUU7PkMZaALe56ZXj0I96jsGM/nbhRA+2ZT7e5HOKCsafXppangTpZQXnkZNd\n",
              "Ck6SA0QdxxJGJp4qSahcjciX4oM9FoOj/vv854Mc4AaUWt5aKSdKMcjkqIVbm2tGbQuvN7mh1mlO\n",
              "pVfcW3TfbcoQXqF3lD1ShZ4EUHiLCNbH2HCYOIliUYraKO3ENYSF5OyygfkYv3G/bIjGFQuYj2hd\n",
              "V/Rcu6rmjpWLKIPwkwzmU7pgzfSwUYxvRm7FID7+PhHq80vZ1vRUOl+6yAaOrOGTX6sPVsKCL9aV\n",
              "CKacW2ueiCmydZRHbBpoz7yN0cFEKJGe44X0Ovq3u0rTi/FuXviacN9Mx5am5hyZ1o4j3zFua5+N\n",
              "wNE3ePDGXv4zjRVu/AwrWLmqrn3npvzv8O+gszPNvWv/VaoR81zGZss/XWV5Gm2yXkeTab4zMB4G\n",
              "zXx0hUQS12qfk//h+FBwiYCO9A/RAkvy+qIOYeQq8rifyvtKXqEgynJ5XLHurXhOD7aEX8N63HIl\n",
              "jWTqUWK1LLPygDNRl7FpriSaMS2Jyk49WRYLQKDC7xUVIa/lnUGOP/oms/ptSiPu2/m2UGlYBUaz\n",
              "OhzWjGup6XxIlpYcZ4u5Zpbw1pY8JYCnLZMw6PaZzdpb0Xk++Quz+nWMTJgt7ibeBBBS19+4gj0W\n",
              "/vo4RrqtcApoAJqhaY33WypZyFccB2VBcFdaGIYqXv+KfawCOOXULvjHfSeoI07Y41Dh90SCOT+b\n",
              "xSAEXeRC+WNFs53H49phpRSk8EY0W0LskZzqgylcGYFuwyB4mocj16+KQdV8eUAYAgA/LG8/Ob10\n",
              "6W5kVLlAHpSTxYAnm6R1QCUpyXEWEq1oC1cMilQ7sIdwI6ELLWRfY1kefT47zWw8NtHb4Bd26OGl\n",
              "WUN9mT61N4iHiZXYr0gIlq2fpPeXKaaVNT5+qVCFL6hTqwDovfno5gP5vJQHudESWg0Bf9wa2XIx\n",
              "G73jQ8oTTUu+HKoCuLo7KWPO+BnfEAOWwKv7SRpmyTesi3XoS9pGzEbtHndr9LTaSzNHPIl/24+p\n",
              "LRSvVzy1GBUzbEigyZXxT8X13BhVp1M17CmH13yH+XwMlSjtGgaANtJTn7a7E1eFyvTAFM04lz8Q\n",
              "7WtAR0WjKlQ+7+xmmhxB8LufKJgdf0QOe+QcaF54/75Z1SxfeG2nTcwmQAxnwDwBKv+4XXxC1gXC\n",
              "f/JPABAEqxFLdGs6q7hR54kqSIVcvP5A/XEq01qZbUF79ISwZ/PBm9zsQiGkWxCiM4+W27YimVHs\n",
              "+I+DRaXraT82U9Z8NCwdFzU12EgdBQoCMkd7kwdpqgddCLe9ORTAzna7EEkNJaYCNSAaXHNDXMKB\n",
              "o301e+I1afWcZ/+loL2T/WjamNGRRIBWN50XeO+i0Jb+oO7vc/6xHThYqj+eg4+3LOnlUzXg9Mrp\n",
              "1DlpV6nN5oh9MGSM6iZu+ZnW05aZHN/f1m8SmuLrOEM1OafMYFmcrbXDnsJTwd30Xdzv1/EGB7J4\n",
              "9iV6n9sDBs580kA43oROkh+7cpDBvdgm81CUAh3Un1swq4o5WE0c9BC6+j5y9XfxPOqd54adSssk\n",
              "E5XqnG6ELR+wV5QWxKGOGmGisnL2m8uhGIoxDGjRw30YxPa/IdeqY0woRt+6tOgP7f8ZUyj/6/5o\n",
              "umdAbaBIZsvawrNAQPnpnXQ9eKNp9zDdAu22wCfZwXhRy0mAOvV84pweL4YZsWPwG+/Xr0YfyB8p\n",
              "KpRRE+ATkCYHm65XelLyKHGAgiSuD5qHS9+4hHJ7pZVgWtwaerxhcsv8rCQj43D/+yuYp4Gca6eO\n",
              "7tWZFFmWd23u+IADf6NZ9f6Fcxk3THovq3r/riI4FUx3gqo0MXAtWDpfHoqVQxsBs5i1V+Kb29Pl\n",
              "zEi1tvFJmo5tNBVduBExbCv10snNrzFjj5nRwNn9dVAwhM+DQXL+swI95ha4hApvAPXz4VMEzQGY\n",
              "bmTVf+mDTHm45swp6V0uWQQ97zCRMs1PyZfSe9vb3izzJ3th/h1PNmP5zlgMoU3uRpTpG9kW4vXg\n",
              "+3H9oly/tg19qrYYfZZ7nDxH3jV0T6sDfeZv2pIlnAKNzHwmYsFrCnyZwncU/nPRS7z4kpkQVuZ+\n",
              "M51zv33SaTAbzdq+NP3fMNqPTYi/dVaszqoHoxKAGMKr5g10CFQnH63dan40uOy3zo2EkRQo8yFh\n",
              "JoX/Inz/CfiTYquuzNbcSBMVmt+IHlD6trbdPgjJG9eaW6Nz2XRsvuOJK+qcYoPyVcFr1f8+3XpR\n",
              "CDRD/+Q3BJwktTUM3OtNTncTwWGXb2DR/D1mDuX1cQ02dnAbrJncJk4U7gter/n3e0j1si/sjX4Z\n",
              "WqVj1XWYxceJ8H/HwGnGkOCLmF3jG/HiBExyKOOhPGvlwnG3IpWuv2/fv2GZ9B8XO/zX6On/sJkl\n",
              "piNfMJqGIPlzeELzjCqzRw/Z31ZDHy6mGuIPUtE6jUZzHsmnzuo/HTZr9/ZwesI5ywguoYc4dAIh\n",
              "VzKYr/nzsi/SSdX3bko1ITxfo+AlDGhEFEdhT/vE8w2Mn2uehrpnffXtFzQlgasew6DeYP9JGpW4\n",
              "z5A1VVWAOAefEDZsoWhcmamg4/Fi3u33LPHSvCsf1jQYtCkzSpq7Sccg7kxCdr//+qs6PIzpsF73\n",
              "fl1hV2yOhMAb+D3h3+qomfE/fypRFX6u8D3d2dHF7SxeCuN8BNCXrhbF70oB8HfDPRKT/FYEWnCX\n",
              "1DTxBKAQAmSu0mxW5AEKCrKgesf/JyHgyDoHEmph31Tu6i50rRDvduhujjkX+vVbxJNEr/6goomS\n",
              "0sJ/gcwKTd/5+ghbU93HuLObOvZAjRNS1VjMOLonlhPSkEBaFttfOhpE3I8vjlyM5MjRlxFMb2oY\n",
              "lrGCpY4WRmxZxN0ZGkKIspumNCHK6pDihbgI1FrCk8gqeIEF6v2CtKd0VEIUP6/+zM0+BcrJaC9i\n",
              "bcwRo47wcA5SOo/piO2LlRQ1XOKvPp542pG5WbO5rNYTa7PxW33YqqOVj6n587pRKXg2N5E+IewL\n",
              "qY/S/YtwrZzmNiEi0XDGcx0ao6zxxPC92k3whB++nljzFQV8lycCtvDpNdpGkqqQG7R0eLMcR7Cx\n",
              "1hCyTn3wVQ59ugVoV47YaDr/P1/oasIl0PYhKCRmV4X9XymVkStxjmSYsxcdb4P++Kzq6iXC4QqX\n",
              "drwyK821vmMnSO1Jcrks4PPgApyeE9gYOjg2VaKAGbnarZ6Bsnv/NX7sYPlrZKXGWWDnvsHASZGp\n",
              "ainGnY4pGLOaSSItGB4DcrhuatEUO8V+hRNrMVJWauSYFZYFYhm8ovQ8rjBbZzK5rf/wXuF5mmw5\n",
              "cpfAYenjLVfiH4aLTXlwzhQPLYcirlD+wMHM9vUYraEAwPq/VRgJM7kWT4/d9g9Q3+VVIAHK/eMm\n",
              "TtnesRO0SvkOAy134xTdtP5i4uMmajkf44IfBAr9d6TgnFDa0y8+wmR/M5nd6MqJAMlAxFXzb2I5\n",
              "RcyWuOaoqZ574ZRPprR5kkJ+qLAyT2rKBmTyQvIbpHUD2MrBzzaV/4OjLN/BhQ7+7EcrfmoVeICR\n",
              "hwvXi7E4vGKjL8nYzeOPfPE7b41q5lWaqpDs5z2mOnbViQUCGC34nccbbBH+m0JblKt5Hghq5bgF\n",
              "0WUoLtOyXYJHfu+4DBUqRu8BEjNZMvU0Q5wIDuU2pfb2m7ycGcvLSnBjm7bXXQJG911LB2ANVVdR\n",
              "P5csoWhMQcJWjt5625Me94KltTBmaPKGnQj/JbOvf1LhwdOwPCURqrF4KMFp6IPiUedXmf2M4fXB\n",
              "Fefk4drSIyv8z7UWelPV9vb+3Ujyb9YVVlmGIP7yBBYqPIdUJ/veZNBiZErHw4BUY4VYa9AZl09l\n",
              "qgII4EQtsobtEX5qAPRjghexgFjIewE4puUxnL5b4zSqaJ5lVD1I6UrudwvK4e+k4+22MfNAyn4L\n",
              "06PBeK5zzWl2DF5MH0Xn51aAe+PVXIFV30TCN9OSqxjh9W9+Jxm92jdxhib6IiwunSyMgwZGXXeq\n",
              "6pPSxmWKnPNTiHjh7e3JNlciu88AqKGSGr58d4TVDDBntF+zZPUYr+Ir6aBURxA5kr/9kyajwNc/\n",
              "nh02tVW0F2aAtZTt7aqqCozGDXgyri+eWkXRRV3dtwcqHBJS6gZFeb91bGos0TUIIck6WjZEB8oA\n",
              "kfazoD8cj35ucIlE3eSOh4aDVN5TQb7n9rhxMKT5CCbqIGy/KY4+a2vdezxOl/9Updu6dwyPdLAj\n",
              "e2auR/ar/9iEo+9mWul51wGVZvWCxPMfz1nlFo245sIoUj/IY4wz8t9mUKbEw+lAeLq5cY1rN9+p\n",
              "Gz0zBxgWXixOfVVGRkoI+6JCrXBodjvnKxNjoxQbL00PC/QuGxCENz2xRI2YbehiJH1gxPpjyqjV\n",
              "tOfP/QMpYf2T6rasZiwdbL7oD62qVyg5rBPVHocnGpdT2hvvKK/UmwrIOVGNyIK///Yw47ywuhfp\n",
              "rpvF/+Tq+PJlw0aWK7azyLs7A0PpcXlB3+ea7jd53t3K2dtLLKDULpYu0NFEUziGebtoP35s/yam\n",
              "5BrOpBrl/i3lf+SjH1h2knOXfryd13AIuUA72754QQyjXhJHrKi4pJxXCLk9LoFBs6PI2ppnc+gc\n",
              "XVs+9IQ6/Q3qGr7+LeHd1aNPYBk7OEHPyVugL2V8apZFatiutSx6x/Sk93gngVLx+wk4iXtHdTBX\n",
              "WYv+hVJqgVSEy2XxGwM6r3TaefL96NS1VcItGeJGOf6edVStyBakd7xF7W6roiomdN+VAY4UhvrO\n",
              "Ca43911+p3O5iGwBza06kBJzXT7mncpbpfxrS6wGL/tZLnMNzz87s6cIjNTm4L9k7jDisDnM+w3G\n",
              "lu/2ByGEVOG7KlyqDaqnbmjo1mJ4yXMfWubnTk1sQbyH/pHQjAFDuLOLOQmJNb2oNl5hs4bnMV2U\n",
              "W01koSP6JXscsQhJI+gdhXG4op+ODFLo5nisl6E1djIudl4gGfq7LjAe3dHbGNezQ/lnN4WcdOer\n",
              "r2nqAZ13Xr9hJi+qpwO7bml6QKW4adUu66oucvTRczO+NdjFxl0JFpea5fx89khkB0CstB/OglTg\n",
              "6GJv4OL2P8hZwaLlIftXRHalDJJFXIUvJvLwoutx+zu4MK8fnHPKDxdA1UKy/tza+8ThZvZ9koJv\n",
              "ZWM47rxzC4RuV+LZkMeEVErleGDzM7xYbYMc7B2T6Wv/1wAJHyL2L9EdSo9hfSw9CqmDedoULgQE\n",
              "T3zRfT+CEcBDDHP+QRw5yVNsTRF4j9cXvsEK5T8nqzc1W1kFgcTed691q2wQIEG9Q8nvCnJz7X4E\n",
              "X/YOuKym4AVQJAVflx1lXYuecMVIPkGGTZjZCn+CHT/SExBrvvmqvESlvWFnnfsSyBb/pfutMG6f\n",
              "cJsEyzFsurAoFKICB+fUw63oeFjw44009V+0BWNBDGDcYlEy3NnF4+hzelcuULxW1OYEl6f25qWc\n",
              "KlwFSD3wvVyTu09Mhb3GGXjYipY66YRt77pF7NhLOBTv/GkZtZfwbO+415jBPuNARsk1PURGsWGx\n",
              "SokLFSmKYOiSUdmy97Z/PL1ye58HE6F53wJ1bSeQQUwLbNfXKvDNyzT82XYzhReRt4iO8/bkdBp+\n",
              "xpyTwS899xemcKoid0tNLcsa0UcjVz2CrdFhTV9sm0s7pLtWZypv0h4k+lHNOzzm9kU2BovOz7ld\n",
              "4SXxhgere9zRIorzxyjQYwiezEF3KTLhAAAHVUGaI2xBD/6qVQK+D4ABxeb7OGBUg/9Jz/f5VKre\n",
              "OBKOXayRDQEQ/fy/3wTJbpEZMUkHFo+PIMt2ipfw3tUzZUeQZvWp0bsxOoLLCur1sMZKUNvMgP5z\n",
              "qqpIOcRLtWI/O/uYikjhh0i0W9DyC0yxw4+07TfpanHSSRkGMnaibxxmUkdcEot4OHNFmLMRyq/c\n",
              "W2gue75U7NgfWDLKArqrQHP2GSSIZLSlC1f02mE+Dx1fTPoBt8ic7u8OJZBWK3QU5+DW+2/xGELI\n",
              "r4DT3z5R9Kl/8OL9ei2DZHR8OvBVZ2p9jRYLfdntemHuA+GJGP/0eEZJ8POsAV/n5GLV4Xzx421t\n",
              "nP13nr0GKsjjR3N0RkQpNEhvq2plOoCxzRcpPrvstS/xYwYIHWybS9i1OTPndWaUiND2jorwefFl\n",
              "U+6C56kJFB5BdV8wH7+HQ0MunzUyl+qvSeANbQzZc+KGy+oyXrJfP91EeL4t0n7Kg6mbUX9dcMf4\n",
              "/XmP52FDQUw/bxSv9z0J6/s3ZUYNpB6YNqV0pVqg6GAxr0joUQ9a8gxf+uDyX+54X1unVxAECaMc\n",
              "A0rCtBtiLBSkRJzIImxJBJwyaISb3rivZmXIxNW34PMVEHK2jboKbC7dUqJ2IsDxPb3RHSZdbOC8\n",
              "H1ZwocxaznbgMM/VM7fjuiSW2jAmlVoUjc8DDo/ZreqNK//rUYIGXT3kNUD7Vde3we1EFAz44mRf\n",
              "HE6WT1soBvE/1habIdyE8qPAAXc5KXQ1wwRdsrUHlu+q/Nl0/vzKx/Vv/uuEyZWCyg8rHMbOZrLx\n",
              "g+ewj542cFvx3xoWWb9kKd2+o7Lrjppgp4Ltk+12c17dVSCfwahggjOE4vowdR9C2VtTY5w7rx7+\n",
              "gNsH5XXNeUc0XL20WyoHWmnDe+VrgnFbagDQzK3MmrvsGWiX1l5mmgEjuMko4lMlYLqlPypcz7Rp\n",
              "oiJUaS57n9Tcs9zw5XGIpIWHn4wM05P0KLMtDuLpPGYlxnpGp0sj1L5WEyh4h2bskjixHd89Et+r\n",
              "64pGDpmRJZHciPVlWly5jMAwxiSjTvpUwCP/a1KCKgmB2x64IA/XXZmmQdvFhM2aVGfx67N0DrVw\n",
              "n33APSjXI+iG6VTmacuDxgIwBnKe5Prswk+NVtfgdD9VrHjBaCwnVSUURH38MLT3VCf/M5V8gv6S\n",
              "g52/cri3VwZcNrCcn2fWZDnh3Vy8qJ/YRGaPyIBdeBVuOMcKJGIs9OrGj7y8SMEkcsjoy/5knIK9\n",
              "qxFtCOK4qaTj+JR1BjwUKyh/w2LKNN8REDOC4zUmVxLiIpgb5G9fDx6kyfvPXIYrrfNpKeRyQZP2\n",
              "ItqxYno7nWo5Rw0/HQ3Bl+mcuzFuvsddLlnBuTSLMsjClLxNjENfJJlQ3LZSbwpqUXr11Et2N4oL\n",
              "3ljr2/p3ekfwrCgAo2qYjgykTT9mdG4Q7L9xUg3Vc+lDayqMT+/7WvRmAuCThwIBoxE21+1XFO1O\n",
              "8UKCaAX5FXLT82EAQUB3/udvOIpsGsybnXQQOEa5CtGIvxUz2noiVF4NLu/7f8VQatqloHH51Tm8\n",
              "6X+s3zerJNcgRZftc5351d/QTTBGUq/FU/xcwV4U4fGWA+FHQsSTCh1H0WkE3M4XJy6euXO/coua\n",
              "j1YNUr7JR6gAqX46JK8DInzINFy4X64csrTYlwA0OZorqzMGC+Kkkt6poJWWEDCgoERekgUrI25W\n",
              "E/dTnWbeYQweSOCtpziWs6ULgT2DEE2QEIAbbhfGp7favXDxE8SCRRKxe4rnzEJpuLFC4zOaKt19\n",
              "LbRXf1b43ZoOeLCYyotzlY2OiY19VYDvKvUdUYgF29FdoWJ4nEC7p9Yd2DqisKeeE6MkeVCz7zhl\n",
              "K8UcgnhbAoSo/OiTv5teXOyJP4OBKRPJDr4aGiYOw1yCaIK9w2qBtuSnPa9ZRTk2aNyRjt0uzmhO\n",
              "pkrlBdmle+8pYzdTsOjLoKjlYzDPyTFbnZa0Nwdw5jRcNEboA3wtr5Ma8ZAcskVjyfWLbYkTOT3G\n",
              "yyHH7wVr///WaB4gP/9036VKK3+qFgxSrHR/JINhYfbrFOj1VslgWUWfU1FCxgxbTgs1T8jEXzI9\n",
              "67T/fvqQJvEGjU+iXFZA9CE3MxIPZK5mzNqPYLNv7zuErlPKP9hiYJFTGA3Sd3aeOVDC17SZxBWS\n",
              "2wtyRTDIsSloDuJ9GU8sZIU82MRDM29v/qm2KBmIOenmdSRm/aKNzwgTiyaacEv2zBSaagS77q/e\n",
              "qwpq6pCH2U45vsOQvF6C00VzQdfnEmD5ylsP6FtoKRNmqsmE92zjmdUoLehvXdbEAUQbPt+6EYrR\n",
              "Kz/q8+/Gtf9S/z5f01+0rqpPjKvBK56GSXXZNoDHsRb87y0RR3jpAeGEavfiytOGj8FuILtFwctI\n",
              "WEKe9HKCVjTDv/ZaswcwCmVt+mf9PwtS0x/fp3zOEusSIq6FbI6pcNyO7dlA7nBhXSOb2WBHcY81\n",
              "e2tUyGGE4Lmh8zHAN9WdczY07r+39tYMAAADGUGeQXiG/wFqAKGs5pUyUAITOx+4f4eOAWCbjp6+\n",
              "bSxNRKS1rx9Psco2q9hrYYn4bqlBn5LGyoeLZkBCcLzwqLVRFELGiddaV1HkBWPxvMgFMSgZEeS5\n",
              "UOjMprXVmXv0NmkaX+cX8ObvBeQvx/MyfOCyGUiuOcD7qn2JqFvNvTiQkGG3H+F+o6B3+OFhP8pI\n",
              "fDAbw7TDtk7snILLHs3QAnSj+j0Aod/sahQYBPMKYeDjcwtwNsd+ePpNpdVGUfuG+1bMLxp8XgvF\n",
              "J8hg0BHNcA3QVaRxwo2S4DFe43J8qoCtbEjbl+5nzeUTtf22AQBHmSrGEpxfpTwdAemZd5k8ip0n\n",
              "EFzDrs8iecVGnfSiFmogPq6C1ADkNHIqPbyeeLppu/zj5Fo8zEtZgoR7qeMSvcVoG/txcQ1MWUFL\n",
              "2FZfXNWi+Whx80grkx0tFIYtiD3WuANtGV/b2DUn5yOSFJ1c+sOmeBloxOwTkUCAteYm0cQF7eg3\n",
              "WBir/jw63IXmJMCC08HViu95ofF/nlpcT8hWbQkDqRR/2pS26frIVvv4A2lsk0Y0MRr2+PYIiPU8\n",
              "2Rtk16RITsH3GdLx20v4ydLh+sqLiaQVMH24nHH99Bh3/Wb0ye8w2Voo0TIMXnZ8X63fjPw/dAHf\n",
              "qVHrbOLBS43J2D+reuxzld4SDE4OGZJ7cXaNa+0/MAQsI2jKAbDEtyIUiqj7DCEWo/EYOzRCS988\n",
              "svAX8Rhg6e08YwLK2yvctl89wxExfd0tjKkko4dXHUgn0dbpxmrFUpj9CaRHf/z593zWQbmaFlWW\n",
              "BzhpPS3zduAszWCwGTgDOCArX7CETlB83ZfzxeVa5PHuAzqfT7JLdaZYcAD6m23WeH1+hbMdqllB\n",
              "c1/hQpPVjkgl30buIiw48OcFTJDjUH+Rx/INWEyW7z4gWjehaqGh0KMz4z1mYQ5A3sDVWooQwGTv\n",
              "Q8dG2rJh7MxI5wS+PjzrzA6qOwarPJoIPRynJamLDsdsG4Hkzwx2A/GkzN3/9Femf/5McjYBX2gK\n",
              "HT2Gtp3bi3JH1P75Y28F1KRxzxKebEEAAAFZAZ5iakN/ASe+gJxH5lQAX16B7vWHI8qiwD9AyXPL\n",
              "mR1hCIVeMN8tzHzklT4fm0komjQzKGCa4Kk1C8UXpAnPMDQweS7rvCudgFSYPSjPZWWVXmXlmb9s\n",
              "Vz1lr1rn0QbHQEhkqCVBMEVFNxEbXZ063TLV2n2+85PUxqvj37ofe4EtIO/ENT0q54KH1BQQkcDe\n",
              "lvWkYlo9BIPGpJGXO4ypc0NhIKF3dFrT0bdxnJRrun2Guud0jgQn2XUNaMM4i2bl3SOHyFgxsRAO\n",
              "t3Xn5pterPvvzRLbGLf1X2SFUo3EMscqIjXiKHBjVhxaOWCjof5NkDXAY35LJUttCl36K10r19aS\n",
              "GKvLWnNIEYS78uLxx61zbGh6tnxfIDgZ3wR2Ag8Ki65dS4YsRWyb5P+LU1mIlPW+zoXPgvq/rmvI\n",
              "WFnJH64yjMdU2XOcqZXgXGlspl01Fa/xufQvwUpAAAAEEEGaZUmoQWiZTBTwQ//+qlUBeOuxDAAH\n",
              "GBneaPQYj27KW2HhTv4lGbk3Qb3IbcXlgCP7DyFb49kikCorWrrCnglhvBYjK5Fwcf17K+7jgP0W\n",
              "kPsYNCSW2bFIz/f2x2IarJSMUUpeG1lUgFBsslhSPwzktsk3GOwv18SZ8lzTZE+qAJuQ3J2zeKCa\n",
              "IbGyiJv5sf6XZTvGpvpsNH4mNGeMwq0B0fckWBpZ8YH5ASbF5SH5avLFGNB6KDbBwfNZO7HqqNWM\n",
              "zVtGoo0okH/Iwsz5CidS3CScB6XT8W5ufxxRXvlkgx9FIzZlPwonXmfe68cEEtns7jo85NB8s/N6\n",
              "V1IhcHNXOumDY5aVw2HQUtSX7Bvy+1/qrVF7U8m0qMYYBL6yrZ9P+u1h8GLcgEo4EZSnMwzm1YOF\n",
              "ZAxlHTgHLyztCiJ3MAlSnW00SDqVcZf6mDSs+g3mVohfKb5hjqq2EaERt8HZf7SmAdvDBHDbniC9\n",
              "tUtiSXHarU0Ll7IrVodv733YfQxsCHeUONf2l+wez3A/Dy2rj9/4vYgOK1qkMRP6gMlX1X3vbj1o\n",
              "TITrDGB8Lg3P3m/Vd7A8/Vgkf/tRwlpSIrPliTwV45lp7dD6nS7EtnXw/tlov0/My1HEXKsXxkN5\n",
              "V119+Bv9c43IwuJp2AgxY2ERTXkT6a9bMq+xieRTKlJdPYOTbH5msAovIbYlRXGLA4jJmL4j1ijT\n",
              "8Q9WdRGDaPdnCmlxaN+ghY00pJQLdERSDoCrSLup7RT9pXWfAwwlIdzZ/z6vbTgWZ/c/oMEzyyLm\n",
              "1EKaANJ+0L7xdvDtdn7cOa1ojDj1cC50Jb4I7BGqEt9V9kPPDrrW9+Blyk9iQ5UZh/qIFmntFyFw\n",
              "6j/gX6he+EFRsN0GkZoV216/GP+oAKkAe/CzlRRoU34289m+jvOlM5gMywwAK6XWxmAAzZjDJBRt\n",
              "PWIKjl1OXYY46aT/NjS/XEn/TBmM7Cj0zyswGgbKoB48DFCLJer8Bn6zRcuNiFa2kz0GOV60NAwZ\n",
              "+lYQImktIbyspBY04Tw1wM8dzdphwnoydhBcQg7Y4F3i6/MKmIKwU7I8Eb1fkGFJpqsl6FeZ6n/K\n",
              "jylNUnfTdTgAWhcsLbqYYmEQnRnqk6QA0ACoxwM0NawOuzer2+wAg0ZFzfdLywHMdbNcPFkegoec\n",
              "K7/aLZAhYeEUzH7pplkk+Dz5FuNnbGt4htKJ2j8ZXC40gIm7HPKm7pgUT+qCytC3USapKODWs7xT\n",
              "XxWPAtx4jTOe68otwx7RJchohRmqQCuYOMoo9SH7H3YRcM7gIDSEID49J0IuJ3N32zhGwK1O/g+z\n",
              "WbcfUF0zzNC3oOgkL9lLJkcf8F/QGpoDvPcj40vsymALlNoCkjQTCwcJHN/GIwN3AAABSAGehGpD\n",
              "fwEneNSaKD4ANqjrtWupkkP5dUQBf8aqafy3JAhks/0kXjEqwwjqOM75A9gkFC0tfwtBGw+YFOOd\n",
              "AVZOV5viqtsXHnEvDjAIhNGvM5Fv5drMGR76AGfhT+Zh++1zhtL4CvOB/APm120Jl7PmAomB7eAl\n",
              "DGTET/fZedtStAMicLzqsHpjYfhiF2ZdLAJQTJeUGJ3V5vomer8F1mMlwl0PLL/S7eX5cXTfXc3M\n",
              "GPhgvjMCSS3Cxjv22OZsAPzSTh8JzjJigaxij1F0TRaXlhWlQVKdUzn4uJzucSjXb+25dtBb+k9F\n",
              "cnfAgvzcoy4+HJWDPFmp+rrJQ/3J2wZEg18maBRvPvM5ACL+HMz+zHhDpDvOycezfuqP4CfrNrig\n",
              "6pd9uCCaowWZNpkK6D5tEkHg0a6oqY9K5rrA8VwJ4DqTRrbcITkAAAPBQZqHSeEKUmUwUsEf/rUq\n",
              "gKTr4tQAk5WpfFENu8iP8y9bt38i8N3vO/JiqqUXsyQvu9vMqOtRpaV8IaIOcuXByfTLEKTBpLI0\n",
              "q79f6g/iSAaAY2oYdahiCCC5ihA8mf2RPuoAbsUANQs91gB2SfpopyRh216IApAC4vpFsRwM+Aj4\n",
              "Z54p6E4YUqESABazeb4ykTF7twU1xX/yhle7bjUFirx4CYEXycY9mcew174Ak6X5U62KD2rOnPqx\n",
              "MxZpFB8Vq4Gqhd+pqkeQGhsRl5d+XJrnnn2kqgA1OYZZlMBJDU0YswzsQIv1KPH30XwM9zeMGjkr\n",
              "t2UKPRtICPqmQOfwJZsg93hstHuKguD/al+FnwsoL1WVG/SmvE5nk/KaFSW+o3pWKSG3SrkEOfAI\n",
              "cOoahWf5RfhKakVKAK3rjPMdI9XB0grus/PVDLWNU+RNWdC+AMODzJYQyp2pqSkyL4pibARy80je\n",
              "9tS500Ys+tNnWNPwOV0kbufLNbOylz81GiiofMtsBZJenZziPBcjb6B6dqORJ9DZ7s99Bax8CDRI\n",
              "UKIvNW/2V1gKpSjgvLJWoMigfOHPZD0CxZ22YP7PFX12RSTDR7ycoSrSpAx9LOo5CAGBdiJs2/z2\n",
              "dSqkqbgn/dPwsRL5Da5SDPozGH/Je4q9LKmXxZGuuttxUjkByWpxhtB2MaRP4Mg27HXPU2T3anNZ\n",
              "PtcACJGdi6Og91SNLEzgWvYPht3S3Q2m/A1PCrj+hNfULFkNOw0Vz5xCDpapHoqVhEwroEhagC8D\n",
              "hMXxnNhe32Cy7qlvmETahWvH1/Xe90FB3ImNvcBamN85u6BwD2uKd604CLIFWFxP8sQtR/jZCFM8\n",
              "OIeUrZOpFHSuPNatd7Z4mkVeZNL3k2TJ8EnZhMfTQ7IclpItMf+LeBCJE0D28E5TJHdmcyIF76bp\n",
              "rjs7Fnws3lw+TElCNsiOLo2VccEoKOZxT+BaJvOhf3SEKV0iQTKXJAVg55BqOookjODuAGC3AeWw\n",
              "I1tTMze2g2GcOsRIeaTb2AztPc9xZ7CR5NnRLjM+7FXAkfeVtBeu59tVurxDrlKuHLMCQPPs90r2\n",
              "9VWhH2HYbdEL2J3BO5OemAu3DYNxSNzm4qUmx5dOxh0YfOmap6itKFzwTSSZKslq+sMO1fK8VHLv\n",
              "KBHdrM2hnLAWMq1woM6JnPez9moIT6m2T/ZzHr9D11pi9NPAYjxs9Z3PfPmKdFTab4dxQA/6ImSo\n",
              "6JlxsLt89aZaSJyC2bGw2fhDjE2g2xGJfxWvXbjBM1LQgQAAASIBnqZqQ38BGnkqEIz5QYAL6hYf\n",
              "ZkYibm5qPUFjzwvCO29sGBaPAaILixcfGZ6J/yyQH0jTSmCU/jJ2VlVkuEt+BWrjEdpMjSwzywus\n",
              "fTOVV/7TI450QyQ3F2j5UiJmCL0NiYk7o0RyqK7GHEETrFmUHQhRt44/ouAAeqRAeXR0fWY4Z3vx\n",
              "6rcC8S9HWA5ubAUE5z7B86PPUZNp7VeAnOgYCXFp2Y9zc/CcYVaQeob6/45glQ2DWFRfBKXc/+hE\n",
              "Ooayg3D+cGpA6AEy0IpfGexN0upHpzhJ8WQr476cnpqVx4BciZye8bpkFX08wy2i6Lrq7k0XlkpB\n",
              "iBZaPF9rD+kxAfGnezHaZPjovDvn2EXewmSlKnc/JrtBZwqImHmKNkHDQQAAA41BmqtJ4Q6JlMCC\n",
              "H/6qVQDgkxgACIPnvSj7S/zzwChI+5LWFtWFgm7XqFDz/YjUo7LNbucYmcX4N8wZLX//Gj0MFx46\n",
              "+KuLmvYABQ1xU0+B2QP50SzaKoA+keeM9WCSJfDaO/5UgWV5kSvQyH/9nERnX1sADPY03oraEPh/\n",
              "yycLsGG76Wsv7O2qO12nrS/XjbcMdfkjf0TLIqcf+JT1kh8adqV++IpUAxHYo8l0m3LZc+WpU7GA\n",
              "6TcAdDBcUf6F1WEVNNshXej8ZlUibt9RULwr/RhVS0BtNO7O+eGGqarfSdLsfTBLcW+UfSE1VwU5\n",
              "qKDYbSSHwKEdyI3KG8krPhNl+Ty2FcgR6Bvt9YiXHmDg5dDcITXyf8SiNwkFPmWZMwTssIpZYO+L\n",
              "bJzcwJY4ubeJS2g5HVzMkxmsqYQSvM6XX++XKyoYFrPwWaqK+ucvNzNimyIqs9Gm6XfVIBO9zrPY\n",
              "+Fm1BKqKh8wOJjKGA35whKvkF79rMu+oq8voQ2aQP/YgThRTvyHBVQUBVlc25vpNEpp7NnuU9ktw\n",
              "+8044X2S3h9Ym0EzrDiPOfz8D+iV1JuH9RENRiijvcZZwYYt5xJR4jl0LQXx9khLhD5oPK10OG4s\n",
              "OK9fbHKMH1MM2L1aJGa7D6QwFr2Jxf/tlfgbHQZGbC7akg+IX28fQLcgX5TqvrVn5Qe1ili1ZARB\n",
              "bQnFr82Fq5XU56fgXJaS+2b9KxjV1Wv0pbJEgVWGUYo3DCN9QGxuCZQcC/aaGPRSt56AK2MP1JQr\n",
              "lzYn3RvkRdhlgFZot5sbHnZvtlOb2qH3qIWlNXJy+eopgvg1yvDRTgsbrym41lPjEHyr6racdKDu\n",
              "D6fgIYfVN3oMoH68L/Vk6oEGqqhzF1eHIkbzwbuJpYnw+MVrbJUhAg1zaT820ihC6tBT04LIS3Lh\n",
              "joxWcngIV/AAGVFdbh1JCAYv5FLniCM6x7on8m4NyAPsWKlzKfQ+KvB4f0oG9JHiTjbY3cwbxMIC\n",
              "M1+8GtwuprRsjXPrzoecANuPjXbOD2SIdczVQBS8KOKG4m9c5kg0gj6UuPaGdAIh9yW5azdwBIF6\n",
              "cwfZVfyfWC7wbIRv3PxLDkWATILaikCWm5+vdKq86XY11m+2cyURwmXtQQSO9sFf2xUEkiY1doiI\n",
              "hioF/qUNSE0+3+OA+DoQcJmK+RfDJyNw86oW41jqiioRd2E3Av+rffCgHFAAAAGKQZ7JRRU8O/8A\n",
              "rva3AAqT04ydBZWRjGpR4Siyur3iyCtYFXSHLrUeaTx4uoT5bCt+sHOAEtkJAh3bLYm6kuZfznoC\n",
              "QoB6AxXh/XjPhc9h/L9VQGyVPFxuDQPNy7pD81dzw9au71I/bQardTkX8sU+11WjucC7moSAlbpI\n",
              "XV2HHgPBm+Uf90mTjY/TKB8m9qIxvzIGOoq4byR33W7NvoujcKjqEQ2xY8ws0g3Ve9/bs49OvGr9\n",
              "YXYc5nZO/P407JEuueHdtvtOJIOGJdVWzAay/ic8ze2B5lnOhVs6vl/nwOLxg2krWGw/OzTkWf4V\n",
              "O+FJziPWC5cPef/EJHr+zEMYsDNtRazWnqsCHr9RZ147nnHSdc5xi2IChp/syLVg+EXrenQnLzkp\n",
              "uoe0XiFmykphcmWoRGe4Qr2Ftdxh8Dkbm5BHD3y5hKvTvVkcYR1LYy3kk9TP3pHj7RaeLmW1eTRm\n",
              "skAhvIBYpofgNvvV1pXvdnK7JBcdwwvkRUMsgxEJYspf7BUcspMReqIM+AAAARQBnuh0Q38BgLJ7\n",
              "sHgAHaXJd04UkH+MzBK2cSWb4WC2JGBgre8aQwlEtR56NN3YSe3XR1mFHbl9ASCWM3h3GgKcLu/E\n",
              "UaPuyk2t94NbdPnIh022edPpY7F7GMA/bwKOaRPryf/7QSAaR70G9Tu2BJ12MOHR6EvngxFPDkRF\n",
              "WrGO/85RfbftzUn1/MxSsB2IetpnE/2VXfZARiqgTm9wrnofHQ455PluQHMjvIBoGfjLHNFxN5UP\n",
              "SU31Psek5e9ZqkbAcAJSzOmlVYPmeaULsePTVv+hlTg7Yo2owet///4PwMDxsJ+Rb7P5J5VNztj5\n",
              "x+u0zHFOisjTiqIAc7fm2HsCLBkOvM2XfbiJd7/ZlFWtAwvwNiEAAAECAZ7qakN/AX/0DYOgAvr0\n",
              "CpWK4SXDqIDpbSqV44wdqCQ1W10RnYvGS9Y1Mum5foeD9MfoIa0mfZTcXtD1VnE6xqm/D5gm21d8\n",
              "b3bcnNr/1FKh/O2U+5wN3AWRqfjgNH3bJgUlHnU06hGVLBXnxFtIFcv99HzqMoiFRMWjzLjkLKJB\n",
              "18G57P3BgaRdth394NYU7XFN8pFgzOVHrDzp9HxarNMVLDcQoMim4nkpdHgY0xOz4mZTZHhEO809\n",
              "GjYwp9brzN41M8HxCfQaU5mvR0AT3jqdWelsJdXLNReOMCWswNAGt/bdfe1uLclzOLJkfJau5Sg8\n",
              "ncV16SLJMzLkZg5hpCWMAAACfUGa70moQWiZTAh///6plgMi+PYAL69LkenwOa2nwe9IWBPohVpT\n",
              "/pWfdmguRUkpIrZZHPeKxYJKnj64RBTbnSUUrcg6VFamZegcLqtVQOgBmMPu8+3l7/ji5gIvnMAn\n",
              "FmJiDH3UAA1qmuoSj3Va46mysONlX9G9zpxa1+QdDi/OUs2xztOZ21Mq8RNCf8VA1CPF1Lcs4aNb\n",
              "8GPbelfCj/TBL/ormSa5BKIQdaeDW78jJcaRuqHO2ZFCKhECyGI0hKiN3Ch2RVhuDkMyr0E5lO2t\n",
              "Qq3jW+asAHmPFqN9i/6HfLKUifiBnJnti7MgGy4R8/utlDEIJ8i/ePZdY0cxTQL1VUqvtCbJ07IA\n",
              "pA+DWNWHUIeh3ZvbldaDDnV2e0CpOaArf5dzDD6J0MNCoja2mFBGyql7aEwGRCX0jZmWVBVvWDp4\n",
              "MVfkpBGsRf9tdKOJF2Ax+UUJMAhVZodfIln8hKudg6t9vrIKivXnO4yOoDGk+FBWCazQdPp2d0sF\n",
              "VZ6Mb9TvwOuNyq8oxH2LaCSg/j0JxS2lKdh9ASVlhxaDvG+JRdXT2QJl5WmulKlm8XgvZgrjF9/r\n",
              "FZ/kRvN3A+vMMRgtG6evTeaOnvyP8SeVs7u3PYiLkkAAEuZwYyCQWDPNx6idWoOivkm1oL10vPza\n",
              "khHfGAjCbV4tjCYjVxhSlxLZKLSFrNZgB9hhGk1jK/1DxqnRZYQgxwWG2eVp3mBRde4iLDNZgUz4\n",
              "m0PgxezfZpTlHxgHFfzUThGX0vGSlI3+0jhlfxI31SzDW/Nmk1msREor7lUtlQZJK2+2zP+4Rk1G\n",
              "jxMkv69LHdqKBHkDgaXn+01kxafStb8isfO66ugAAAGCQZ8NRREsO/8Ar+1wAO0uYZOGD2AvF+LK\n",
              "eLBcWy4sp80qKQRvIhGh3JR0uqmE/C3/svErNVhm4K2bAsf2feME36bbhBfWf1qdDdlZALGNFej5\n",
              "6yAUZ/42khe6MUFco5YMmoIm5yCjRZezpNav1CuLrDtEVaHmyKyaTakKbH9yyQ/yBxIDXaI5+6lh\n",
              "5e5omxdHIxfzaSU6Oq3wrKBn+egNZFMbUjxsJRFSIFfxH6uDyw1PE44ht/k9hC9FuSZi0liPztKI\n",
              "jvfw4gJhPD8ymSFYH4cH7pYUNsgr/jOgb+zFwSslFXVnFbGx8Cto2ATPHH9aL2j+Kv5XLYz9Xpf8\n",
              "hCnLpzOwQ9TjE7fxPhi7onxC+8z9Oh0pM9CU5iZ2h3ZD6eMbBLjAQs7vOsW/8GPh2m2P/+gp4xcL\n",
              "pdJ/bN+qM9byrdiymGoLehkfOw35Agi+PsOsvVYxeV6wMRWKWsi8bsOC5Yypr2pqgPR4GWMEaolG\n",
              "eup3qGYtUZa4BuOBLtjnJ6eIRSkAAAD/AZ8sdEN/APeMO4AOctN92k5o/sqWCHucoyraoGBkqU7N\n",
              "wusBeRVfoHbC83sxzRbsw2+jWyvbg1P4ppZ4aoX72X97nPPANvt/uvOyA0u4MzxjiLNNZrhPDcK4\n",
              "q/1phcv1qM6W0TgaiFUHJPL+WTUi5yo/wtXRuRk33E8MtmgvxysnBSu0eAjxlKcPWEbieAWlzM7j\n",
              "tpaCLwxnE+5hgMImkp+OICCI8G+b+jtM958q+i0XunWIrIspUnTJBVlby8xyy4R7NF+p8G0wYPV8\n",
              "NakuYDy6kZMD0GmXLav8wOQq0iQoQADptrtG/GPKvC4/rqiWgkGOzucderXlcWJO2I7ZAAABMwGf\n",
              "LmpDfwD1h3fUgA5wvp4fzIRy4tvdQdYOko2uZ4MiN0LAZyzrap42/GsDjMX8kOZee1bPClJ/+6Xg\n",
              "aRI+N2++gJGbA7IpDElYsOOIr20O9DadXS4YBBGcdbptTy1e3ybZ7/yWkF1B3UFOmaRe6xmloubc\n",
              "6u4He8/98OMEi6e9PUYWGDcazEHXXf2zeWJmfv1yYN5vrR+S5TzZWqilO7PLH/kgM1slI7H6Qt+8\n",
              "EBq6AD55oLLjU5tb2C5pNxvUyVYWtDDsZyJKy1onOYfVY6N5e5EavpH+MiKi3QpCBohrstsVqT+l\n",
              "9rg5F0nD6k5JBilCvAYMhfduQSJsi7sJfE474FJLUbcJF/6lm2DuMPExzPB9+Gxiv/kc6sDzV40Z\n",
              "+oS2IwqZQTxo2Al6y5sdlahOJuEAAAFVQZsxSahBbJlMFEw3//6nhAYpI3ABzhfT7ZZTGi8hD+nH\n",
              "eqjzlJbd807W8f+RQPCwJZW/ZypMvaOQFg25PSMS3vpMnuDeA20HtAw1QVPNwH6DhsM8TWj5Dw1U\n",
              "mSHnOY/1YV9Z0cGMDAD7ZBUfZUt3CEiikr95kChKY/NOqruAiQRps3oJgVRhyjThVOMX6xTPMcdk\n",
              "T4To4VPFWWLa3TlEFhUD3W37pZ7Rfr12gBqqm8k5iMGrPIN6S0P6VyO8lVnmdTuJoqDKOw2vfCss\n",
              "X3pzkPDAtycPqUnnX44n7lGLT+AZgZMXrbjJTyRIxCgtwbpTtAUO5LQcOaaKUa2UkcIVW/Ia3t8N\n",
              "2AtKd4C3/QoPq3PHUD3RvaG0eWZeR5QwumBp9+GQ+RPr6kv6H7kPHWkX5f2AGQ/Vjo0C1+A/2M81\n",
              "IECYTbPTxoLVeWRuu7XMDlcN2Kw4YsAAAAELAZ9QakN/AZh9s2gLYAOb1sKBP285LcZab5P//yNo\n",
              "ACpEpaszSyTIDSGR6Surkw/bNoYQOMVSLB0po7HrcvBpihmeE3JIfqYvoHdCGlJ/gEtwvVugMyRY\n",
              "ahP9D51G2lzpEztfiPZ2qmjttBLcz1KXJlCOE/TnOPDz3iDsuzOlsmT01Qgy2TVGYxMVTcqy9EBd\n",
              "hgABk5AMgERpokWL3p5a6cSh69tUzNHh/dz3Oneu/run8s3Zf2Wpjl4GWk7yrG8T6RBLg91BYXx2\n",
              "Rwt+sPkw28PqHgliqkxXlwBXAr/Vw23+oIfeznIwn/ub/U1snBe1inLQNkwpjhepEp3XUuyvudSn\n",
              "rlNnRq2B9p6QAAAD/m1vb3YAAABsbXZoZAAAAAAAAAAAAAAAAAAAA+gAAAcIAAEAAAEAAAAAAAAA\n",
              "AAAAAAABAAAAAAAAAAAAAAAAAAAAAQAAAAAAAAAAAAAAAAAAQAAAAAAAAAAAAAAAAAAAAAAAAAAA\n",
              "AAAAAAAAAAAAAAIAAAModHJhawAAAFx0a2hkAAAAAwAAAAAAAAAAAAAAAQAAAAAAAAcIAAAAAAAA\n",
              "AAAAAAAAAAAAAAABAAAAAAAAAAAAAAAAAAAAAQAAAAAAAAAAAAAAAAAAQAAAAAGwAAABIAAAAAAA\n",
              "JGVkdHMAAAAcZWxzdAAAAAAAAAABAAAHCAAACAAAAQAAAAACoG1kaWEAAAAgbWRoZAAAAAAAAAAA\n",
              "AAAAAAAAKAAAAEgAVcQAAAAAAC1oZGxyAAAAAAAAAAB2aWRlAAAAAAAAAAAAAAAAVmlkZW9IYW5k\n",
              "bGVyAAAAAkttaW5mAAAAFHZtaGQAAAABAAAAAAAAAAAAAAAkZGluZgAAABxkcmVmAAAAAAAAAAEA\n",
              "AAAMdXJsIAAAAAEAAAILc3RibAAAALNzdHNkAAAAAAAAAAEAAACjYXZjMQAAAAAAAAABAAAAAAAA\n",
              "AAAAAAAAAAAAAAGwASAASAAAAEgAAAAAAAAAAQAAAAAAAAAAAAAAAAAAAAAAAAAAAAAAAAAAAAAA\n",
              "AAAAABj//wAAADFhdmNDAWQAFf/hABhnZAAVrNlBsJaEAAADAAQAAAMAUDxYtlgBAAZo6+PLIsAA\n",
              "AAAcdXVpZGtoQPJfJE/FujmlG88DI/MAAAAAAAAAGHN0dHMAAAAAAAAAAQAAABIAAAQAAAAAFHN0\n",
              "c3MAAAAAAAAAAQAAAAEAAACYY3R0cwAAAAAAAAARAAAAAQAACAAAAAABAAAQAAAAAAIAAAQAAAAA\n",
              "AQAADAAAAAABAAAEAAAAAAEAAAwAAAAAAQAABAAAAAABAAAUAAAAAAEAAAgAAAAAAQAAAAAAAAAB\n",
              "AAAEAAAAAAEAABQAAAAAAQAACAAAAAABAAAAAAAAAAEAAAQAAAAAAQAADAAAAAABAAAEAAAAABxz\n",
              "dHNjAAAAAAAAAAEAAAABAAAAEgAAAAEAAABcc3RzegAAAAAAAAAAAAAAEgAAGmsAAAdZAAADHQAA\n",
              "AV0AAAQUAAABTAAAA8UAAAEmAAADkQAAAY4AAAEYAAABBgAAAoEAAAGGAAABAwAAATcAAAFZAAAB\n",
              "DwAAABRzdGNvAAAAAAAAAAEAAAAsAAAAYnVkdGEAAABabWV0YQAAAAAAAAAhaGRscgAAAAAAAAAA\n",
              "bWRpcmFwcGwAAAAAAAAAAAAAAAAtaWxzdAAAACWpdG9vAAAAHWRhdGEAAAABAAAAAExhdmY1OC4y\n",
              "Mi4xMDA=\n",
              "\">\n",
              "  Your browser does not support the video tag.\n",
              "</video>"
            ],
            "text/plain": [
              "<IPython.core.display.HTML object>"
            ]
          },
          "execution_count": 6,
          "metadata": {},
          "output_type": "execute_result"
        },
        {
          "data": {
            "image/png": "[encoded data removed]",
            "text/plain": [
              "<Figure size 432x288 with 1 Axes>"
            ]
          },
          "metadata": {
            "needs_background": "light"
          },
          "output_type": "display_data"
        }
      ],
      "source": [
        "def pintar_solucion(T_n, n):\n",
        "    # Clear the current plot figure\n",
        "    plt.clf()\n",
        "    plt.title(f\"Temperature at t = {n*dt:.3f} unit time\")\n",
        "    plt.xlabel(\"x\")\n",
        "    plt.ylabel(\"T\")\n",
        "    plt.plot(x,T_n,'-o')\n",
        "    return plt\n",
        "\n",
        "def animate(n):\n",
        "    pintar_solucion(T[n], n)\n",
        "\n",
        "anim = animation.FuncAnimation(plt.figure(), animate, interval=100, frames=nt, repeat=False)\n",
        "#anim.save(\"heat_equation_solution.gif\")\n",
        "\n",
        "HTML(anim.to_html5_video())"
      ]
    },
    {
      "cell_type": "markdown",
      "metadata": {
        "id": "-LX2QeQwJj-1"
      },
      "source": [
        "Ahora debemos comprobar el resultado que hemos obtenido. Para ello, podemos compararlo con la solución analítica para este mismo problema:\n",
        "\n",
        "$$ T(x,t)=1.5-0.5erf\\left(\\frac{x-1}{2\\sqrt{bt}}\\right)$$\n",
        "\n",
        "donde $erf()$ es la función de error que se calcula utilizando ```special.erf()```. Se pide:\n",
        "\n",
        "1.d) Calcula la solución exacta en el tiempo final, almacénala en un array ```T_exacta``` y represéntala gráficamente junto a la solución numérica.\n",
        "\n",
        "1.e) Calcula el error de la aproximación numérica en cada punto y almacénalo en un vector:\n",
        "\n",
        "$$ \\epsilon_i=\\left|T_i-T_{exacta}(x_i)\\right| $$\n",
        "\n",
        "y después calcula el máximo de ese vector\n",
        "\n",
        "$$L_{\\infty}= \\max(\\epsilon)$$\n",
        "\n",
        "A este valor lo llamamos \"norma infinito del error\" y nos da una medida del error máximo cometido por la aproximación numérica.\n",
        "\n",
        "1.f) Repite este cálculo para distintos valores de N y explica: ¿Cómo cambia el error al variar N? (no hay que escribir más codigo, simplemente prueba varios valores de N ejecutando lo que ya tienes y explica los resultados)"
      ]
    },
    {
      "cell_type": "code",
      "execution_count": null,
      "metadata": {
        "id": "f7Fkm69VciSH",
        "outputId": "5630d8d0-06d2-4e69-867a-1fb014b63a91"
      },
      "outputs": [
        {
          "name": "stdout",
          "output_type": "stream",
          "text": [
            "0.3\n"
          ]
        },
        {
          "data": {
            "text/plain": [
              "<matplotlib.legend.Legend at 0xec114b4a48>"
            ]
          },
          "execution_count": 7,
          "metadata": {},
          "output_type": "execute_result"
        },
        {
          "data": {
            "image/png": "[encoded data removed]",
            "text/plain": [
              "<Figure size 432x360 with 1 Axes>"
            ]
          },
          "metadata": {
            "needs_background": "light"
          },
          "output_type": "display_data"
        }
      ],
      "source": [
        "T_exacta = np.zeros(N)\n",
        "error    = np.zeros(N)\n",
        "\n",
        "print(b)\n",
        "T_exacta = 1.5-0.5*special.erf((x-1)/(2*np.sqrt(b*tf)))\n",
        "\n",
        "fig, ax1 = plt.subplots(figsize=(6, 5))\n",
        "ax1.plot(x,T[0, :],'--',label='Condicion inicial')\n",
        "ax1.plot(x,T[nt-1,:],'-o',label=f'Solución aproximada')\n",
        "ax1.plot(x,T_exacta,'-',label='Solución exacta')\n",
        "ax1.set_xlabel(\"x\")\n",
        "ax1.set_ylabel(\"T\")\n",
        "ax1.legend()"
      ]
    }
  ],
  "metadata": {
    "colab": {
      "provenance": [],
      "toc_visible": true,
      "include_colab_link": true
    },
    "kernelspec": {
      "display_name": "Python 3",
      "language": "python",
      "name": "python3"
    },
    "language_info": {
      "codemirror_mode": {
        "name": "ipython",
        "version": 3
      },
      "file_extension": ".py",
      "mimetype": "text/x-python",
      "name": "python",
      "nbconvert_exporter": "python",
      "pygments_lexer": "ipython3",
      "version": "3.7.6"
    }
  },
  "nbformat": 4,
  "nbformat_minor": 0
}