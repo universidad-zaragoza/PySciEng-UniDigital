{
  "cells": [
    {
      "cell_type": "markdown",
      "metadata": {
        "id": "view-in-github",
        "colab_type": "text"
      },
      "source": [
        "<a href=\"https://colab.research.google.com/github/IrisFDTD/PySciEng-UniDigital/blob/main/contenidos/intro_python.ipynb\" target=\"_parent\"><img src=\"https://colab.research.google.com/assets/colab-badge.svg\" alt=\"Open In Colab\"/></a>"
      ]
    },
    {
      "cell_type": "markdown",
      "source": [
        "<a rel=\"license\" href=\"http://creativecommons.org/licenses/by-nc-sa/4.0/\"><img alt=\"Licencia Creative Commons\" style=\"border-width:0\" src=\"https://i.creativecommons.org/l/by-nc-sa/4.0/88x31.png\" /></a><br /><span xmlns:dct=\"http://purl.org/dc/terms/\" property=\"dct:title\">Python en ciencias e ingeniería: tutoriales basados en ejemplos</span> por <span xmlns:cc=\"http://creativecommons.org/ns#\" property=\"cc:attributionName\">Sergio Gutiérrez Rodrigo y Adrián Navas Montilla</span> se distribuye bajo una <a rel=\"license\" href=\"http://creativecommons.org/licenses/by-nc-sa/4.0/\">Licencia Creative Commons Atribución-NoComercial-CompartirIgual 4.0 Internacional</a>."
      ],
      "metadata": {
        "id": "ZyYxarWXICGB"
      }
    },
    {
      "cell_type": "markdown",
      "source": [
        "![image.png](data:image/png;base64,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)"
      ],
      "metadata": {
        "id": "PeoQMxuT0vO1"
      }
    },
    {
      "cell_type": "markdown",
      "source": [
        "---\n",
        "Producción de contenidos educativos digitales UNIZAR 2022-2023\n",
        "\n",
        "**Objetos de aprendizaje abiertos del Vicerrectorado de Educación Digital y Formación Permanente de la Universidad de Zaragoza en el marco del Proyecto UniProducción incluido en el Plan UniDigital.**\n",
        "---\n",
        "\n"
      ],
      "metadata": {
        "id": "cRJdV3fK1DxJ"
      }
    },
    {
      "cell_type": "markdown",
      "metadata": {
        "id": "N6JfZSJ8QwIZ"
      },
      "source": [
        "## <center> Ejemplos de introducción al lenguaje de programación Python mediante Jupyter </center>\n",
        "\n",
        "\n",
        "-----------------------------------------\n"
      ]
    },
    {
      "cell_type": "markdown",
      "metadata": {
        "id": "vWfL1ihgiicb"
      },
      "source": [
        "\n",
        " ---\n",
        "0. [Trucos y recomendaciones](#trucos)\n",
        "1. [Variables](#variables)\n",
        "2. [Operadores](#operadores)   \n",
        "3. [Cadenas de caracteres](#cadenacaracteres)\n",
        "4. [Control del flujo](#flujo)\n",
        "5. [Tipos de datos Phyton](#tipos)\n",
        "6. [Funciones](#funciones)\n",
        "7. [Bibliotecas](#bibliotecas)\n",
        "    1. [Trabajar con vectores y matrices: numpy](#numpy)\n",
        "    2. [Representación gráfica: matplotlib](#matplotlib)    "
      ]
    },
    {
      "cell_type": "markdown",
      "metadata": {
        "id": "nghZYUY3iicg"
      },
      "source": [
        "# Variables <a name=\"variables\"></a>"
      ]
    },
    {
      "cell_type": "code",
      "execution_count": null,
      "metadata": {
        "id": "7pN3XxAJiicg",
        "outputId": "4171eb8c-83bb-4418-d569-166d18ab01d6"
      },
      "outputs": [
        {
          "name": "stdout",
          "output_type": "stream",
          "text": [
            "42 3.1416 3.14 (3+7j) Ejemplo de cadena de caracteres \n",
            "<class 'int'>\n",
            "<class 'float'>\n",
            "<class 'complex'>\n",
            "<class 'str'>\n"
          ]
        }
      ],
      "source": [
        "a = 42        #entero\n",
        "b = 3.1416    #real\n",
        "bexp = 3.14e0 #exponencial\n",
        "c = 3+7j      #complejo\n",
        "d = \"Ejemplo de cadena de caracteres \" #Cadena de caracteres\n",
        "\n",
        "#Imprimir por pantalla\n",
        "print (a,b,bexp,c,d)\n",
        "\n",
        "#Tipos de variables\n",
        "print (type(a))\n",
        "print (type(b))\n",
        "print (type(c))\n",
        "print (type(d))"
      ]
    },
    {
      "cell_type": "markdown",
      "metadata": {
        "id": "YEpVA1qDiici"
      },
      "source": [
        "# Operadores <a name=\"operadores\"></a>"
      ]
    },
    {
      "cell_type": "code",
      "execution_count": null,
      "metadata": {
        "id": "wOaRV9Smiici",
        "outputId": "aa338757-e4b1-4be6-95ad-9e684eb50fa4"
      },
      "outputs": [
        {
          "name": "stdout",
          "output_type": "stream",
          "text": [
            "a= 3.0 b= 2.0\n",
            "a+b= 5.0\n",
            "a-b= 1.0\n",
            "a*b= 6.0\n",
            "a/b= 1.5\n",
            "División entera a/b= 1.0\n",
            "a^b= 9.0\n"
          ]
        }
      ],
      "source": [
        "a,b=3.0,2.0\n",
        "\n",
        "suma=a+b\n",
        "resta=a-b\n",
        "multip=a*b\n",
        "div=a/b\n",
        "div_entera=a//b\n",
        "exp=a**b\n",
        "\n",
        "print('a=',a,'b=',b)\n",
        "print(\"a+b=\",suma)\n",
        "print(\"a-b=\",resta)\n",
        "print(\"a*b=\",multip)\n",
        "print(\"a/b=\",div)\n",
        "print(\"División entera a/b=\",div_entera)\n",
        "print(\"a^b=\",exp)\n"
      ]
    },
    {
      "cell_type": "markdown",
      "metadata": {
        "id": "6P502BX0iicj"
      },
      "source": [
        "#  Cadena de caracteres <a name=\"cadenacaracteres\"></a>\n"
      ]
    },
    {
      "cell_type": "code",
      "execution_count": null,
      "metadata": {
        "id": "9i6QCrUOiicj",
        "outputId": "c7cf0866-a43e-4e0b-f922-166ca5d919df"
      },
      "outputs": [
        {
          "name": "stdout",
          "output_type": "stream",
          "text": [
            "Hola\n",
            " \t Este es un ejemplo de cadena de caracteres \n",
            "         Es posible escribir saltos de linea sin necesidad de utilizar los códigos \n",
            "de escape\n",
            "Hola\n",
            "\t Este es un ejemplo de cadena de caracteres \n",
            "  repite  repite  repite   repite  repite  repite \n"
          ]
        }
      ],
      "source": [
        "a= \"Hola\\n\"\n",
        "b = \"\\t Este es un ejemplo de cadena de caracteres \\n\"\n",
        "c = \"\"\"        Es posible escribir saltos de linea sin necesidad de utilizar los códigos\n",
        "de escape\"\"\"\n",
        "\n",
        "print(a,b,c)\n",
        "\n",
        "d= a + b #concatenación\n",
        "e = \" repite \"\n",
        "f = 3*e #repetición\n",
        "g = e*3 #equivale a lo anterior\n",
        "\n",
        "print(d,f,g)"
      ]
    },
    {
      "cell_type": "markdown",
      "metadata": {
        "id": "RFqe-hyCiick"
      },
      "source": [
        "# Control de flujo <a name=\"flujo\"></a>\n",
        "\n",
        "* Sentencias condicionales: if-elif-else\n",
        "* Secuencias iterativas: bucles\n",
        "  - Bucles for...in\n",
        "  - Bucles while\n",
        "\n"
      ]
    },
    {
      "cell_type": "code",
      "execution_count": null,
      "metadata": {
        "id": "qyH_2nkHiick",
        "outputId": "a57d34a0-66cb-4ca8-afd7-5c099352ace4"
      },
      "outputs": [
        {
          "name": "stdout",
          "output_type": "stream",
          "text": [
            "Ejemplo 1: usos del if\n",
            "-27.0  es un número negativo.\n",
            "\n",
            " Ejemplo 2: usos del if\n",
            "Tipo de variable= <class 'float'>\n",
            "37.0  es un número real\n"
          ]
        }
      ],
      "source": [
        "# Usos del if\n",
        "'''\n",
        "Ejemplo: ¿contiene la variable un número negativo?\n",
        "'''\n",
        "print(\"Ejemplo 1: usos del if\")\n",
        "a=-27.0\n",
        "if(a<0.0): #Los paréntesis no son necesarios\n",
        "    print(a,\" es un número negativo.\")\n",
        "elif (a==0):\n",
        "    print(a,\" es cero.\")\n",
        "else:\n",
        "    print(a,\" es un número positivo.\")\n",
        "\n",
        "'''\n",
        "Ejemplo: utilizando la función isintance() nos preguntamos si la variable\n",
        "a contiene un número real\n",
        "'''\n",
        "print(\"\\n Ejemplo 2: usos del if\")\n",
        "a=37.0\n",
        "print(\"Tipo de variable=\",type(a))\n",
        "if(isinstance(a,float)):\n",
        "    print(a,\" es un número real\")\n",
        "else:\n",
        "    print(a,\" no es un número real\")"
      ]
    },
    {
      "cell_type": "code",
      "execution_count": null,
      "metadata": {
        "id": "kHbBmhp7iicl",
        "outputId": "1b764818-2feb-42d2-9659-f155533435ba"
      },
      "outputs": [
        {
          "name": "stdout",
          "output_type": "stream",
          "text": [
            "Ejemplo 1: bucle for\n",
            "De los siguientes números  [-5, -4, -3, -2, -1, 0, 1, 2, 3, 4] comprobamos cuáles son negativos\n",
            "-5  es un número negativo.\n",
            "-4  es un número negativo.\n",
            "-3  es un número negativo.\n",
            "-2  es un número negativo.\n",
            "-1  es un número negativo.\n",
            "\n",
            " Ejemplo 2: bucle for\n",
            "-5  es un número negativo.\n",
            "-4  es un número negativo.\n",
            "-3  es un número negativo.\n",
            "-2  es un número negativo.\n",
            "-1  es un número negativo.\n",
            "\n",
            " Ejemplo 3: bucle for\n",
            "manzana\n",
            "pera\n",
            "gato\n"
          ]
        }
      ],
      "source": [
        "#Bucle for\n",
        "'''\n",
        "Ejemplo: utilizando el método range proporciona una lista de números,\n",
        "comprobamos si un número es postivo o negativo\n",
        "'''\n",
        "print(\"Ejemplo 1: bucle for\")\n",
        "\n",
        "rango=list(range(-5,5)) # Más adelante entenderemos qué hace el método list\n",
        "\n",
        "print(\"De los siguientes números \",rango,\"comprobamos cuáles son negativos\")\n",
        "for a in range(-5,5):\n",
        "   if(a<0.0): #Los paréntesis no son necesarios\n",
        "    print(a,\" es un número negativo.\")\n",
        "\n",
        "'''\n",
        "Ejemplo: una forma compacta de escribir el mismo loop..\n",
        "'''\n",
        "print(\"\\n Ejemplo 2: bucle for\")\n",
        "\n",
        "[print(a,\" es un número negativo.\") for a in range(-5,5) if(a < 0.0)]\n",
        "\n",
        "'''\n",
        "Ejemplo: Python permite bucles en cualquier objeto que sea iterable\n",
        "'''\n",
        "print(\"\\n Ejemplo 3: bucle for\")\n",
        "\n",
        "lista = [\"manzana\",\"pera\",\"gato\"] #Más adelante veremos qué tipo de dato representa lista\n",
        "\n",
        "for palabra in lista:\n",
        "    print(palabra)\n"
      ]
    },
    {
      "cell_type": "code",
      "execution_count": null,
      "metadata": {
        "id": "BiYwiDKEiicl",
        "outputId": "78a411bf-9ec7-49f0-92f4-7243a322a430"
      },
      "outputs": [
        {
          "name": "stdout",
          "output_type": "stream",
          "text": [
            "Ejemplo 1: bucle for\n",
            "2\n",
            "4\n",
            "6\n",
            "8\n",
            "10\n",
            "12\n",
            "14\n",
            "16\n",
            "18\n",
            "20\n"
          ]
        }
      ],
      "source": [
        "# Bucle while\n",
        "'''\n",
        "Ejemplo: Se representan los números pares empezando por 2 hasta llegar al número 20 (incluido).\n",
        "OJO: los bucles while producen fácilmente bucles infinitos. En el ejemplo ocuure si se elimina\n",
        "la condición de parar cuando el número llega a 20.\n",
        "'''\n",
        "print(\"Ejemplo 1: bucle for\")\n",
        "\n",
        "nopar= 2\n",
        "\n",
        "while (nopar > 0):\n",
        "    print (nopar)\n",
        "    nopar = nopar + 2\n",
        "    if (nopar > 20):\n",
        "        break"
      ]
    },
    {
      "cell_type": "markdown",
      "metadata": {
        "id": "g37Li_NYiicl"
      },
      "source": [
        "# Algunos tipos de datos en Python <a name=\"tipos\"></a>\n",
        "* Tuplas\n",
        "* Listas\n",
        "\n",
        "Información adicional sobre otros tipos de datos:\n",
        "https://docs.python.org/3/tutorial/datastructures.html"
      ]
    },
    {
      "cell_type": "code",
      "execution_count": null,
      "metadata": {
        "id": "YIUA8W32iicl",
        "outputId": "9acf066b-5cd4-41f7-f605-1ffb7b57cc95"
      },
      "outputs": [
        {
          "name": "stdout",
          "output_type": "stream",
          "text": [
            "Tuplas\n",
            "(1, 2, 3, 4, 6)\n",
            "(1, 2)\n",
            "(1, 2, 3, 4, 6)\n",
            "('hola', 2, 3)\n",
            "(('hola', 2, 3), 90)\n",
            "('e', 'j', 'e', 'm', 'p', 'l', 'o')\n"
          ]
        }
      ],
      "source": [
        "# Tuplas\n",
        "'''\n",
        "Un tupla es una secuencia inmutable y ordenada de elementos. Pueden ser de\n",
        "de cualquier tipo (básico o no). Se pueden indexar.\n",
        "Sintaxis para declarar una tupla: especificar los elementos separados por una coma (,)\n",
        "'''\n",
        "tupla_vacia = ( )\n",
        "tupla1 = 1 ,2 ,3 ,4 ,6 ,\n",
        "tupla1b = (1 , 2 , 3 , 4 , 6)\n",
        "tupla2 = \"hola\" , 2 ,3\n",
        "tupla3 = tupla2 , 90\n",
        "tupla4 = tuple (\"ejemplo\")\n",
        "\n",
        "print(\"Tuplas\")\n",
        "print(tupla1)\n",
        "print(tupla1[0:2])\n",
        "print(tupla1b)\n",
        "print(tupla2)\n",
        "print(tupla3)\n",
        "print(tupla4)"
      ]
    },
    {
      "cell_type": "code",
      "execution_count": null,
      "metadata": {
        "id": "HNA-LBMuiicm",
        "outputId": "af58aa28-a3d2-4918-d47c-0db7775e6a14"
      },
      "outputs": [
        {
          "name": "stdout",
          "output_type": "stream",
          "text": [
            "Listas\n",
            "[1, 2, 3, 4, 6]\n",
            "[1, 2]\n",
            "lista2= ['hola', 2, 3]\n",
            "['hola', 2, 3, 90]\n",
            "['e', 'j', 'e', 'm', 'p', 'l', 'o']\n"
          ]
        }
      ],
      "source": [
        "# Listas\n",
        "'''\n",
        "Una lista es una secuencia mutable y ordenada de elementos. Sus elementos\n",
        "se pueden modificar a diferencia de las tuplas. Se pueden indexar.\n",
        "Sintaxis para declarar una lisat: los elementos de la lista se seprar usando comas.\n",
        "Se especifica que es una lista cerrando el conjunto entre corchetes [,].\n",
        "'''\n",
        "lista_vacia = []\n",
        "lista1 = [1 ,2 ,3 ,4 ,6]\n",
        "lista2 = [\"hola\" , 2 ,3]\n",
        "lista3 = lista2+[90]\n",
        "lista4 = list(\"ejemplo\")\n",
        "print(\"Listas\")\n",
        "print(lista1)\n",
        "print(lista1[0:2])\n",
        "print(\"lista2=\",lista2)\n",
        "print(lista3)\n",
        "print(lista4)"
      ]
    },
    {
      "cell_type": "markdown",
      "metadata": {
        "id": "IFrjugMDiicm"
      },
      "source": [
        "# Funciones <a name=\"funciones\"></a>"
      ]
    },
    {
      "cell_type": "code",
      "execution_count": null,
      "metadata": {
        "id": "vlrH4VYSiicm",
        "outputId": "dd8e3be4-102b-46da-a8a9-007e4b03b53b"
      },
      "outputs": [
        {
          "name": "stdout",
          "output_type": "stream",
          "text": [
            "Ejemplo 1: funciones\n",
            "De los siguientes números  [-5, -4, -3, -2, -1, 0, 1, 2, 3, 4] comprobamos cuáles son negativos\n",
            "-5  es un número negativo.\n",
            "-4  es un número negativo.\n",
            "-3  es un número negativo.\n",
            "-2  es un número negativo.\n",
            "-1  es un número negativo.\n",
            "\n",
            " Ejemplo 2: funciones\n",
            "Polinomio de grado n=2\n",
            " y coeficientes [$a_0,a_{1},..,a_{n-1},a_n$]=[1.0, 1.0, 1.0], en x=2.0 tiene un valor igual a =7.0\n",
            "\n",
            " Ejemplo 3: funciones\n",
            "Para la condición inicial (y0,v0)=( 100.0 m, 50.0 m/s)\n",
            "La velocidad para un cuerpo en caída libre en t= 5 (s), será de 227.375 m/s\n"
          ]
        }
      ],
      "source": [
        "# Funciones\n",
        "'''\n",
        "Ejemplo: encapsulamos parte del código de los ejemplos previos en una función\n",
        "'''\n",
        "print(\"Ejemplo 1: funciones\")\n",
        "\n",
        "def isnegative(x):\n",
        "    if(a<0.0): #Los paréntesis no son necesarios\n",
        "       print(a,\" es un número negativo.\")\n",
        "\n",
        "rango=list(range(-5,5)) # Más adelante entenderemos qué hace el método list\n",
        "\n",
        "print(\"De los siguientes números \",rango,\"comprobamos cuáles son negativos\")\n",
        "for a in range(-5,5):\n",
        "   isnegative(a)\n",
        "\n",
        "\n",
        "'''\n",
        "Ejemplo: cálculo de un polinomio de grado n\n",
        "'''\n",
        "print(\"\\n Ejemplo 2: funciones\")\n",
        "\n",
        "def polynomial(x,a):\n",
        "    result=0\n",
        "    n=len(a)-1\n",
        "    i=0\n",
        "    for factor in a:\n",
        "         result=result+factor*x**i\n",
        "         i=i+1\n",
        "    return result\n",
        "\n",
        "a=[1.0,1.0,1.0] # a_0*x**(0)+a_1*x**(1)+...a_n*x**n, donde n=len(a)\n",
        "x=2.0\n",
        "pol_x=polynomial(x,a)\n",
        "txt=\"Polinomio de grado n=\"+str(len(a)-1)+\"\\n y coeficientes [$a_0,a_{1},..,a_{n-1},a_n$]=\"+str(a)\n",
        "txt=txt+\", en x=\"+str(x)+\" tiene un valor igual a =\"+str(pol_x)\n",
        "print(txt)\n",
        "\n",
        "'''\n",
        "Ejemplo: cuerpo caída libre\n",
        "'''\n",
        "print(\"\\n Ejemplo 3: funciones\")\n",
        "def y_t(t,y0,v0):\n",
        "    g=9.81\n",
        "    return y0+v0*t-0.5*g*t**2\n",
        "y0=100.0 #m\n",
        "v0= 50.0 #m/s\n",
        "t = 5 #s\n",
        "print(\"Para la condición inicial (y0,v0)=(\",y0,\"m,\",v0,\"m/s)\")\n",
        "print(\"La velocidad para un cuerpo en caída libre en t=\",t,'(s), será de',y_t(t,y0,v0),\n",
        "      'm/s')"
      ]
    },
    {
      "cell_type": "markdown",
      "metadata": {
        "id": "6q6ekeK7iicn"
      },
      "source": [
        "# Bibliotecas <a name=\"bibliotecas\"></a>\n"
      ]
    },
    {
      "cell_type": "markdown",
      "metadata": {
        "id": "Vj_cKu_Viicn"
      },
      "source": [
        "\n",
        "## Numpy <a name=\"numpy\"></a>\n",
        "\n",
        "https://numpy.org/doc/stable/user/whatisnumpy.html"
      ]
    },
    {
      "cell_type": "code",
      "execution_count": null,
      "metadata": {
        "id": "R58tU50Siicn",
        "outputId": "be5792e9-32f3-4c71-d0be-953b2fd249d5"
      },
      "outputs": [
        {
          "name": "stdout",
          "output_type": "stream",
          "text": [
            "\n",
            " Ejemplo 1: Ejemplos básicos\n",
            "Dimensión= 2 Shape= (3, 4) Tipo= int32\n",
            "[[1 2 3 4]\n",
            " [1 2 3 4]\n",
            " [1 2 3 4]]\n",
            "[[0. 0. 0. 0.]\n",
            " [0. 0. 0. 0.]\n",
            " [0. 0. 0. 0.]]\n",
            "[[1. 0. 0.]\n",
            " [0. 1. 0.]\n",
            " [0. 0. 1.]]\n",
            "\n",
            " Ejemplo 2: operaciones con vectores de tipo element-wise \n",
            "[ 0.          1.05263158  2.10526316  3.15789474  4.21052632  5.26315789\n",
            "  6.31578947  7.36842105  8.42105263  9.47368421 10.52631579 11.57894737\n",
            " 12.63157895 13.68421053 14.73684211 15.78947368 16.84210526 17.89473684\n",
            " 18.94736842 20.        ]\n",
            "[  100.            99.82825485    88.7867036     66.87534626\n",
            "    34.09418283    -9.5567867    -64.07756233  -129.46814404\n",
            "  -205.72853186  -292.85872576  -390.85872576  -499.72853186\n",
            "  -619.46814404  -750.07756233  -891.5567867  -1043.90581717\n",
            " -1207.12465374 -1381.2132964  -1566.17174515 -1762.        ]\n"
          ]
        }
      ],
      "source": [
        "import numpy as np # numpy es la biblioteca con la que crear y operar con vectores/matrices y en general \"tensores\"\n",
        "\n",
        "'''\n",
        "Ejemplos básicos\n",
        "'''\n",
        "print(\"\\n Ejemplo 1: Ejemplos básicos\")\n",
        "x=np.array([[1,2,3,4],[1,2,3,4],[1,2,3,4]])\n",
        "print(\"Dimensión=\",x.ndim,\"Shape=\",x.shape,\"Tipo=\",x.dtype)\n",
        "print(x)\n",
        "y=np.zeros(x.shape) # Crear una matriz con las mismas características que otra y rellenarla de ceros\n",
        "print(y)\n",
        "z=np.identity(3) # Crea una matriz identidad nxn. En el ejemplo n=3\n",
        "print(z)\n",
        "\n",
        "'''\n",
        "Ejemplos : operaciones con vectores de tipo element-wise\n",
        "'''\n",
        "print(\"\\n Ejemplo 2: operaciones con vectores de tipo element-wise \")\n",
        "tmin,tmax= 0.0,20.0 #s\n",
        "nopto=20\n",
        "t=np.linspace(tmin,tmax,nopto) #Se define un vector de dimensión (nopto,), con valores en el intervalo [tmin,tmax]\n",
        "y=np.array(t) # copia el vector, matriz, en general tensor t.\n",
        "\n",
        "def y_t(t,y0,v0):\n",
        "    g=9.81\n",
        "    return y0+v0*t-0.5*g*t**2\n",
        "\n",
        "y0=100.0 #m\n",
        "v0= 5.0 #m/s\n",
        "\n",
        "'''\n",
        "Python permite cálculos \"element-wise\": un cálculo elemento a elemento de un vector.\n",
        "No hay problema en sustituir en un función lo que\n",
        "en principio son escalares (el tiempo t), por un vector/matriz/.... De la misma forma,\n",
        "el resultado de la función que en principio es un escalar, puede devolver un vector/matriz/...\n",
        "'''\n",
        "y=y_t(t,y0,v0)\n",
        "print(t)\n",
        "print(y)"
      ]
    },
    {
      "cell_type": "markdown",
      "metadata": {
        "id": "vLHzFpHpiicn"
      },
      "source": [
        "## Matplotlib <a name=\"matplotlib\"></a>\n",
        "\n",
        "https://matplotlib.org/stable/index.html"
      ]
    },
    {
      "cell_type": "code",
      "execution_count": null,
      "metadata": {
        "id": "qkd95L2eiico",
        "outputId": "028826c7-e918-4be1-d222-ab602e4b4570"
      },
      "outputs": [
        {
          "name": "stdout",
          "output_type": "stream",
          "text": [
            "\n",
            " Ejemplo 1: cuerpo en caída libre\n",
            "Para la condición inicial (y0,v0)=( 100.0 m, 5.0 m/s)\n"
          ]
        },
        {
          "name": "stderr",
          "output_type": "stream",
          "text": [
            "No handles with labels found to put in legend.\n"
          ]
        },
        {
          "data": {
            "image/png": "[encoded data removed]",
            "text/plain": [
              "<Figure size 360x360 with 1 Axes>"
            ]
          },
          "metadata": {
            "needs_background": "light"
          },
          "output_type": "display_data"
        },
        {
          "name": "stdout",
          "output_type": "stream",
          "text": [
            "\n",
            " Ejemplo 2: representación de un polinomio\n",
            "Polinomio de grado n=2 \n",
            "  y coeficientes [$a_0,a_{1},..,a_{n-1},a_n$]=[0.0, 1.0, -1.0]\n"
          ]
        },
        {
          "data": {
            "image/png": "[encoded data removed]",
            "text/plain": [
              "<Figure size 576x576 with 1 Axes>"
            ]
          },
          "metadata": {
            "needs_background": "light"
          },
          "output_type": "display_data"
        }
      ],
      "source": [
        "'''\n",
        "Ejemplo 1: representación gráfica de una función\n",
        "'''\n",
        "print(\"\\n Ejemplo 1: cuerpo en caída libre\")\n",
        "\n",
        "import numpy as np\n",
        "\n",
        "tmin,tmax= 0.0,10.0 #s\n",
        "nopto=100\n",
        "t=np.linspace(tmin,tmax,nopto) #Se define un vector de dimensión (nopto,), con valores en el intervalo [tmin,tmax]\n",
        "y=np.array(t) # copia el vector, matriz, en general tensor t.\n",
        "\n",
        "def y_t(t,y0,v0):\n",
        "    g=9.81\n",
        "    return y0+v0*t-0.5*g*t**2\n",
        "\n",
        "y0=100.0 #m\n",
        "v0= 5.0 #m/s\n",
        "y=y_t(t,y0,v0)\n",
        "\n",
        "print(\"Para la condición inicial (y0,v0)=(\",y0,\"m,\",v0,\"m/s)\")\n",
        "\n",
        "'''\n",
        "Elementos esenciales en una representación gráfica\n",
        "'''\n",
        "# Se llama a las bibliotecas necesarias\n",
        "import matplotlib.pyplot as plt\n",
        "import numpy as np\n",
        "\n",
        "fig,ax = plt.subplots(figsize=(5,5))\n",
        "ax.plot(t,y, color=\"blue\", linewidth=0,linestyle='--',marker=\".\",markersize=12)\n",
        "ax.set_ylabel(\"y(m)\")\n",
        "ax.set_xlabel(\"t(s)\")\n",
        "ax.legend()\n",
        "plt.show()\n",
        "\n",
        "'''\n",
        "Ejemplo 2: representación gráfica de una función\n",
        "'''\n",
        "print(\"\\n Ejemplo 2: representación de un polinomio\")\n",
        "\n",
        "def polynomial(x,a):\n",
        "    result=0\n",
        "    n=len(a)-1\n",
        "    i=0\n",
        "    for factor in a:\n",
        "         result=result+factor*x**i\n",
        "         i=i+1\n",
        "    return result\n",
        "\n",
        "# Se llama a las bibliotecas necesarias\n",
        "import matplotlib.pyplot as plt\n",
        "import numpy as np\n",
        "\n",
        "a=[0.0,1.0,-1.0] # a_0*x**(0)+a_1*x**(1)+...a_n*x**n, donde el grado del polinomio es n=len(a)-1\n",
        "txt=\"Polinomio de grado n=\"+str(len(a)-1)+\" \\n  y coeficientes [$a_0,a_{1},..,a_{n-1},a_n$]=\"+str(a)\n",
        "print(txt)\n",
        "xmin,xmax,nopto=-10.3,10.5,100\n",
        "'''\n",
        "Para cada valor asignado al vector x mediante el método np.linspace,\n",
        "la función polynomial calcula su valor volcándolo en el vector y.\n",
        "'''\n",
        "x=np.linspace(xmin,xmax,nopto) #Se define un vector de dimensión (nopto,), con valores en el intervalo [xmin,xmax]\n",
        "y1=polynomial(x,a)\n",
        "\n",
        "'''\n",
        "La forma equivalente utilizando el bucle for sería la siguiente (se parte de la definición previa de x)\n",
        "'''\n",
        "y2=np.array(x) #Crea un array idéntico a x\n",
        "for i in range(0,len(x)):\n",
        "    y2[i]=polynomial(x[i],a)\n",
        "'''\n",
        "Elementos esenciales en una representación gráfica\n",
        "'''\n",
        "fig,ax = plt.subplots(figsize=(8,8))\n",
        "ax.plot(x,y1, color=\"blue\", linewidth=0,linestyle='--',marker=\".\",markersize=12,label=txt)\n",
        "ax.plot(x,y2, color=\"red\", linewidth=3,linestyle='-')\n",
        "ax.set_title(\"$a_0+a_{1} x+...a_{n-1} x^{n-1}+a_n x^n$\")\n",
        "ax.set_ylabel(\"y\")\n",
        "ax.set_xlabel(\"x\")\n",
        "ax.legend()\n",
        "plt.show()"
      ]
    }
  ],
  "metadata": {
    "kernelspec": {
      "display_name": "Python 3",
      "language": "python",
      "name": "python3"
    },
    "language_info": {
      "codemirror_mode": {
        "name": "ipython",
        "version": 3
      },
      "file_extension": ".py",
      "mimetype": "text/x-python",
      "name": "python",
      "nbconvert_exporter": "python",
      "pygments_lexer": "ipython3",
      "version": "3.7.6"
    },
    "colab": {
      "provenance": [],
      "toc_visible": true,
      "include_colab_link": true
    }
  },
  "nbformat": 4,
  "nbformat_minor": 0
}