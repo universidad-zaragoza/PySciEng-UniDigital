{
  "cells": [
    {
      "cell_type": "markdown",
      "metadata": {
        "id": "view-in-github",
        "colab_type": "text"
      },
      "source": [
        "<a href=\"https://colab.research.google.com/github/IrisFDTD/PySciEng-UniDigital/blob/main/contenidos/oem_ondas_planas.ipynb\" target=\"_parent\"><img src=\"https://colab.research.google.com/assets/colab-badge.svg\" alt=\"Open In Colab\"/></a>"
      ]
    },
    {
      "cell_type": "markdown",
      "metadata": {
        "id": "ZyYxarWXICGB"
      },
      "source": [
        "<a rel=\"license\" href=\"http://creativecommons.org/licenses/by-nc-sa/4.0/\"><img alt=\"Licencia Creative Commons\" style=\"border-width:0\" src=\"https://i.creativecommons.org/l/by-nc-sa/4.0/88x31.png\" /></a><br /><span xmlns:dct=\"http://purl.org/dc/terms/\" property=\"dct:title\">Python en ciencias e ingeniería: tutoriales basados en ejemplos</span> por <span xmlns:cc=\"http://creativecommons.org/ns#\" property=\"cc:attributionName\">Sergio Gutiérrez Rodrigo y Adrián Navas Montilla</span> se distribuye bajo una <a rel=\"license\" href=\"http://creativecommons.org/licenses/by-nc-sa/4.0/\">Licencia Creative Commons Atribución-NoComercial-CompartirIgual 4.0 Internacional</a>."
      ]
    },
    {
      "cell_type": "markdown",
      "source": [
        "![image.png](data:image/png;base64,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)"
      ],
      "metadata": {
        "id": "PeoQMxuT0vO1"
      }
    },
    {
      "cell_type": "markdown",
      "source": [
        "---\n",
        "Producción de contenidos educativos digitales UNIZAR 2022-2023\n",
        "\n",
        "**Objetos de aprendizaje abiertos del Vicerrectorado de Educación Digital y Formación Permanente de la Universidad de Zaragoza en el marco del Proyecto UniProducción incluido en el Plan UniDigital.**\n",
        "---\n",
        "\n"
      ],
      "metadata": {
        "id": "hoiLyLRG1c5i"
      }
    },
    {
      "cell_type": "markdown",
      "metadata": {
        "id": "CzP4_HjkBhof"
      },
      "source": [
        "## <center> Ondas Electromagnéticas planas en distintos medios </center>\n",
        "\n",
        "\n",
        "-----------------------------------------"
      ]
    },
    {
      "cell_type": "markdown",
      "metadata": {
        "id": "TfuwPY3JNp0P"
      },
      "source": [
        "+ La primera parte de este notebook contiene un resumen de la teoría que hay detrás de las Ondas Electromagnéticas (OEM).\n",
        "+ En el apartado *Ondas planas en medios conductores* se explican las propiedades de propagación de las OEM en estos medios mediante ejemplos numérios implementados con Python."
      ]
    },
    {
      "cell_type": "markdown",
      "metadata": {
        "id": "7e3S-KiRPnGi"
      },
      "source": [
        "### Ecuaciones separadas para $\\mathbf{E}$ y $\\mathbf{B}$\n",
        "\n",
        "No existen cargas ni corrientes libres:\n",
        "$$\n",
        "\\begin{aligned}\n",
        "\\nabla \\cdot \\mathbf{E}(\\mathbf{r}, t) &=0 \\\\\n",
        "\\nabla \\times \\mathbf{E}(\\mathbf{r}, t) &=-\\frac{\\partial}{\\partial t} \\mathbf{B}(\\mathbf{r}, t) \\\\\n",
        "\\nabla \\cdot \\mathbf{B}(\\mathbf{r}, t) &=0\\\\\n",
        "\\nabla \\times \\mathbf{B}(\\mathbf{r}, t) &=\\mu \\sigma \\mathbf{E}(\\mathbf{r}, t)+\\mu\\varepsilon\\frac{\\partial}{\\partial t} \\mathbf{E}(\\mathbf{r}, t)\\\\\n",
        "\\end{aligned}\n",
        "$$\n"
      ]
    },
    {
      "cell_type": "markdown",
      "metadata": {
        "id": "e_m7gHCuRs2z"
      },
      "source": [
        "Se toma el rotacional de la ley de Faraday\n",
        "\n",
        "$\\nabla \\times \\nabla \\times \\mathbf{E} =-\\dfrac{\\partial (\\nabla \\times\\mathbf{B})}{\\partial t}$\n",
        "\n",
        "..."
      ]
    },
    {
      "cell_type": "markdown",
      "metadata": {
        "id": "02r8dxO3SUwJ"
      },
      "source": [
        "Ecuación de ondas:\n",
        "\n",
        "$$\\nabla^2 \\mathbf{E} -\\mu \\sigma \\dfrac{\\partial \\mathbf{E}}{\\partial t}-\\mu\\varepsilon\\dfrac{\\partial^2 \\mathbf{E}}{\\partial t^2} =0 \\\\\n",
        "\\nabla^2 \\mathbf{B} -\\mu \\sigma \\dfrac{\\partial \\mathbf{B}}{\\partial t}-\\mu\\varepsilon\\dfrac{\\partial^2 \\mathbf{B}}{\\partial t^2} =0\n",
        "$$"
      ]
    },
    {
      "cell_type": "markdown",
      "metadata": {
        "id": "KwAQ6R9ti9u6"
      },
      "source": [
        "$\\nabla^2 \\psi -\\mu \\sigma \\dfrac{\\partial \\psi}{\\partial t}-\\mu\\varepsilon\\dfrac{\\partial^2 \\psi}{\\partial t^2} =0 $\n",
        "\n",
        "donde $\\psi$ es cada una de las componentes del campo eléctrico o magnético"
      ]
    },
    {
      "cell_type": "markdown",
      "metadata": {
        "id": "-l_cluRaTkjp"
      },
      "source": [
        "### Ondas planas en medios no conductores"
      ]
    },
    {
      "cell_type": "markdown",
      "metadata": {
        "id": "bnFnth0vjTIy"
      },
      "source": [
        "$\\nabla^2 \\psi -\\mu\\varepsilon\\dfrac{\\partial^2 \\psi}{\\partial t^2} =0 $"
      ]
    },
    {
      "cell_type": "markdown",
      "metadata": {
        "id": "3yHesvIbgnvq"
      },
      "source": [
        "La luz es una onda EM:\n",
        "\n",
        "$\\psi(x,t)=f(x-vt)+g(x+vt)$ es una solución genérica de las ecuaciones de onda\n",
        "\n",
        "Para\n",
        "$f(x-vt), w=x-vt \\rightarrow (1-v^2\\mu \\varepsilon)\\dfrac{\\partial^2 f}{\\partial w^2}=0$\n",
        "\n",
        "Y por lo tanto:\n",
        "$$v=\\dfrac{1}{\\sqrt{\\mu \\varepsilon}}$$\n",
        "donde:\n",
        "+ $\\psi$ es una de las componentes del campo eléctrico o magnético\n",
        "+ Igual con $g(x+vt)$\n",
        "+ $v=c/n$ y $n=\\sqrt {\\varepsilon_r \\mu_r}$"
      ]
    },
    {
      "cell_type": "markdown",
      "metadata": {
        "id": "X5hxZCORxBqx"
      },
      "source": [
        "Si  $\\nabla^2 \\psi=\\dfrac{1}{v^2}\\dfrac{\\partial^2 \\psi}{\\partial t^2} $ y\n",
        "$\\psi(x,t)=X(x)T(t) \\Rightarrow$\n",
        "\n",
        "\n",
        "$\\dfrac{d^2 X}{d x^2} +k^2 X=0$\n",
        "\n",
        "$\\dfrac{ d^2 T}{d t^2}+\\omega^2 T=0$\n",
        "\n",
        "donde $k^2=\\dfrac{\\omega^2}{v^2}$ es la relación de dispersión\n",
        "\n",
        "...\n",
        "\n",
        "Para una onda viajera en la dirección $x$ se llega a que:\n",
        "\n",
        "$\\mathbf{E}=\\mathbf{E}_0 e^{\\imath(kx - \\omega t)}$\n",
        "\n",
        "$\\mathbf{B}=\\mathbf{B}_0 e^{\\imath(kx - \\omega t)}$\n",
        "\n",
        "Y para una dirección cualquiera:\n",
        "\n",
        "$\\mathbf{E}=\\mathbf{E}_0 e^{\\imath(\\mathbf{k} \\mathbf{r} - \\omega t)}$\n",
        "\n",
        "$\\mathbf{B}=\\mathbf{B}_0 e^{\\imath(\\mathbf{k} \\mathbf{r} - \\omega t)}$\n",
        "\n",
        "siendo $\\mathbf{k}=k_x\\mathbf{\\hat x}+k_y\\mathbf{\\hat y}+k_z\\mathbf{\\hat z}$\n"
      ]
    },
    {
      "cell_type": "markdown",
      "metadata": {
        "id": "lfQMBJ733px1"
      },
      "source": [
        "Medios no conductores"
      ]
    },
    {
      "cell_type": "markdown",
      "metadata": {
        "id": "NCgNCMyw043v"
      },
      "source": [
        "Las ecuaciones de Maxwell\n",
        "$$\n",
        "\\begin{aligned}\n",
        "\\nabla \\cdot \\mathbf{E}(\\mathbf{r}, t) &=0 \\\\\n",
        "\\nabla \\times \\mathbf{E}(\\mathbf{r}, t) &=-\\frac{\\partial}{\\partial t} \\mathbf{B}(\\mathbf{r}, t) \\\\\n",
        "\\nabla \\cdot \\mathbf{B}(\\mathbf{r}, t) &=0\\\\\n",
        "\\nabla \\times \\mathbf{B}(\\mathbf{r}, t) &=\\mu\\varepsilon\\frac{\\partial}{\\partial t} \\mathbf{E}(\\mathbf{r}, t)\\\\\n",
        "\\end{aligned}\n",
        "$$\n",
        "\n",
        "se pueden escribir entonces\n",
        "\n",
        "$$\n",
        "\\begin{aligned}\n",
        "\\mathbf{k} \\cdot \\mathbf{E} &=0 \\\\\n",
        "\\mathbf{k} \\times \\mathbf{E} &=\\omega \\mathbf{B} \\\\\n",
        "\\mathbf{k} \\cdot \\mathbf{B} &=0\\\\\n",
        "\\mathbf{k} \\times \\mathbf{B} &=- \\omega \\mu\\varepsilon\\mathbf{E}\\\\\n",
        "\\end{aligned}\n",
        "$$\n",
        "\n",
        "y por lo tanto\n",
        "$$\n",
        "\\mathbf{B}=\\dfrac{k}{\\omega}\\mathbf{\\hat k} \\times \\mathbf{E}\n",
        "$$\n"
      ]
    },
    {
      "cell_type": "markdown",
      "metadata": {
        "id": "fjzJf3mNq0Aa"
      },
      "source": [
        "Casi siempre estaremos interesados en el promedio temporal de $\\mathbf{S}$\n",
        "\n",
        "+ Asumiendo que los campos son armónicos, lineales y no dispersivos\n",
        "$$\n",
        "\\langle -\\int_{V}\\left[\\mathbf{H} \\cdot \\frac{\\partial \\mathbf{B}}{\\partial t}+\\mathbf{E} \\cdot \\frac{\\partial \\mathbf{D}}{\\partial t}\\right] d V \\rangle= 0$$\n",
        "\n",
        "Además, suponemos que la densidad de energía solo tiene en cuenta las corrientes de polarización y magnetización que están libres de pérdidas, es decir, todas las pérdidas están asociadas con el término $\\mathbf{J} \\cdot \\mathbf{E}$. De ahí que el promedio temporal resulta ser:\n",
        "$$\n",
        "\\oint_{A}\\langle\\mathbf{S}(\\mathbf{r})\\rangle \\cdot \\mathbf{n} d a=-\\frac{1}{2} \\int_{V} \\operatorname{Re}\\left\\{\\mathbf{J}^{*}(\\mathbf{r}) \\cdot \\mathbf{E}(\\mathbf{r})\\right\\} d V\n",
        "$$\n",
        "donde hemos usado notación compleja. El término de la derecha define la disipación de energía media dentro del volumen $V$.\n",
        "\n",
        "$\\langle\\mathbf{S}\\rangle$ representa el promedio temporal del vector de Poynting\n",
        "$$\n",
        "\\langle\\mathbf{S}(\\mathbf{r})\\rangle=\\frac{1}{2} \\operatorname{Re}\\left\\{\\mathbf{E}(\\mathbf{r}) \\times \\mathbf{H}^{*}(\\mathbf{r})\\right\\}\n",
        "$$\n",
        "La magnitud $\\langle\\mathbf{S}\\rangle$ se conoce como intensidad  $I(\\mathbf{r})=|\\langle\\mathbf{S}(\\mathbf{r})\\rangle|$.\n",
        "\n"
      ]
    },
    {
      "cell_type": "markdown",
      "metadata": {
        "id": "anvkEAnFq5R6"
      },
      "source": [
        "En el campo lejano, es decir, lejos de las fuentes y los límites materiales, el campo electromagnético puede aproximarse localmente mediante una onda plana.\n",
        "Los campos eléctrico y magnético están en fase, perpendiculares entre sí, y la relación de sus amplitudes es constante.\n",
        "\n",
        "Entonces $\\langle\\mathbf{S}\\rangle$ se puede expresar por el campo eléctrico solo como\n",
        "$$\n",
        "\\langle\\mathbf{S}(\\mathbf{r})\\rangle=\\frac{1}{2} \\frac{1}{Z_{i}}|\\mathbf{E}(\\mathbf{r})|^{2} \\mathbf{n}_{r}=\\frac{1}{2} \\sqrt{\\frac{\\varepsilon_{0}}{\\mu_{0}}} n_{i}|\\mathbf{E}(\\mathbf{r})|^{2}\n",
        "$$\n",
        "donde $\\mathbf{n}_{r}$ representa el vector unitario en la dirección radial, $n_{i}=\\sqrt{\\varepsilon_{i} \\mu_{i}}$ es el índice de refracción, y $Z_{i}$ es la impedancia.\n",
        "\n",
        "La integral de superficie $\\langle\\mathbf{S}\\rangle$ se corresponde con la potencia total generada o disipada en el interior de la superficie cerrada, esto es,\n",
        "$$\n",
        "\\bar{P}=\\oint_{A}\\langle\\mathbf{S}(\\mathbf{r})\\rangle \\cdot \\mathbf{n} d a=\\oint_{A} I(\\mathbf{r}) d a\n",
        "$$\n",
        "\n",
        "Se puede demostrar también que:\n",
        "\n",
        "$$\\langle\\mathbf{S}(\\mathbf{r})\\rangle=\\langle u(\\mathbf{r})\\rangle \\mathbf{v}(\\mathbf{r})$$\n",
        "donde:\n",
        "+ $\\langle u(\\mathbf{r})\\rangle$ es el promedio de la densidad total de energía.\n",
        "+$\\mathbf{v}(\\mathbf{r})$ la velocidad de fase en el medio."
      ]
    },
    {
      "cell_type": "markdown",
      "metadata": {
        "id": "geqlVOGO3mPv"
      },
      "source": [
        "###  Ondas planas en medios conductores"
      ]
    },
    {
      "cell_type": "markdown",
      "metadata": {
        "id": "TR4mHglA3mee"
      },
      "source": [
        "Las ecuaciones de Maxwell\n",
        "\n",
        "$\n",
        "\\begin{aligned}\n",
        "\\nabla \\cdot \\mathbf{E}(\\mathbf{r}, t) &=0 \\\\\n",
        "\\nabla \\times \\mathbf{E}(\\mathbf{r}, t) &=-\\frac{\\partial}{\\partial t} \\mathbf{B}(\\mathbf{r}, t) \\\\\n",
        "\\nabla \\cdot \\mathbf{B}(\\mathbf{r}, t) &=0\\\\\n",
        "\\nabla \\times \\mathbf{B}(\\mathbf{r}, t) &=\\mu \\sigma \\mathbf{E}(\\mathbf{r}, t)+\\mu\\varepsilon\\frac{\\partial}{\\partial t} \\mathbf{E}(\\mathbf{r}, t)\\\\\n",
        "\\end{aligned}\n",
        "$\n",
        "\n",
        "se pueden escribir entonces\n",
        "\n",
        "$\n",
        "\\begin{aligned}\n",
        "\\mathbf{k} \\cdot \\mathbf{E} &=0 \\\\\n",
        "\\mathbf{k} \\times \\mathbf{E} &=\\omega \\mathbf{B} \\\\\n",
        "\\mathbf{k} \\cdot \\mathbf{B} &=0\\\\\n",
        "\\mathbf{k} \\times \\mathbf{B} &=- (\\imath \\mu\\sigma +\\omega \\mu\\varepsilon)\\mathbf{E}\\\\\n",
        "\\end{aligned}\n",
        "$\n",
        "\n",
        "y por lo tanto\n",
        "$\n",
        "\\mathbf{B}=\\dfrac{k}{\\omega}\\mathbf{\\hat k} \\times \\mathbf{E}\n",
        "$\n"
      ]
    },
    {
      "cell_type": "markdown",
      "metadata": {
        "id": "n3CIaUQM4Aoz"
      },
      "source": [
        "$\\nabla^2 \\psi -\\mu \\sigma \\dfrac{\\partial \\psi}{\\partial t}-\\mu\\varepsilon\\dfrac{\\partial^2 \\psi}{\\partial t^2} =0 $\n",
        "\n",
        "$\\psi$ es cada una de las componentes del campo eléctrico o magnético\n",
        "\n",
        "Para\n",
        "$\\psi=\\psi_0 e^{\\imath(kx - \\omega t)}$ encontramos que $k^2=\\omega^2\\mu \\varepsilon+\\imath \\omega \\mu\\sigma $\n",
        "\n",
        "Si se toma $k=\\pm (k_r+\\imath k_i) \\Rightarrow $ $\\psi=\\psi_0 e^{-k_i x} e^{\\imath(k_rx - \\omega t)}$"
      ]
    },
    {
      "cell_type": "markdown",
      "metadata": {
        "id": "_tVqeRYr7qpk"
      },
      "source": [
        "$$\n",
        "\\begin{aligned}\n",
        "&k_r=\\omega \\sqrt{\\dfrac{\\mu \\varepsilon}{2}}[\\sqrt{1+(\\dfrac{\\sigma}{\\omega \\varepsilon})^2}+1]^{1/2} \\\\\n",
        "&k_i=\\omega \\sqrt{\\dfrac{\\mu \\varepsilon}{2}}[\\sqrt{1+(\\dfrac{\\sigma}{\\omega \\varepsilon})^2}-1]^{1/2}\n",
        "\\end{aligned}\n",
        "$$"
      ]
    },
    {
      "cell_type": "markdown",
      "metadata": {
        "id": "Kx9Z-YKw6xYF"
      },
      "source": [
        "Discusión sobre:\n",
        "+ Longitud de onda $\\lambda = 2 \\pi/k_r$\n",
        "\n",
        "+ Profundidad de penetración $\\delta =1/k_i$\n",
        "\n",
        "+ Índice de refracción $n=n_r+\\imath n_i=c k/\\omega$\n",
        "\n",
        "+ Velocidad en el medio $v=c/n$\n",
        "\n",
        "+ Desfase entre $\\mathbf{B}$ y $\\mathbf{E}$\n",
        "\n",
        "+ Definición del factor de calidad $Q=\\dfrac{\\omega \\varepsilon}{\\sigma}$ e interpretación física $Q=\\dfrac{\\vert \\frac{\\partial}{\\partial t} \\mathbf{D}\\vert}{\\vert \\mathbf{J_{cond}} \\vert}$\n",
        "+ Distintos regímenes según el factor de\n",
        "    calidad $Q \\rightarrow$ Aislante vs Conductor."
      ]
    },
    {
      "cell_type": "markdown",
      "metadata": {
        "id": "Wf5kRPZaXWpE"
      },
      "source": [
        "Modelo microscópico de la conductividad.\n",
        "\n",
        "\n",
        "$$\\mathbf{F}=m\\mathbf{a}=-e\\mathbf{E}-\\gamma\\mathbf{v}$$\n",
        "\n",
        "Para un campo estático la conductividad resulta ser:\n",
        "$$ \\sigma_0=\\dfrac{ne^2}{\\gamma}$$\n",
        "\n",
        "Para la excitación mediante una OEM de la forma $\\mathbf{E}=\\mathbf{E}_0 e^{\\imath(\\mathbf{k} \\mathbf{r} - \\omega t)}=\\mathbf{E}(\\mathbf{r}) e^{-\\imath \\omega t}$ y teniendo en cuenta que:\n",
        "+ $\\mathbf{v}=\\mathbf{v}_0 e^{-\\imath \\omega t}$\n",
        "+ $\\mathbf{J}=\\sigma \\mathbf{E}$\n",
        "+ $\\mathbf{J}=-ne\\mathbf{v}$\n",
        "\n",
        "Entonces:\n",
        "$$ \\sigma(\\omega)=\\sigma_R+\\imath\\sigma_I=\\dfrac{ne^2}{\\gamma-\\imath m \\omega}=\\dfrac{ne^2/\\gamma}{1-\\imath m \\omega/\\gamma}=\\dfrac{\\sigma_0}{1-\\imath(\\sigma_0 m\\omega/ne^2)}$$\n",
        "\n",
        "Esta conductividad da lugar a una relación de dispersión:\n",
        "\n",
        "$$k^2=\\omega^2\\mu(\\varepsilon+\\imath \\sigma(\\omega)/\\omega)$$\n",
        "\n",
        "tal que\n",
        "$$\n",
        "\\begin{aligned}\n",
        "&k_r=\\omega \\sqrt{\\dfrac{\\mu \\varepsilon}{2}}[\\sqrt{1+(\\dfrac{\\sigma_R(\\omega)}{\\omega \\varepsilon(\\omega)})^2}+1]^{1/2} \\\\\n",
        "&k_i=\\omega \\sqrt{\\dfrac{\\mu \\varepsilon}{2}}[\\sqrt{1+(\\dfrac{\\sigma_R(\\omega)}{\\omega \\varepsilon(\\omega)})^2}-1]^{1/2}\n",
        "\\end{aligned}$$\n",
        "donde\n",
        "$\\varepsilon(\\omega)=\\varepsilon-\\dfrac{\\sigma_I}{\\omega}$\n"
      ]
    },
    {
      "cell_type": "markdown",
      "metadata": {
        "id": "zL8jHQD2JFHg"
      },
      "source": [
        "Límite $m \\omega/\\gamma \\lll 1$  ó  $\\omega\\lll ne^2/\\sigma_0 m$"
      ]
    },
    {
      "cell_type": "code",
      "execution_count": null,
      "metadata": {
        "id": "O2aPEZJ1V5iF"
      },
      "outputs": [],
      "source": [
        "from math import pi\n",
        "eps0=8.8541878176e-12 #F/m\n",
        "e=1.6e-19    # C\n",
        "m=9.11e-31   # kg\n",
        "#Cobre\n",
        "n=8.5e28     # m-3\n",
        "sigma0=6.0e7 #(ohm-metro)-1\n",
        "def sigma(omega):\n",
        "  resigma=sigma0/(1+(sigma0*m*omega/(n*e**2))**2)\n",
        "  imsigma=resigma*(sigma0*m*omega/(n*e**2))\n",
        "  return resigma,imsigma"
      ]
    },
    {
      "cell_type": "markdown",
      "metadata": {
        "id": "syI6qoaFPy8k"
      },
      "source": [
        "$$ \\sigma(\\omega)=\\sigma_R+\\imath\\sigma_I=\\dfrac{\\sigma_0}{1+(\\sigma_0 m\\omega/ne^2)^2} \\left(1+\\imath\\dfrac{\\sigma_0 m\\omega}{ne^2} \\right )$$"
      ]
    },
    {
      "cell_type": "code",
      "execution_count": null,
      "metadata": {
        "colab": {
          "base_uri": "https://localhost:8080/",
          "height": 552
        },
        "id": "mS-XxN3JbYTs",
        "outputId": "a592c8f9-82e8-45a0-d145-0e0c85626136"
      },
      "outputs": [
        {
          "data": {
            "image/png": "[encoded data removed]",
            "text/plain": [
              "<Figure size 432x288 with 1 Axes>"
            ]
          },
          "metadata": {
            "needs_background": "light"
          },
          "output_type": "display_data"
        },
        {
          "data": {
            "image/png": "[encoded data removed]",
            "text/plain": [
              "<Figure size 432x288 with 1 Axes>"
            ]
          },
          "metadata": {
            "needs_background": "light"
          },
          "output_type": "display_data"
        }
      ],
      "source": [
        "import numpy as np\n",
        "import matplotlib.pyplot as plt\n",
        "N = 1000\n",
        "\n",
        "#Microondas\n",
        "nuini=300.0e6 #Hz (Microondas, lambda=1m)\n",
        "nufin=3.0e12  #Hz (Terahercios, lambda=100mu)\n",
        "\n",
        "freq = np.linspace(nuini, nufin, N)\n",
        "sigma_real,sigma_imag=sigma(2.0*pi*freq)\n",
        "\n",
        "# Re(Sigma)\n",
        "fig, ax  = plt.subplots()\n",
        "ax.plot(freq,sigma_real/sigma0)\n",
        "ax.set_xlabel(r'$\\nu$(Hz)')\n",
        "ax.set_ylabel(\"$Re(\\sigma)/\\sigma_0$\")\n",
        "ax.set_ylim(0,1.2)\n",
        "plt.show()\n",
        "\n",
        "# Im(Sigma)\n",
        "fig, ax  = plt.subplots() #genera el objeto \"figura\"\n",
        "ax.plot(freq,sigma_imag/sigma0)          #pinta la gráfica\n",
        "ax.set_xlabel(r'$\\nu$(Hz)')\n",
        "ax.set_ylabel(\"$Im(\\sigma)/\\sigma_0$\")\n",
        "plt.show()"
      ]
    },
    {
      "cell_type": "markdown",
      "metadata": {
        "id": "Jdx2qRe5LAG5"
      },
      "source": [
        "Límite $m \\omega/\\gamma \\ggg 1$  ó  $\\omega\\ggg ne^2/\\sigma_0 m$\n",
        "\n",
        "$ \\sigma(\\omega) \\approx \\imath \\left ( \\dfrac{ne^2}{m\\omega} \\right )$\n",
        "\n",
        "$k^2=\\omega^2\\mu\\varepsilon\\left (1-  \\dfrac{ne^2}{m \\varepsilon \\omega^2} \\right )=\\omega^2\\mu\\varepsilon_0\\left (\\varepsilon_r-\\dfrac{\\omega_p^2}{\\omega^2} \\right )$\n",
        "\n",
        "$\\omega_p^2=\\dfrac{ne^2}{m \\varepsilon_0}$ es la frecuencia de plasma.\n",
        "\n",
        "En materiales no magnéticos como los metales $\\mu_r \\approx 1$ y por lo tanto:\n",
        "$k^2=\\dfrac{\\omega^2}{c^2}\\left (\\varepsilon_r-\\dfrac{\\omega_p^2}{\\omega^2} \\right )$\n",
        "\n",
        "Y por lo tanto el índice de refracción es $n^2=\\varepsilon(\\omega)=\\varepsilon_r-\\dfrac{\\omega_p^2}{\\omega^2}$"
      ]
    },
    {
      "cell_type": "code",
      "execution_count": null,
      "metadata": {
        "id": "qTmFPVPgxMM6"
      },
      "outputs": [],
      "source": [
        "def epsilon(omega):\n",
        "  eps_r=1.0\n",
        "  wp=np.sqrt(n*e**2/(m*eps0))\n",
        "  print(\"Frecuencia de plasma (Hz)\",wp)\n",
        "  print(\"Longitud de onda (nm)\",round(2.0*pi*c*1e9/wp,1))\n",
        "  return eps_r-(wp/omega)**2"
      ]
    },
    {
      "cell_type": "code",
      "execution_count": null,
      "metadata": {
        "colab": {
          "base_uri": "https://localhost:8080/",
          "height": 317
        },
        "id": "NRpZsMQYxJwy",
        "outputId": "f94a5ebd-1e3f-449e-967d-72e604928f3d"
      },
      "outputs": [
        {
          "name": "stdout",
          "output_type": "stream",
          "text": [
            "Frecuencia de plasma (Hz) 1.6424641233724826e+16\n",
            "Longitud de onda (nm) 114.7\n"
          ]
        },
        {
          "data": {
            "image/png": "[encoded data removed]",
            "text/plain": [
              "<Figure size 432x288 with 1 Axes>"
            ]
          },
          "metadata": {
            "needs_background": "light"
          },
          "output_type": "display_data"
        }
      ],
      "source": [
        "import numpy as np\n",
        "import matplotlib.pyplot as plt\n",
        "N = 1000\n",
        "#VISIBLE INFRARROJO\n",
        "nuini=30.0e12 #Hz (INFRARROJO, lambda=1 micra)\n",
        "nufin=750.0e12  #Hz (VISIBLE lambda=400 nm)\n",
        "\n",
        "freq = np.linspace(nuini, nufin, N)\n",
        "eps=epsilon(2.0*pi*freq)\n",
        "\n",
        "#Re(epsilon)\n",
        "fig, ax  = plt.subplots()\n",
        "ax.plot(freq,eps)\n",
        "ax.set_xlabel(r'$\\nu$(Hz)')\n",
        "ax.set_ylabel(\"$Re(\\epsilon)$\")\n",
        "plt.show()"
      ]
    },
    {
      "cell_type": "code",
      "execution_count": null,
      "metadata": {
        "id": "Nyk2LAhJLAG5"
      },
      "outputs": [],
      "source": [
        "from math import pi\n",
        "#Cobre\n",
        "e=1.6e-19    # C\n",
        "m=9.11e-31   # kg\n",
        "n=8.5e28     # m-3\n",
        "sigma0=6.0e7 #(ohm-metro)-1\n",
        "def sigma(omega):\n",
        "  resigma=sigma0/(1+(sigma0*m*omega/(n*e**2))**2)\n",
        "  imsigma=resigma*(sigma0*m*omega/(n*e**2))\n",
        "  return resigma,imsigma"
      ]
    },
    {
      "cell_type": "code",
      "execution_count": null,
      "metadata": {
        "colab": {
          "base_uri": "https://localhost:8080/"
        },
        "id": "E5JzqZlaLUKP",
        "outputId": "6c38d185-93ca-47dd-a775-cab9918b59dc"
      },
      "outputs": [
        {
          "name": "stdout",
          "output_type": "stream",
          "text": [
            "3.997232773333333e-07\n"
          ]
        }
      ],
      "source": [
        "nu=750.0e12\n",
        "omega=2.0*pi*nu\n",
        "c=299792458 #m/s\n",
        "print(c/nu)"
      ]
    },
    {
      "cell_type": "code",
      "execution_count": null,
      "metadata": {
        "colab": {
          "base_uri": "https://localhost:8080/",
          "height": 569
        },
        "id": "O9GD_ersLAG6",
        "outputId": "7e8f1757-1e1d-42fa-c8c9-6734b355156a"
      },
      "outputs": [
        {
          "data": {
            "image/png": "[encoded data removed]",
            "text/plain": [
              "<Figure size 432x288 with 1 Axes>"
            ]
          },
          "metadata": {
            "needs_background": "light"
          },
          "output_type": "display_data"
        },
        {
          "data": {
            "image/png": "[encoded data removed]",
            "text/plain": [
              "<Figure size 432x288 with 1 Axes>"
            ]
          },
          "metadata": {
            "needs_background": "light"
          },
          "output_type": "display_data"
        }
      ],
      "source": [
        "import numpy as np\n",
        "import matplotlib.pyplot as plt\n",
        "N = 1000\n",
        "\n",
        "#VISIBLE INFRARROJO\n",
        "nuini=30.0e12 #Hz (INFRARROJO, lambda=1 micra)\n",
        "nufin=750.0e12  #Hz (VISIBLE lambda=400 nm)\n",
        "\n",
        "freq = np.linspace(nuini, nufin, N)\n",
        "sigma_real,sigma_imag=sigma(2.0*pi*freq)\n",
        "sigma_aprox=n*e**2/(m*2.0*pi*freq)\n",
        "\n",
        "#Re(Sigma)\n",
        "fig, ax  = plt.subplots()\n",
        "ax.plot(freq,sigma_real)\n",
        "ax.set_xlabel(r'$\\nu$(Hz)')\n",
        "ax.set_ylabel(\"$Re(\\sigma)$\")\n",
        "plt.show()\n",
        "\n",
        "#Im(Sigma)\n",
        "fig, ax  = plt.subplots()\n",
        "ax.plot(freq,sigma_imag,label='exacta')\n",
        "ax.plot(freq,sigma_aprox,'--',label='aproximada')\n",
        "ax.set_xlabel(r'$\\nu$(Hz)')\n",
        "ax.set_ylabel(\"$Im(\\sigma)$\")\n",
        "plt.legend()\n",
        "\n",
        "plt.show()"
      ]
    }
  ],
  "metadata": {
    "colab": {
      "provenance": [],
      "toc_visible": true,
      "authorship_tag": "ABX9TyNNorP9lZ0Wl8kuB9R7go67",
      "include_colab_link": true
    },
    "kernelspec": {
      "display_name": "Python 3",
      "language": "python",
      "name": "python3"
    },
    "language_info": {
      "codemirror_mode": {
        "name": "ipython",
        "version": 3
      },
      "file_extension": ".py",
      "mimetype": "text/x-python",
      "name": "python",
      "nbconvert_exporter": "python",
      "pygments_lexer": "ipython3",
      "version": "3.7.6"
    }
  },
  "nbformat": 4,
  "nbformat_minor": 0
}